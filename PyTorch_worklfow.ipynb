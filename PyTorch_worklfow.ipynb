{
  "nbformat": 4,
  "nbformat_minor": 0,
  "metadata": {
    "colab": {
      "provenance": [],
      "authorship_tag": "ABX9TyPkaNKCCjaBr3nYboL6+rV1",
      "include_colab_link": true
    },
    "kernelspec": {
      "name": "python3",
      "display_name": "Python 3"
    },
    "language_info": {
      "name": "python"
    },
    "accelerator": "GPU",
    "gpuClass": "standard",
    "widgets": {
      "application/vnd.jupyter.widget-state+json": {
        "0f6a2cb652d4412994914194b878aeec": {
          "model_module": "@jupyter-widgets/controls",
          "model_name": "HBoxModel",
          "model_module_version": "1.5.0",
          "state": {
            "_dom_classes": [],
            "_model_module": "@jupyter-widgets/controls",
            "_model_module_version": "1.5.0",
            "_model_name": "HBoxModel",
            "_view_count": null,
            "_view_module": "@jupyter-widgets/controls",
            "_view_module_version": "1.5.0",
            "_view_name": "HBoxView",
            "box_style": "",
            "children": [
              "IPY_MODEL_17e89941b2a643f4a18f4b661c1e6726",
              "IPY_MODEL_cba32f0effbe40f59928c07f695edee1",
              "IPY_MODEL_f0906778c1344c688e2b4d25ec5a6107"
            ],
            "layout": "IPY_MODEL_2faf7fb37da04b9181736361ef1b387a"
          }
        },
        "17e89941b2a643f4a18f4b661c1e6726": {
          "model_module": "@jupyter-widgets/controls",
          "model_name": "HTMLModel",
          "model_module_version": "1.5.0",
          "state": {
            "_dom_classes": [],
            "_model_module": "@jupyter-widgets/controls",
            "_model_module_version": "1.5.0",
            "_model_name": "HTMLModel",
            "_view_count": null,
            "_view_module": "@jupyter-widgets/controls",
            "_view_module_version": "1.5.0",
            "_view_name": "HTMLView",
            "description": "",
            "description_tooltip": null,
            "layout": "IPY_MODEL_ba999bc56faf4571bdb07fca011da5c1",
            "placeholder": "​",
            "style": "IPY_MODEL_88a63e70f6484cc39909e671746ae858",
            "value": "100%"
          }
        },
        "cba32f0effbe40f59928c07f695edee1": {
          "model_module": "@jupyter-widgets/controls",
          "model_name": "FloatProgressModel",
          "model_module_version": "1.5.0",
          "state": {
            "_dom_classes": [],
            "_model_module": "@jupyter-widgets/controls",
            "_model_module_version": "1.5.0",
            "_model_name": "FloatProgressModel",
            "_view_count": null,
            "_view_module": "@jupyter-widgets/controls",
            "_view_module_version": "1.5.0",
            "_view_name": "ProgressView",
            "bar_style": "success",
            "description": "",
            "description_tooltip": null,
            "layout": "IPY_MODEL_3f85da4208164835b74809092296b334",
            "max": 26421880,
            "min": 0,
            "orientation": "horizontal",
            "style": "IPY_MODEL_0b4f43dfd75c48c6806bb635f33c2d74",
            "value": 26421880
          }
        },
        "f0906778c1344c688e2b4d25ec5a6107": {
          "model_module": "@jupyter-widgets/controls",
          "model_name": "HTMLModel",
          "model_module_version": "1.5.0",
          "state": {
            "_dom_classes": [],
            "_model_module": "@jupyter-widgets/controls",
            "_model_module_version": "1.5.0",
            "_model_name": "HTMLModel",
            "_view_count": null,
            "_view_module": "@jupyter-widgets/controls",
            "_view_module_version": "1.5.0",
            "_view_name": "HTMLView",
            "description": "",
            "description_tooltip": null,
            "layout": "IPY_MODEL_ee08b24060bb4e4d8801754196680c4b",
            "placeholder": "​",
            "style": "IPY_MODEL_3f953e44de484f0aaeb509efc5efb44c",
            "value": " 26421880/26421880 [00:03&lt;00:00, 13483832.50it/s]"
          }
        },
        "2faf7fb37da04b9181736361ef1b387a": {
          "model_module": "@jupyter-widgets/base",
          "model_name": "LayoutModel",
          "model_module_version": "1.2.0",
          "state": {
            "_model_module": "@jupyter-widgets/base",
            "_model_module_version": "1.2.0",
            "_model_name": "LayoutModel",
            "_view_count": null,
            "_view_module": "@jupyter-widgets/base",
            "_view_module_version": "1.2.0",
            "_view_name": "LayoutView",
            "align_content": null,
            "align_items": null,
            "align_self": null,
            "border": null,
            "bottom": null,
            "display": null,
            "flex": null,
            "flex_flow": null,
            "grid_area": null,
            "grid_auto_columns": null,
            "grid_auto_flow": null,
            "grid_auto_rows": null,
            "grid_column": null,
            "grid_gap": null,
            "grid_row": null,
            "grid_template_areas": null,
            "grid_template_columns": null,
            "grid_template_rows": null,
            "height": null,
            "justify_content": null,
            "justify_items": null,
            "left": null,
            "margin": null,
            "max_height": null,
            "max_width": null,
            "min_height": null,
            "min_width": null,
            "object_fit": null,
            "object_position": null,
            "order": null,
            "overflow": null,
            "overflow_x": null,
            "overflow_y": null,
            "padding": null,
            "right": null,
            "top": null,
            "visibility": null,
            "width": null
          }
        },
        "ba999bc56faf4571bdb07fca011da5c1": {
          "model_module": "@jupyter-widgets/base",
          "model_name": "LayoutModel",
          "model_module_version": "1.2.0",
          "state": {
            "_model_module": "@jupyter-widgets/base",
            "_model_module_version": "1.2.0",
            "_model_name": "LayoutModel",
            "_view_count": null,
            "_view_module": "@jupyter-widgets/base",
            "_view_module_version": "1.2.0",
            "_view_name": "LayoutView",
            "align_content": null,
            "align_items": null,
            "align_self": null,
            "border": null,
            "bottom": null,
            "display": null,
            "flex": null,
            "flex_flow": null,
            "grid_area": null,
            "grid_auto_columns": null,
            "grid_auto_flow": null,
            "grid_auto_rows": null,
            "grid_column": null,
            "grid_gap": null,
            "grid_row": null,
            "grid_template_areas": null,
            "grid_template_columns": null,
            "grid_template_rows": null,
            "height": null,
            "justify_content": null,
            "justify_items": null,
            "left": null,
            "margin": null,
            "max_height": null,
            "max_width": null,
            "min_height": null,
            "min_width": null,
            "object_fit": null,
            "object_position": null,
            "order": null,
            "overflow": null,
            "overflow_x": null,
            "overflow_y": null,
            "padding": null,
            "right": null,
            "top": null,
            "visibility": null,
            "width": null
          }
        },
        "88a63e70f6484cc39909e671746ae858": {
          "model_module": "@jupyter-widgets/controls",
          "model_name": "DescriptionStyleModel",
          "model_module_version": "1.5.0",
          "state": {
            "_model_module": "@jupyter-widgets/controls",
            "_model_module_version": "1.5.0",
            "_model_name": "DescriptionStyleModel",
            "_view_count": null,
            "_view_module": "@jupyter-widgets/base",
            "_view_module_version": "1.2.0",
            "_view_name": "StyleView",
            "description_width": ""
          }
        },
        "3f85da4208164835b74809092296b334": {
          "model_module": "@jupyter-widgets/base",
          "model_name": "LayoutModel",
          "model_module_version": "1.2.0",
          "state": {
            "_model_module": "@jupyter-widgets/base",
            "_model_module_version": "1.2.0",
            "_model_name": "LayoutModel",
            "_view_count": null,
            "_view_module": "@jupyter-widgets/base",
            "_view_module_version": "1.2.0",
            "_view_name": "LayoutView",
            "align_content": null,
            "align_items": null,
            "align_self": null,
            "border": null,
            "bottom": null,
            "display": null,
            "flex": null,
            "flex_flow": null,
            "grid_area": null,
            "grid_auto_columns": null,
            "grid_auto_flow": null,
            "grid_auto_rows": null,
            "grid_column": null,
            "grid_gap": null,
            "grid_row": null,
            "grid_template_areas": null,
            "grid_template_columns": null,
            "grid_template_rows": null,
            "height": null,
            "justify_content": null,
            "justify_items": null,
            "left": null,
            "margin": null,
            "max_height": null,
            "max_width": null,
            "min_height": null,
            "min_width": null,
            "object_fit": null,
            "object_position": null,
            "order": null,
            "overflow": null,
            "overflow_x": null,
            "overflow_y": null,
            "padding": null,
            "right": null,
            "top": null,
            "visibility": null,
            "width": null
          }
        },
        "0b4f43dfd75c48c6806bb635f33c2d74": {
          "model_module": "@jupyter-widgets/controls",
          "model_name": "ProgressStyleModel",
          "model_module_version": "1.5.0",
          "state": {
            "_model_module": "@jupyter-widgets/controls",
            "_model_module_version": "1.5.0",
            "_model_name": "ProgressStyleModel",
            "_view_count": null,
            "_view_module": "@jupyter-widgets/base",
            "_view_module_version": "1.2.0",
            "_view_name": "StyleView",
            "bar_color": null,
            "description_width": ""
          }
        },
        "ee08b24060bb4e4d8801754196680c4b": {
          "model_module": "@jupyter-widgets/base",
          "model_name": "LayoutModel",
          "model_module_version": "1.2.0",
          "state": {
            "_model_module": "@jupyter-widgets/base",
            "_model_module_version": "1.2.0",
            "_model_name": "LayoutModel",
            "_view_count": null,
            "_view_module": "@jupyter-widgets/base",
            "_view_module_version": "1.2.0",
            "_view_name": "LayoutView",
            "align_content": null,
            "align_items": null,
            "align_self": null,
            "border": null,
            "bottom": null,
            "display": null,
            "flex": null,
            "flex_flow": null,
            "grid_area": null,
            "grid_auto_columns": null,
            "grid_auto_flow": null,
            "grid_auto_rows": null,
            "grid_column": null,
            "grid_gap": null,
            "grid_row": null,
            "grid_template_areas": null,
            "grid_template_columns": null,
            "grid_template_rows": null,
            "height": null,
            "justify_content": null,
            "justify_items": null,
            "left": null,
            "margin": null,
            "max_height": null,
            "max_width": null,
            "min_height": null,
            "min_width": null,
            "object_fit": null,
            "object_position": null,
            "order": null,
            "overflow": null,
            "overflow_x": null,
            "overflow_y": null,
            "padding": null,
            "right": null,
            "top": null,
            "visibility": null,
            "width": null
          }
        },
        "3f953e44de484f0aaeb509efc5efb44c": {
          "model_module": "@jupyter-widgets/controls",
          "model_name": "DescriptionStyleModel",
          "model_module_version": "1.5.0",
          "state": {
            "_model_module": "@jupyter-widgets/controls",
            "_model_module_version": "1.5.0",
            "_model_name": "DescriptionStyleModel",
            "_view_count": null,
            "_view_module": "@jupyter-widgets/base",
            "_view_module_version": "1.2.0",
            "_view_name": "StyleView",
            "description_width": ""
          }
        },
        "d254a238ab3d4a8aa3318fab43c8a48c": {
          "model_module": "@jupyter-widgets/controls",
          "model_name": "HBoxModel",
          "model_module_version": "1.5.0",
          "state": {
            "_dom_classes": [],
            "_model_module": "@jupyter-widgets/controls",
            "_model_module_version": "1.5.0",
            "_model_name": "HBoxModel",
            "_view_count": null,
            "_view_module": "@jupyter-widgets/controls",
            "_view_module_version": "1.5.0",
            "_view_name": "HBoxView",
            "box_style": "",
            "children": [
              "IPY_MODEL_2698dec44cd746e48719876e933887ec",
              "IPY_MODEL_8d627436bca14a0f99f8c730ae06fab4",
              "IPY_MODEL_733a4dfe90c9497391f655dd8681b8f1"
            ],
            "layout": "IPY_MODEL_5c1bfab558a9491eb8f558f600882736"
          }
        },
        "2698dec44cd746e48719876e933887ec": {
          "model_module": "@jupyter-widgets/controls",
          "model_name": "HTMLModel",
          "model_module_version": "1.5.0",
          "state": {
            "_dom_classes": [],
            "_model_module": "@jupyter-widgets/controls",
            "_model_module_version": "1.5.0",
            "_model_name": "HTMLModel",
            "_view_count": null,
            "_view_module": "@jupyter-widgets/controls",
            "_view_module_version": "1.5.0",
            "_view_name": "HTMLView",
            "description": "",
            "description_tooltip": null,
            "layout": "IPY_MODEL_e2a889d46e0342aa9f7dadf85815a414",
            "placeholder": "​",
            "style": "IPY_MODEL_38d577e503ee465a9fee732f45fefc8b",
            "value": "100%"
          }
        },
        "8d627436bca14a0f99f8c730ae06fab4": {
          "model_module": "@jupyter-widgets/controls",
          "model_name": "FloatProgressModel",
          "model_module_version": "1.5.0",
          "state": {
            "_dom_classes": [],
            "_model_module": "@jupyter-widgets/controls",
            "_model_module_version": "1.5.0",
            "_model_name": "FloatProgressModel",
            "_view_count": null,
            "_view_module": "@jupyter-widgets/controls",
            "_view_module_version": "1.5.0",
            "_view_name": "ProgressView",
            "bar_style": "success",
            "description": "",
            "description_tooltip": null,
            "layout": "IPY_MODEL_c1dbfdd7db714194bcacd49e7fa6274c",
            "max": 29515,
            "min": 0,
            "orientation": "horizontal",
            "style": "IPY_MODEL_7d0e05e7eb1f47a0823f8f72d21c344f",
            "value": 29515
          }
        },
        "733a4dfe90c9497391f655dd8681b8f1": {
          "model_module": "@jupyter-widgets/controls",
          "model_name": "HTMLModel",
          "model_module_version": "1.5.0",
          "state": {
            "_dom_classes": [],
            "_model_module": "@jupyter-widgets/controls",
            "_model_module_version": "1.5.0",
            "_model_name": "HTMLModel",
            "_view_count": null,
            "_view_module": "@jupyter-widgets/controls",
            "_view_module_version": "1.5.0",
            "_view_name": "HTMLView",
            "description": "",
            "description_tooltip": null,
            "layout": "IPY_MODEL_1942f21a4bf248a5b6021673a496ebe8",
            "placeholder": "​",
            "style": "IPY_MODEL_74c31e9ef0ec4da4a582f9e63526a2e9",
            "value": " 29515/29515 [00:00&lt;00:00, 144797.13it/s]"
          }
        },
        "5c1bfab558a9491eb8f558f600882736": {
          "model_module": "@jupyter-widgets/base",
          "model_name": "LayoutModel",
          "model_module_version": "1.2.0",
          "state": {
            "_model_module": "@jupyter-widgets/base",
            "_model_module_version": "1.2.0",
            "_model_name": "LayoutModel",
            "_view_count": null,
            "_view_module": "@jupyter-widgets/base",
            "_view_module_version": "1.2.0",
            "_view_name": "LayoutView",
            "align_content": null,
            "align_items": null,
            "align_self": null,
            "border": null,
            "bottom": null,
            "display": null,
            "flex": null,
            "flex_flow": null,
            "grid_area": null,
            "grid_auto_columns": null,
            "grid_auto_flow": null,
            "grid_auto_rows": null,
            "grid_column": null,
            "grid_gap": null,
            "grid_row": null,
            "grid_template_areas": null,
            "grid_template_columns": null,
            "grid_template_rows": null,
            "height": null,
            "justify_content": null,
            "justify_items": null,
            "left": null,
            "margin": null,
            "max_height": null,
            "max_width": null,
            "min_height": null,
            "min_width": null,
            "object_fit": null,
            "object_position": null,
            "order": null,
            "overflow": null,
            "overflow_x": null,
            "overflow_y": null,
            "padding": null,
            "right": null,
            "top": null,
            "visibility": null,
            "width": null
          }
        },
        "e2a889d46e0342aa9f7dadf85815a414": {
          "model_module": "@jupyter-widgets/base",
          "model_name": "LayoutModel",
          "model_module_version": "1.2.0",
          "state": {
            "_model_module": "@jupyter-widgets/base",
            "_model_module_version": "1.2.0",
            "_model_name": "LayoutModel",
            "_view_count": null,
            "_view_module": "@jupyter-widgets/base",
            "_view_module_version": "1.2.0",
            "_view_name": "LayoutView",
            "align_content": null,
            "align_items": null,
            "align_self": null,
            "border": null,
            "bottom": null,
            "display": null,
            "flex": null,
            "flex_flow": null,
            "grid_area": null,
            "grid_auto_columns": null,
            "grid_auto_flow": null,
            "grid_auto_rows": null,
            "grid_column": null,
            "grid_gap": null,
            "grid_row": null,
            "grid_template_areas": null,
            "grid_template_columns": null,
            "grid_template_rows": null,
            "height": null,
            "justify_content": null,
            "justify_items": null,
            "left": null,
            "margin": null,
            "max_height": null,
            "max_width": null,
            "min_height": null,
            "min_width": null,
            "object_fit": null,
            "object_position": null,
            "order": null,
            "overflow": null,
            "overflow_x": null,
            "overflow_y": null,
            "padding": null,
            "right": null,
            "top": null,
            "visibility": null,
            "width": null
          }
        },
        "38d577e503ee465a9fee732f45fefc8b": {
          "model_module": "@jupyter-widgets/controls",
          "model_name": "DescriptionStyleModel",
          "model_module_version": "1.5.0",
          "state": {
            "_model_module": "@jupyter-widgets/controls",
            "_model_module_version": "1.5.0",
            "_model_name": "DescriptionStyleModel",
            "_view_count": null,
            "_view_module": "@jupyter-widgets/base",
            "_view_module_version": "1.2.0",
            "_view_name": "StyleView",
            "description_width": ""
          }
        },
        "c1dbfdd7db714194bcacd49e7fa6274c": {
          "model_module": "@jupyter-widgets/base",
          "model_name": "LayoutModel",
          "model_module_version": "1.2.0",
          "state": {
            "_model_module": "@jupyter-widgets/base",
            "_model_module_version": "1.2.0",
            "_model_name": "LayoutModel",
            "_view_count": null,
            "_view_module": "@jupyter-widgets/base",
            "_view_module_version": "1.2.0",
            "_view_name": "LayoutView",
            "align_content": null,
            "align_items": null,
            "align_self": null,
            "border": null,
            "bottom": null,
            "display": null,
            "flex": null,
            "flex_flow": null,
            "grid_area": null,
            "grid_auto_columns": null,
            "grid_auto_flow": null,
            "grid_auto_rows": null,
            "grid_column": null,
            "grid_gap": null,
            "grid_row": null,
            "grid_template_areas": null,
            "grid_template_columns": null,
            "grid_template_rows": null,
            "height": null,
            "justify_content": null,
            "justify_items": null,
            "left": null,
            "margin": null,
            "max_height": null,
            "max_width": null,
            "min_height": null,
            "min_width": null,
            "object_fit": null,
            "object_position": null,
            "order": null,
            "overflow": null,
            "overflow_x": null,
            "overflow_y": null,
            "padding": null,
            "right": null,
            "top": null,
            "visibility": null,
            "width": null
          }
        },
        "7d0e05e7eb1f47a0823f8f72d21c344f": {
          "model_module": "@jupyter-widgets/controls",
          "model_name": "ProgressStyleModel",
          "model_module_version": "1.5.0",
          "state": {
            "_model_module": "@jupyter-widgets/controls",
            "_model_module_version": "1.5.0",
            "_model_name": "ProgressStyleModel",
            "_view_count": null,
            "_view_module": "@jupyter-widgets/base",
            "_view_module_version": "1.2.0",
            "_view_name": "StyleView",
            "bar_color": null,
            "description_width": ""
          }
        },
        "1942f21a4bf248a5b6021673a496ebe8": {
          "model_module": "@jupyter-widgets/base",
          "model_name": "LayoutModel",
          "model_module_version": "1.2.0",
          "state": {
            "_model_module": "@jupyter-widgets/base",
            "_model_module_version": "1.2.0",
            "_model_name": "LayoutModel",
            "_view_count": null,
            "_view_module": "@jupyter-widgets/base",
            "_view_module_version": "1.2.0",
            "_view_name": "LayoutView",
            "align_content": null,
            "align_items": null,
            "align_self": null,
            "border": null,
            "bottom": null,
            "display": null,
            "flex": null,
            "flex_flow": null,
            "grid_area": null,
            "grid_auto_columns": null,
            "grid_auto_flow": null,
            "grid_auto_rows": null,
            "grid_column": null,
            "grid_gap": null,
            "grid_row": null,
            "grid_template_areas": null,
            "grid_template_columns": null,
            "grid_template_rows": null,
            "height": null,
            "justify_content": null,
            "justify_items": null,
            "left": null,
            "margin": null,
            "max_height": null,
            "max_width": null,
            "min_height": null,
            "min_width": null,
            "object_fit": null,
            "object_position": null,
            "order": null,
            "overflow": null,
            "overflow_x": null,
            "overflow_y": null,
            "padding": null,
            "right": null,
            "top": null,
            "visibility": null,
            "width": null
          }
        },
        "74c31e9ef0ec4da4a582f9e63526a2e9": {
          "model_module": "@jupyter-widgets/controls",
          "model_name": "DescriptionStyleModel",
          "model_module_version": "1.5.0",
          "state": {
            "_model_module": "@jupyter-widgets/controls",
            "_model_module_version": "1.5.0",
            "_model_name": "DescriptionStyleModel",
            "_view_count": null,
            "_view_module": "@jupyter-widgets/base",
            "_view_module_version": "1.2.0",
            "_view_name": "StyleView",
            "description_width": ""
          }
        },
        "1ba109dbbd7a44058a8dfc96851c04ef": {
          "model_module": "@jupyter-widgets/controls",
          "model_name": "HBoxModel",
          "model_module_version": "1.5.0",
          "state": {
            "_dom_classes": [],
            "_model_module": "@jupyter-widgets/controls",
            "_model_module_version": "1.5.0",
            "_model_name": "HBoxModel",
            "_view_count": null,
            "_view_module": "@jupyter-widgets/controls",
            "_view_module_version": "1.5.0",
            "_view_name": "HBoxView",
            "box_style": "",
            "children": [
              "IPY_MODEL_f7f8999866d34478a20ccfcff27ba3ce",
              "IPY_MODEL_5d76548713544c7b941c0665e1d2c0db",
              "IPY_MODEL_9785b86d42a24297b11d103ddfa17448"
            ],
            "layout": "IPY_MODEL_ab4f3b683cfc4beab376839892b151d6"
          }
        },
        "f7f8999866d34478a20ccfcff27ba3ce": {
          "model_module": "@jupyter-widgets/controls",
          "model_name": "HTMLModel",
          "model_module_version": "1.5.0",
          "state": {
            "_dom_classes": [],
            "_model_module": "@jupyter-widgets/controls",
            "_model_module_version": "1.5.0",
            "_model_name": "HTMLModel",
            "_view_count": null,
            "_view_module": "@jupyter-widgets/controls",
            "_view_module_version": "1.5.0",
            "_view_name": "HTMLView",
            "description": "",
            "description_tooltip": null,
            "layout": "IPY_MODEL_d012679adc454dd0a025a898001b375d",
            "placeholder": "​",
            "style": "IPY_MODEL_49207014cc604da8847bb4439d93f894",
            "value": "100%"
          }
        },
        "5d76548713544c7b941c0665e1d2c0db": {
          "model_module": "@jupyter-widgets/controls",
          "model_name": "FloatProgressModel",
          "model_module_version": "1.5.0",
          "state": {
            "_dom_classes": [],
            "_model_module": "@jupyter-widgets/controls",
            "_model_module_version": "1.5.0",
            "_model_name": "FloatProgressModel",
            "_view_count": null,
            "_view_module": "@jupyter-widgets/controls",
            "_view_module_version": "1.5.0",
            "_view_name": "ProgressView",
            "bar_style": "success",
            "description": "",
            "description_tooltip": null,
            "layout": "IPY_MODEL_e20b70ac773f44d8bf5c3c327d585016",
            "max": 4422102,
            "min": 0,
            "orientation": "horizontal",
            "style": "IPY_MODEL_3c36a99f0b7143ceab4da1f2c98276cb",
            "value": 4422102
          }
        },
        "9785b86d42a24297b11d103ddfa17448": {
          "model_module": "@jupyter-widgets/controls",
          "model_name": "HTMLModel",
          "model_module_version": "1.5.0",
          "state": {
            "_dom_classes": [],
            "_model_module": "@jupyter-widgets/controls",
            "_model_module_version": "1.5.0",
            "_model_name": "HTMLModel",
            "_view_count": null,
            "_view_module": "@jupyter-widgets/controls",
            "_view_module_version": "1.5.0",
            "_view_name": "HTMLView",
            "description": "",
            "description_tooltip": null,
            "layout": "IPY_MODEL_b3ad7efdce2f4cf48478d1237599619f",
            "placeholder": "​",
            "style": "IPY_MODEL_60bcb34742b84906a1a65a69abb4d968",
            "value": " 4422102/4422102 [00:01&lt;00:00, 4630601.90it/s]"
          }
        },
        "ab4f3b683cfc4beab376839892b151d6": {
          "model_module": "@jupyter-widgets/base",
          "model_name": "LayoutModel",
          "model_module_version": "1.2.0",
          "state": {
            "_model_module": "@jupyter-widgets/base",
            "_model_module_version": "1.2.0",
            "_model_name": "LayoutModel",
            "_view_count": null,
            "_view_module": "@jupyter-widgets/base",
            "_view_module_version": "1.2.0",
            "_view_name": "LayoutView",
            "align_content": null,
            "align_items": null,
            "align_self": null,
            "border": null,
            "bottom": null,
            "display": null,
            "flex": null,
            "flex_flow": null,
            "grid_area": null,
            "grid_auto_columns": null,
            "grid_auto_flow": null,
            "grid_auto_rows": null,
            "grid_column": null,
            "grid_gap": null,
            "grid_row": null,
            "grid_template_areas": null,
            "grid_template_columns": null,
            "grid_template_rows": null,
            "height": null,
            "justify_content": null,
            "justify_items": null,
            "left": null,
            "margin": null,
            "max_height": null,
            "max_width": null,
            "min_height": null,
            "min_width": null,
            "object_fit": null,
            "object_position": null,
            "order": null,
            "overflow": null,
            "overflow_x": null,
            "overflow_y": null,
            "padding": null,
            "right": null,
            "top": null,
            "visibility": null,
            "width": null
          }
        },
        "d012679adc454dd0a025a898001b375d": {
          "model_module": "@jupyter-widgets/base",
          "model_name": "LayoutModel",
          "model_module_version": "1.2.0",
          "state": {
            "_model_module": "@jupyter-widgets/base",
            "_model_module_version": "1.2.0",
            "_model_name": "LayoutModel",
            "_view_count": null,
            "_view_module": "@jupyter-widgets/base",
            "_view_module_version": "1.2.0",
            "_view_name": "LayoutView",
            "align_content": null,
            "align_items": null,
            "align_self": null,
            "border": null,
            "bottom": null,
            "display": null,
            "flex": null,
            "flex_flow": null,
            "grid_area": null,
            "grid_auto_columns": null,
            "grid_auto_flow": null,
            "grid_auto_rows": null,
            "grid_column": null,
            "grid_gap": null,
            "grid_row": null,
            "grid_template_areas": null,
            "grid_template_columns": null,
            "grid_template_rows": null,
            "height": null,
            "justify_content": null,
            "justify_items": null,
            "left": null,
            "margin": null,
            "max_height": null,
            "max_width": null,
            "min_height": null,
            "min_width": null,
            "object_fit": null,
            "object_position": null,
            "order": null,
            "overflow": null,
            "overflow_x": null,
            "overflow_y": null,
            "padding": null,
            "right": null,
            "top": null,
            "visibility": null,
            "width": null
          }
        },
        "49207014cc604da8847bb4439d93f894": {
          "model_module": "@jupyter-widgets/controls",
          "model_name": "DescriptionStyleModel",
          "model_module_version": "1.5.0",
          "state": {
            "_model_module": "@jupyter-widgets/controls",
            "_model_module_version": "1.5.0",
            "_model_name": "DescriptionStyleModel",
            "_view_count": null,
            "_view_module": "@jupyter-widgets/base",
            "_view_module_version": "1.2.0",
            "_view_name": "StyleView",
            "description_width": ""
          }
        },
        "e20b70ac773f44d8bf5c3c327d585016": {
          "model_module": "@jupyter-widgets/base",
          "model_name": "LayoutModel",
          "model_module_version": "1.2.0",
          "state": {
            "_model_module": "@jupyter-widgets/base",
            "_model_module_version": "1.2.0",
            "_model_name": "LayoutModel",
            "_view_count": null,
            "_view_module": "@jupyter-widgets/base",
            "_view_module_version": "1.2.0",
            "_view_name": "LayoutView",
            "align_content": null,
            "align_items": null,
            "align_self": null,
            "border": null,
            "bottom": null,
            "display": null,
            "flex": null,
            "flex_flow": null,
            "grid_area": null,
            "grid_auto_columns": null,
            "grid_auto_flow": null,
            "grid_auto_rows": null,
            "grid_column": null,
            "grid_gap": null,
            "grid_row": null,
            "grid_template_areas": null,
            "grid_template_columns": null,
            "grid_template_rows": null,
            "height": null,
            "justify_content": null,
            "justify_items": null,
            "left": null,
            "margin": null,
            "max_height": null,
            "max_width": null,
            "min_height": null,
            "min_width": null,
            "object_fit": null,
            "object_position": null,
            "order": null,
            "overflow": null,
            "overflow_x": null,
            "overflow_y": null,
            "padding": null,
            "right": null,
            "top": null,
            "visibility": null,
            "width": null
          }
        },
        "3c36a99f0b7143ceab4da1f2c98276cb": {
          "model_module": "@jupyter-widgets/controls",
          "model_name": "ProgressStyleModel",
          "model_module_version": "1.5.0",
          "state": {
            "_model_module": "@jupyter-widgets/controls",
            "_model_module_version": "1.5.0",
            "_model_name": "ProgressStyleModel",
            "_view_count": null,
            "_view_module": "@jupyter-widgets/base",
            "_view_module_version": "1.2.0",
            "_view_name": "StyleView",
            "bar_color": null,
            "description_width": ""
          }
        },
        "b3ad7efdce2f4cf48478d1237599619f": {
          "model_module": "@jupyter-widgets/base",
          "model_name": "LayoutModel",
          "model_module_version": "1.2.0",
          "state": {
            "_model_module": "@jupyter-widgets/base",
            "_model_module_version": "1.2.0",
            "_model_name": "LayoutModel",
            "_view_count": null,
            "_view_module": "@jupyter-widgets/base",
            "_view_module_version": "1.2.0",
            "_view_name": "LayoutView",
            "align_content": null,
            "align_items": null,
            "align_self": null,
            "border": null,
            "bottom": null,
            "display": null,
            "flex": null,
            "flex_flow": null,
            "grid_area": null,
            "grid_auto_columns": null,
            "grid_auto_flow": null,
            "grid_auto_rows": null,
            "grid_column": null,
            "grid_gap": null,
            "grid_row": null,
            "grid_template_areas": null,
            "grid_template_columns": null,
            "grid_template_rows": null,
            "height": null,
            "justify_content": null,
            "justify_items": null,
            "left": null,
            "margin": null,
            "max_height": null,
            "max_width": null,
            "min_height": null,
            "min_width": null,
            "object_fit": null,
            "object_position": null,
            "order": null,
            "overflow": null,
            "overflow_x": null,
            "overflow_y": null,
            "padding": null,
            "right": null,
            "top": null,
            "visibility": null,
            "width": null
          }
        },
        "60bcb34742b84906a1a65a69abb4d968": {
          "model_module": "@jupyter-widgets/controls",
          "model_name": "DescriptionStyleModel",
          "model_module_version": "1.5.0",
          "state": {
            "_model_module": "@jupyter-widgets/controls",
            "_model_module_version": "1.5.0",
            "_model_name": "DescriptionStyleModel",
            "_view_count": null,
            "_view_module": "@jupyter-widgets/base",
            "_view_module_version": "1.2.0",
            "_view_name": "StyleView",
            "description_width": ""
          }
        },
        "b0047222317742b6a067f98c769d982e": {
          "model_module": "@jupyter-widgets/controls",
          "model_name": "HBoxModel",
          "model_module_version": "1.5.0",
          "state": {
            "_dom_classes": [],
            "_model_module": "@jupyter-widgets/controls",
            "_model_module_version": "1.5.0",
            "_model_name": "HBoxModel",
            "_view_count": null,
            "_view_module": "@jupyter-widgets/controls",
            "_view_module_version": "1.5.0",
            "_view_name": "HBoxView",
            "box_style": "",
            "children": [
              "IPY_MODEL_fb7bce6562d44df18394a6818b305ebc",
              "IPY_MODEL_f3fb5cdb5a1c4c72acf2a3c6869df15a",
              "IPY_MODEL_9130c3cf363447d8b8def8521587218f"
            ],
            "layout": "IPY_MODEL_78c2a1cb676945418f28653308fe480e"
          }
        },
        "fb7bce6562d44df18394a6818b305ebc": {
          "model_module": "@jupyter-widgets/controls",
          "model_name": "HTMLModel",
          "model_module_version": "1.5.0",
          "state": {
            "_dom_classes": [],
            "_model_module": "@jupyter-widgets/controls",
            "_model_module_version": "1.5.0",
            "_model_name": "HTMLModel",
            "_view_count": null,
            "_view_module": "@jupyter-widgets/controls",
            "_view_module_version": "1.5.0",
            "_view_name": "HTMLView",
            "description": "",
            "description_tooltip": null,
            "layout": "IPY_MODEL_ab80c6d7505947f3910f7f62d4f73c46",
            "placeholder": "​",
            "style": "IPY_MODEL_e5ddd423606d4b92bc7df1ba30276c7d",
            "value": "100%"
          }
        },
        "f3fb5cdb5a1c4c72acf2a3c6869df15a": {
          "model_module": "@jupyter-widgets/controls",
          "model_name": "FloatProgressModel",
          "model_module_version": "1.5.0",
          "state": {
            "_dom_classes": [],
            "_model_module": "@jupyter-widgets/controls",
            "_model_module_version": "1.5.0",
            "_model_name": "FloatProgressModel",
            "_view_count": null,
            "_view_module": "@jupyter-widgets/controls",
            "_view_module_version": "1.5.0",
            "_view_name": "ProgressView",
            "bar_style": "success",
            "description": "",
            "description_tooltip": null,
            "layout": "IPY_MODEL_fd7644af3aca47bd9c65d0ea4987f779",
            "max": 5148,
            "min": 0,
            "orientation": "horizontal",
            "style": "IPY_MODEL_5b4ddaf5775949c8b5ce890adb8ba64d",
            "value": 5148
          }
        },
        "9130c3cf363447d8b8def8521587218f": {
          "model_module": "@jupyter-widgets/controls",
          "model_name": "HTMLModel",
          "model_module_version": "1.5.0",
          "state": {
            "_dom_classes": [],
            "_model_module": "@jupyter-widgets/controls",
            "_model_module_version": "1.5.0",
            "_model_name": "HTMLModel",
            "_view_count": null,
            "_view_module": "@jupyter-widgets/controls",
            "_view_module_version": "1.5.0",
            "_view_name": "HTMLView",
            "description": "",
            "description_tooltip": null,
            "layout": "IPY_MODEL_6028dd14b4c247ca870ff242c349c983",
            "placeholder": "​",
            "style": "IPY_MODEL_7fdebbc842ed4a6d94e54b57f289b5ac",
            "value": " 5148/5148 [00:00&lt;00:00, 166049.73it/s]"
          }
        },
        "78c2a1cb676945418f28653308fe480e": {
          "model_module": "@jupyter-widgets/base",
          "model_name": "LayoutModel",
          "model_module_version": "1.2.0",
          "state": {
            "_model_module": "@jupyter-widgets/base",
            "_model_module_version": "1.2.0",
            "_model_name": "LayoutModel",
            "_view_count": null,
            "_view_module": "@jupyter-widgets/base",
            "_view_module_version": "1.2.0",
            "_view_name": "LayoutView",
            "align_content": null,
            "align_items": null,
            "align_self": null,
            "border": null,
            "bottom": null,
            "display": null,
            "flex": null,
            "flex_flow": null,
            "grid_area": null,
            "grid_auto_columns": null,
            "grid_auto_flow": null,
            "grid_auto_rows": null,
            "grid_column": null,
            "grid_gap": null,
            "grid_row": null,
            "grid_template_areas": null,
            "grid_template_columns": null,
            "grid_template_rows": null,
            "height": null,
            "justify_content": null,
            "justify_items": null,
            "left": null,
            "margin": null,
            "max_height": null,
            "max_width": null,
            "min_height": null,
            "min_width": null,
            "object_fit": null,
            "object_position": null,
            "order": null,
            "overflow": null,
            "overflow_x": null,
            "overflow_y": null,
            "padding": null,
            "right": null,
            "top": null,
            "visibility": null,
            "width": null
          }
        },
        "ab80c6d7505947f3910f7f62d4f73c46": {
          "model_module": "@jupyter-widgets/base",
          "model_name": "LayoutModel",
          "model_module_version": "1.2.0",
          "state": {
            "_model_module": "@jupyter-widgets/base",
            "_model_module_version": "1.2.0",
            "_model_name": "LayoutModel",
            "_view_count": null,
            "_view_module": "@jupyter-widgets/base",
            "_view_module_version": "1.2.0",
            "_view_name": "LayoutView",
            "align_content": null,
            "align_items": null,
            "align_self": null,
            "border": null,
            "bottom": null,
            "display": null,
            "flex": null,
            "flex_flow": null,
            "grid_area": null,
            "grid_auto_columns": null,
            "grid_auto_flow": null,
            "grid_auto_rows": null,
            "grid_column": null,
            "grid_gap": null,
            "grid_row": null,
            "grid_template_areas": null,
            "grid_template_columns": null,
            "grid_template_rows": null,
            "height": null,
            "justify_content": null,
            "justify_items": null,
            "left": null,
            "margin": null,
            "max_height": null,
            "max_width": null,
            "min_height": null,
            "min_width": null,
            "object_fit": null,
            "object_position": null,
            "order": null,
            "overflow": null,
            "overflow_x": null,
            "overflow_y": null,
            "padding": null,
            "right": null,
            "top": null,
            "visibility": null,
            "width": null
          }
        },
        "e5ddd423606d4b92bc7df1ba30276c7d": {
          "model_module": "@jupyter-widgets/controls",
          "model_name": "DescriptionStyleModel",
          "model_module_version": "1.5.0",
          "state": {
            "_model_module": "@jupyter-widgets/controls",
            "_model_module_version": "1.5.0",
            "_model_name": "DescriptionStyleModel",
            "_view_count": null,
            "_view_module": "@jupyter-widgets/base",
            "_view_module_version": "1.2.0",
            "_view_name": "StyleView",
            "description_width": ""
          }
        },
        "fd7644af3aca47bd9c65d0ea4987f779": {
          "model_module": "@jupyter-widgets/base",
          "model_name": "LayoutModel",
          "model_module_version": "1.2.0",
          "state": {
            "_model_module": "@jupyter-widgets/base",
            "_model_module_version": "1.2.0",
            "_model_name": "LayoutModel",
            "_view_count": null,
            "_view_module": "@jupyter-widgets/base",
            "_view_module_version": "1.2.0",
            "_view_name": "LayoutView",
            "align_content": null,
            "align_items": null,
            "align_self": null,
            "border": null,
            "bottom": null,
            "display": null,
            "flex": null,
            "flex_flow": null,
            "grid_area": null,
            "grid_auto_columns": null,
            "grid_auto_flow": null,
            "grid_auto_rows": null,
            "grid_column": null,
            "grid_gap": null,
            "grid_row": null,
            "grid_template_areas": null,
            "grid_template_columns": null,
            "grid_template_rows": null,
            "height": null,
            "justify_content": null,
            "justify_items": null,
            "left": null,
            "margin": null,
            "max_height": null,
            "max_width": null,
            "min_height": null,
            "min_width": null,
            "object_fit": null,
            "object_position": null,
            "order": null,
            "overflow": null,
            "overflow_x": null,
            "overflow_y": null,
            "padding": null,
            "right": null,
            "top": null,
            "visibility": null,
            "width": null
          }
        },
        "5b4ddaf5775949c8b5ce890adb8ba64d": {
          "model_module": "@jupyter-widgets/controls",
          "model_name": "ProgressStyleModel",
          "model_module_version": "1.5.0",
          "state": {
            "_model_module": "@jupyter-widgets/controls",
            "_model_module_version": "1.5.0",
            "_model_name": "ProgressStyleModel",
            "_view_count": null,
            "_view_module": "@jupyter-widgets/base",
            "_view_module_version": "1.2.0",
            "_view_name": "StyleView",
            "bar_color": null,
            "description_width": ""
          }
        },
        "6028dd14b4c247ca870ff242c349c983": {
          "model_module": "@jupyter-widgets/base",
          "model_name": "LayoutModel",
          "model_module_version": "1.2.0",
          "state": {
            "_model_module": "@jupyter-widgets/base",
            "_model_module_version": "1.2.0",
            "_model_name": "LayoutModel",
            "_view_count": null,
            "_view_module": "@jupyter-widgets/base",
            "_view_module_version": "1.2.0",
            "_view_name": "LayoutView",
            "align_content": null,
            "align_items": null,
            "align_self": null,
            "border": null,
            "bottom": null,
            "display": null,
            "flex": null,
            "flex_flow": null,
            "grid_area": null,
            "grid_auto_columns": null,
            "grid_auto_flow": null,
            "grid_auto_rows": null,
            "grid_column": null,
            "grid_gap": null,
            "grid_row": null,
            "grid_template_areas": null,
            "grid_template_columns": null,
            "grid_template_rows": null,
            "height": null,
            "justify_content": null,
            "justify_items": null,
            "left": null,
            "margin": null,
            "max_height": null,
            "max_width": null,
            "min_height": null,
            "min_width": null,
            "object_fit": null,
            "object_position": null,
            "order": null,
            "overflow": null,
            "overflow_x": null,
            "overflow_y": null,
            "padding": null,
            "right": null,
            "top": null,
            "visibility": null,
            "width": null
          }
        },
        "7fdebbc842ed4a6d94e54b57f289b5ac": {
          "model_module": "@jupyter-widgets/controls",
          "model_name": "DescriptionStyleModel",
          "model_module_version": "1.5.0",
          "state": {
            "_model_module": "@jupyter-widgets/controls",
            "_model_module_version": "1.5.0",
            "_model_name": "DescriptionStyleModel",
            "_view_count": null,
            "_view_module": "@jupyter-widgets/base",
            "_view_module_version": "1.2.0",
            "_view_name": "StyleView",
            "description_width": ""
          }
        }
      }
    }
  },
  "cells": [
    {
      "cell_type": "markdown",
      "metadata": {
        "id": "view-in-github",
        "colab_type": "text"
      },
      "source": [
        "<a href=\"https://colab.research.google.com/github/stac-bot/Pytorch-for-Deep-Learning/blob/main/PyTorch_worklfow.ipynb\" target=\"_parent\"><img src=\"https://colab.research.google.com/assets/colab-badge.svg\" alt=\"Open In Colab\"/></a>"
      ]
    },
    {
      "cell_type": "code",
      "execution_count": null,
      "metadata": {
        "colab": {
          "base_uri": "https://localhost:8080/",
          "height": 35
        },
        "id": "JkSW-mcVP345",
        "outputId": "1e9e5cbb-8845-43a0-ba5e-add00ce33836"
      },
      "outputs": [
        {
          "output_type": "execute_result",
          "data": {
            "text/plain": [
              "'1.12.1+cu113'"
            ],
            "application/vnd.google.colaboratory.intrinsic+json": {
              "type": "string"
            }
          },
          "metadata": {},
          "execution_count": 2
        }
      ],
      "source": [
        "import torch\n",
        "# nn contains all of pytorch's building blocks for neural networks\n",
        "from torch import nn \n",
        "import matplotlib.pyplot as plt\n",
        "import numpy as np\n",
        "# check PyTorch version\n",
        "torch.__version__"
      ]
    },
    {
      "cell_type": "markdown",
      "source": [
        "## 1. Data (preparing the data)"
      ],
      "metadata": {
        "id": "BedY5gN-RYfX"
      }
    },
    {
      "cell_type": "code",
      "source": [
        "# y = a + bx\n",
        "weight = 0.7\n",
        "bias = 0.3\n",
        "\n",
        "# create \n",
        "start = 0\n",
        "end = 1\n",
        "step = 0.02\n",
        "X = torch.arange(start,end,step).unsqueeze(dim=1)\n",
        "y = weight*X + bias\n",
        "X[:10], y[:10]"
      ],
      "metadata": {
        "colab": {
          "base_uri": "https://localhost:8080/"
        },
        "id": "3DuJo5tKQhF9",
        "outputId": "86887819-7aa3-4f38-9bee-63d2a9b1d59c"
      },
      "execution_count": null,
      "outputs": [
        {
          "output_type": "execute_result",
          "data": {
            "text/plain": [
              "(tensor([[0.0000],\n",
              "         [0.0200],\n",
              "         [0.0400],\n",
              "         [0.0600],\n",
              "         [0.0800],\n",
              "         [0.1000],\n",
              "         [0.1200],\n",
              "         [0.1400],\n",
              "         [0.1600],\n",
              "         [0.1800]]), tensor([[0.3000],\n",
              "         [0.3140],\n",
              "         [0.3280],\n",
              "         [0.3420],\n",
              "         [0.3560],\n",
              "         [0.3700],\n",
              "         [0.3840],\n",
              "         [0.3980],\n",
              "         [0.4120],\n",
              "         [0.4260]]))"
            ]
          },
          "metadata": {},
          "execution_count": 3
        }
      ]
    },
    {
      "cell_type": "code",
      "source": [
        "len(X), len(y)"
      ],
      "metadata": {
        "colab": {
          "base_uri": "https://localhost:8080/"
        },
        "id": "It3j5eVZTEd7",
        "outputId": "3f51acff-b518-49e9-aafd-4e5f17d93ff4"
      },
      "execution_count": null,
      "outputs": [
        {
          "output_type": "execute_result",
          "data": {
            "text/plain": [
              "(50, 50)"
            ]
          },
          "metadata": {},
          "execution_count": 4
        }
      ]
    },
    {
      "cell_type": "markdown",
      "source": [
        "## Ler's create training and test set with our data.\n"
      ],
      "metadata": {
        "id": "12IpAj5LUNdj"
      }
    },
    {
      "cell_type": "code",
      "source": [
        "# create a train/test split(training test)\n",
        "train_split = int(0.8*len(X))\n",
        "X_train, X_test = X[:train_split], X[train_split:] # X train/test\n",
        "y_train, y_test = y[:train_split], y[train_split:] # y train/test\n",
        "\n",
        "len(X_train), len(X_test) ,len(y_train), len(y_test)"
      ],
      "metadata": {
        "colab": {
          "base_uri": "https://localhost:8080/"
        },
        "id": "UeL1b_jXTLRe",
        "outputId": "d67acbb7-93b3-4e0e-9150-cd49b4702043"
      },
      "execution_count": null,
      "outputs": [
        {
          "output_type": "execute_result",
          "data": {
            "text/plain": [
              "(40, 10, 40, 10)"
            ]
          },
          "metadata": {},
          "execution_count": 5
        }
      ]
    },
    {
      "cell_type": "markdown",
      "source": [
        "## how might better visualize the data"
      ],
      "metadata": {
        "id": "_jINyDFwWENI"
      }
    },
    {
      "cell_type": "code",
      "source": [
        "def plot_prediction(train_data=X_train, \n",
        "                     train_labels= y_train,\n",
        "                     test_labels = X_test,\n",
        "                     test_data = y_test,predictions=None):\n",
        "  \"\"\"\n",
        "  Plots training data, test data, and compares predictions.\n",
        "  \"\"\"\n",
        "  plt.figure(figsize=(10,7))\n",
        "\n",
        "  # plot training data in blue\n",
        "  plt.scatter(train_data,train_labels, c='b',s=4, label=\"Training data\")\n",
        "\n",
        "  # plot test data in green\n",
        "  plt.scatter(test_data, test_labels, c='g', s=4,label=\"Testing data\")\n",
        "\n",
        "  # Are there predictions?\n",
        "  if predictions is not None:\n",
        "    # plot the prediction if they exist\n",
        "    plt.scatter(test_data, predictions, c='r', s=4, label='Predicitons')\n",
        "\n",
        "  #show legends\n",
        "  plt.legend(prop={\"size\":14});\n",
        "\n"
      ],
      "metadata": {
        "id": "BPwthrQpVNPW"
      },
      "execution_count": null,
      "outputs": []
    },
    {
      "cell_type": "code",
      "source": [
        "plot_prediction();"
      ],
      "metadata": {
        "colab": {
          "base_uri": "https://localhost:8080/",
          "height": 428
        },
        "id": "iLx_HKPlWvzu",
        "outputId": "5bbc91d5-5359-427f-94cc-e2eea9c7f091"
      },
      "execution_count": null,
      "outputs": [
        {
          "output_type": "display_data",
          "data": {
            "text/plain": [
              "<Figure size 720x504 with 1 Axes>"
            ],
            "image/png": "[encoded data removed]"
          },
          "metadata": {
            "needs_background": "light"
          }
        }
      ]
    },
    {
      "cell_type": "markdown",
      "source": [
        "## 2. Build Model"
      ],
      "metadata": {
        "id": "DhtHWouuZPXM"
      }
    },
    {
      "cell_type": "code",
      "source": [
        "# Create linear regression model class\n",
        "class LinearRegressionModel(nn.Module): # <- almost everything, sin nn.Module is Base Class for all network modules\n",
        "  def __init__(self):\n",
        "    super().__init__()\n",
        "    self.weights = nn.Parameter(torch.randn(1, \n",
        "                               requires_grad=True,\n",
        "                               dtype = torch.float))\n",
        "    self.bias = nn.Parameter(torch.randn(1,\n",
        "                                         dtype=torch.float))\n",
        "    # Forward method to define computation in model\n",
        "  def forward(self, x: torch.Tensor) -> torch.Tensor:\n",
        "    return self.weights * x + self.bias # this is the linear formula"
      ],
      "metadata": {
        "id": "bdW_5nQTZPGP"
      },
      "execution_count": null,
      "outputs": []
    },
    {
      "cell_type": "code",
      "source": [
        "### Pytorch models eesentials\n",
        "\n",
        "### ckecking the content of the model\n",
        "\n",
        "## create random seed\n",
        "torch.manual_seed(42)\n",
        "\n",
        "#create an instance of the module\n",
        "model_01 = LinearRegressionModel()\n",
        "list(model_01.parameters())"
      ],
      "metadata": {
        "colab": {
          "base_uri": "https://localhost:8080/"
        },
        "id": "fbyqbCS2YifQ",
        "outputId": "4d65a5f7-7fb8-4193-b59a-27656c135c0f"
      },
      "execution_count": null,
      "outputs": [
        {
          "output_type": "execute_result",
          "data": {
            "text/plain": [
              "[Parameter containing:\n",
              " tensor([0.3367], requires_grad=True), Parameter containing:\n",
              " tensor([0.1288], requires_grad=True)]"
            ]
          },
          "metadata": {},
          "execution_count": 9
        }
      ]
    },
    {
      "cell_type": "markdown",
      "source": [
        "## Making prediction with our Models"
      ],
      "metadata": {
        "id": "0yfcJrlnkjTM"
      }
    },
    {
      "cell_type": "code",
      "source": [
        "y_test # actual value\n"
      ],
      "metadata": {
        "colab": {
          "base_uri": "https://localhost:8080/"
        },
        "id": "K0_i3VNflLYr",
        "outputId": "a0e19829-06f3-4029-f18a-dbda719ecfaa"
      },
      "execution_count": null,
      "outputs": [
        {
          "output_type": "execute_result",
          "data": {
            "text/plain": [
              "tensor([[0.8600],\n",
              "        [0.8740],\n",
              "        [0.8880],\n",
              "        [0.9020],\n",
              "        [0.9160],\n",
              "        [0.9300],\n",
              "        [0.9440],\n",
              "        [0.9580],\n",
              "        [0.9720],\n",
              "        [0.9860]])"
            ]
          },
          "metadata": {},
          "execution_count": 10
        }
      ]
    },
    {
      "cell_type": "code",
      "source": [
        "# torch.inference_mode()\n",
        "\n",
        "# y_test based on X_test\n",
        "with torch.inference_mode():\n",
        "  y_preds = model_01(X_test)\n",
        "\n",
        "y_preds"
      ],
      "metadata": {
        "colab": {
          "base_uri": "https://localhost:8080/"
        },
        "id": "fVTgjOr3h7H6",
        "outputId": "bd45f2ae-e516-4543-b4da-7dda71288c21"
      },
      "execution_count": null,
      "outputs": [
        {
          "output_type": "execute_result",
          "data": {
            "text/plain": [
              "tensor([[0.3982],\n",
              "        [0.4049],\n",
              "        [0.4116],\n",
              "        [0.4184],\n",
              "        [0.4251],\n",
              "        [0.4318],\n",
              "        [0.4386],\n",
              "        [0.4453],\n",
              "        [0.4520],\n",
              "        [0.4588]])"
            ]
          },
          "metadata": {},
          "execution_count": 11
        }
      ]
    },
    {
      "cell_type": "code",
      "source": [
        "plot_prediction(predictions=y_preds)"
      ],
      "metadata": {
        "colab": {
          "base_uri": "https://localhost:8080/",
          "height": 428
        },
        "id": "gwtMa5rmlQ8B",
        "outputId": "db49fc10-2984-4cee-e21f-275c7c469344"
      },
      "execution_count": null,
      "outputs": [
        {
          "output_type": "display_data",
          "data": {
            "text/plain": [
              "<Figure size 720x504 with 1 Axes>"
            ],
            "image/png": "[encoded data removed]"
          },
          "metadata": {
            "needs_background": "light"
          }
        }
      ]
    },
    {
      "cell_type": "markdown",
      "source": [
        "### training a model with PyTorch(intuition building)\n",
        "\n",
        "** things we need:**\n",
        "* Loss Function: to measure how wrong your model's prediction is from the ideal\n",
        "* optimizer: take into account the loss of a model and adjusts the model parameters (e.g weight & bias in our case) to improve the loss function\n",
        "\n",
        "**And specifially for pytorch, we need**\n",
        "* A training loop\n",
        "* A testing loop"
      ],
      "metadata": {
        "id": "820lJTW6m2mb"
      }
    },
    {
      "cell_type": "code",
      "source": [
        "# the whole idea of training is to move the model from unknow pararmeters(these may be random) to known parameters\n",
        "# and how to measure how wrong the model predictions are to use the loss function\n",
        "# lost function/ cost fucntion/ criterion\n",
        "#list(model_01.parameters())"
      ],
      "metadata": {
        "id": "fOPum6_omoG_"
      },
      "execution_count": null,
      "outputs": []
    },
    {
      "cell_type": "code",
      "source": [
        "model_01.state_dict()"
      ],
      "metadata": {
        "colab": {
          "base_uri": "https://localhost:8080/"
        },
        "id": "0xgvBHGap3yO",
        "outputId": "b2051232-33c9-4139-d983-5331d70ea264"
      },
      "execution_count": null,
      "outputs": [
        {
          "output_type": "execute_result",
          "data": {
            "text/plain": [
              "OrderedDict([('weights', tensor([0.3367])), ('bias', tensor([0.1288]))])"
            ]
          },
          "metadata": {},
          "execution_count": 14
        }
      ]
    },
    {
      "cell_type": "code",
      "source": [
        "# set up loss function\n",
        "loss_fn = nn.L1Loss()\n",
        "\n",
        "# set up an optimizer (stochastic gradient descent)\n",
        "optimizer = torch.optim.SGD(model_01.parameters(),lr=0.01)"
      ],
      "metadata": {
        "id": "1mLqh9wAp_q2"
      },
      "execution_count": null,
      "outputs": []
    },
    {
      "cell_type": "markdown",
      "source": [
        "0. loop through the data\n",
        "1. forward pass to make prediction on data - also called forward propagation\n",
        "2. calculate the loss\n",
        "3. Optimizer zero grad \n",
        "4. Loss backward ()\n",
        "5. Optimizer step\n"
      ],
      "metadata": {
        "id": "MY_2efLBwk54"
      }
    },
    {
      "cell_type": "code",
      "source": [],
      "metadata": {
        "id": "3bHXMhgvz8F5"
      },
      "execution_count": null,
      "outputs": []
    },
    {
      "cell_type": "code",
      "source": [
        "torch.manual_seed(42)\n",
        "# to reduce the MAE\n",
        "# building a training loop in pytorh (and a testing loop)\n",
        "# epoch is one loop through the data... (this is a hyperparameter because we)\n",
        "# this how the model learns\n",
        "epochs = 200\n",
        "## track different values\n",
        "epoch_count =[]\n",
        "loss_values = []\n",
        "test_loss_values = []\n",
        "\n",
        "for epoch in range(epochs):\n",
        "  # set the model to traing mode\n",
        "  model_01.train()\n",
        "\n",
        "  # 1. forward pass\n",
        "  y_pred  = model_01(X_train)\n",
        "\n",
        "  #.2 calculate the loss\n",
        "  loss = loss_fn(y_pred, y_train)\n",
        "  print(\"loss:\", loss)\n",
        "\n",
        "  #3. zero the optimizer gradient\n",
        "  optimizer.zero_grad()\n",
        "  \n",
        "  # 4. perform backward propagation\n",
        "  loss.backward()\n",
        "\n",
        "\n",
        "  # step the optimizer \n",
        "  optimizer.step()\n",
        " \n",
        "  ## testing  code \n",
        "  model_01.eval() # turnns off different setting in the model not needed for evaluation\n",
        "  with torch.inference_mode():\n",
        "  #1, do the forward pass\n",
        "    test_pred = model_01(X_test)\n",
        "  #2. calculate the loss\n",
        "    test_loss = loss_fn(test_pred, y_test)\n",
        "\n",
        "  # print what's happening\n",
        "  if epoch % 1==0:\n",
        "    epoch_count.append(epoch)\n",
        "    loss_values.append(loss)\n",
        "    test_loss_values.append(test_loss)\n",
        "\n",
        "    print(f'Epoch: {epoch}| Loss: {loss} | Test loss: {test_loss}')\n",
        "    # print out model state_dict()\n",
        "    print(model_01.state_dict())"
      ],
      "metadata": {
        "colab": {
          "base_uri": "https://localhost:8080/"
        },
        "id": "gWk_rURqs7R3",
        "outputId": "06f7e1d5-d8e6-48cc-f3f0-0eab302e23fc"
      },
      "execution_count": null,
      "outputs": [
        {
          "output_type": "stream",
          "name": "stdout",
          "text": [
            "loss: tensor(0.3129, grad_fn=<L1LossBackward0>)\n",
            "Epoch: 0| Loss: 0.31288138031959534 | Test loss: 0.48106518387794495\n",
            "OrderedDict([('weights', tensor([0.3406])), ('bias', tensor([0.1388]))])\n",
            "loss: tensor(0.3014, grad_fn=<L1LossBackward0>)\n",
            "Epoch: 1| Loss: 0.3013603389263153 | Test loss: 0.4675942063331604\n",
            "OrderedDict([('weights', tensor([0.3445])), ('bias', tensor([0.1488]))])\n",
            "loss: tensor(0.2898, grad_fn=<L1LossBackward0>)\n",
            "Epoch: 2| Loss: 0.28983935713768005 | Test loss: 0.4541231691837311\n",
            "OrderedDict([('weights', tensor([0.3484])), ('bias', tensor([0.1588]))])\n",
            "loss: tensor(0.2783, grad_fn=<L1LossBackward0>)\n",
            "Epoch: 3| Loss: 0.2783183455467224 | Test loss: 0.44065219163894653\n",
            "OrderedDict([('weights', tensor([0.3523])), ('bias', tensor([0.1688]))])\n",
            "loss: tensor(0.2668, grad_fn=<L1LossBackward0>)\n",
            "Epoch: 4| Loss: 0.26679736375808716 | Test loss: 0.4271811842918396\n",
            "OrderedDict([('weights', tensor([0.3562])), ('bias', tensor([0.1788]))])\n",
            "loss: tensor(0.2553, grad_fn=<L1LossBackward0>)\n",
            "Epoch: 5| Loss: 0.2552763521671295 | Test loss: 0.41371020674705505\n",
            "OrderedDict([('weights', tensor([0.3601])), ('bias', tensor([0.1888]))])\n",
            "loss: tensor(0.2438, grad_fn=<L1LossBackward0>)\n",
            "Epoch: 6| Loss: 0.24375534057617188 | Test loss: 0.40023916959762573\n",
            "OrderedDict([('weights', tensor([0.3640])), ('bias', tensor([0.1988]))])\n",
            "loss: tensor(0.2322, grad_fn=<L1LossBackward0>)\n",
            "Epoch: 7| Loss: 0.23223432898521423 | Test loss: 0.3867681920528412\n",
            "OrderedDict([('weights', tensor([0.3679])), ('bias', tensor([0.2088]))])\n",
            "loss: tensor(0.2207, grad_fn=<L1LossBackward0>)\n",
            "Epoch: 8| Loss: 0.22071333229541779 | Test loss: 0.37329721450805664\n",
            "OrderedDict([('weights', tensor([0.3718])), ('bias', tensor([0.2188]))])\n",
            "loss: tensor(0.2092, grad_fn=<L1LossBackward0>)\n",
            "Epoch: 9| Loss: 0.20919232070446014 | Test loss: 0.3598262071609497\n",
            "OrderedDict([('weights', tensor([0.3757])), ('bias', tensor([0.2288]))])\n",
            "loss: tensor(0.1977, grad_fn=<L1LossBackward0>)\n",
            "Epoch: 10| Loss: 0.1976713240146637 | Test loss: 0.3463551998138428\n",
            "OrderedDict([('weights', tensor([0.3796])), ('bias', tensor([0.2388]))])\n",
            "loss: tensor(0.1862, grad_fn=<L1LossBackward0>)\n",
            "Epoch: 11| Loss: 0.18615034222602844 | Test loss: 0.3328842222690582\n",
            "OrderedDict([('weights', tensor([0.3835])), ('bias', tensor([0.2488]))])\n",
            "loss: tensor(0.1746, grad_fn=<L1LossBackward0>)\n",
            "Epoch: 12| Loss: 0.1746293306350708 | Test loss: 0.3194132149219513\n",
            "OrderedDict([('weights', tensor([0.3874])), ('bias', tensor([0.2588]))])\n",
            "loss: tensor(0.1631, grad_fn=<L1LossBackward0>)\n",
            "Epoch: 13| Loss: 0.16310831904411316 | Test loss: 0.30594223737716675\n",
            "OrderedDict([('weights', tensor([0.3913])), ('bias', tensor([0.2688]))])\n",
            "loss: tensor(0.1516, grad_fn=<L1LossBackward0>)\n",
            "Epoch: 14| Loss: 0.1515873372554779 | Test loss: 0.2924712300300598\n",
            "OrderedDict([('weights', tensor([0.3952])), ('bias', tensor([0.2788]))])\n",
            "loss: tensor(0.1401, grad_fn=<L1LossBackward0>)\n",
            "Epoch: 15| Loss: 0.14006635546684265 | Test loss: 0.27900025248527527\n",
            "OrderedDict([('weights', tensor([0.3991])), ('bias', tensor([0.2888]))])\n",
            "loss: tensor(0.1285, grad_fn=<L1LossBackward0>)\n",
            "Epoch: 16| Loss: 0.1285453587770462 | Test loss: 0.2655292749404907\n",
            "OrderedDict([('weights', tensor([0.4030])), ('bias', tensor([0.2988]))])\n",
            "loss: tensor(0.1170, grad_fn=<L1LossBackward0>)\n",
            "Epoch: 17| Loss: 0.11702437698841095 | Test loss: 0.2520582973957062\n",
            "OrderedDict([('weights', tensor([0.4069])), ('bias', tensor([0.3088]))])\n",
            "loss: tensor(0.1061, grad_fn=<L1LossBackward0>)\n",
            "Epoch: 18| Loss: 0.1060912236571312 | Test loss: 0.2395961582660675\n",
            "OrderedDict([('weights', tensor([0.4108])), ('bias', tensor([0.3178]))])\n",
            "loss: tensor(0.0968, grad_fn=<L1LossBackward0>)\n",
            "Epoch: 19| Loss: 0.09681284427642822 | Test loss: 0.22817862033843994\n",
            "OrderedDict([('weights', tensor([0.4146])), ('bias', tensor([0.3258]))])\n",
            "loss: tensor(0.0891, grad_fn=<L1LossBackward0>)\n",
            "Epoch: 20| Loss: 0.08908725529909134 | Test loss: 0.21729660034179688\n",
            "OrderedDict([('weights', tensor([0.4184])), ('bias', tensor([0.3333]))])\n",
            "loss: tensor(0.0823, grad_fn=<L1LossBackward0>)\n",
            "Epoch: 21| Loss: 0.08227583020925522 | Test loss: 0.2069590985774994\n",
            "OrderedDict([('weights', tensor([0.4222])), ('bias', tensor([0.3403]))])\n",
            "loss: tensor(0.0764, grad_fn=<L1LossBackward0>)\n",
            "Epoch: 22| Loss: 0.07638873159885406 | Test loss: 0.19773726165294647\n",
            "OrderedDict([('weights', tensor([0.4258])), ('bias', tensor([0.3463]))])\n",
            "loss: tensor(0.0716, grad_fn=<L1LossBackward0>)\n",
            "Epoch: 23| Loss: 0.07160007208585739 | Test loss: 0.1890866756439209\n",
            "OrderedDict([('weights', tensor([0.4293])), ('bias', tensor([0.3518]))])\n",
            "loss: tensor(0.0675, grad_fn=<L1LossBackward0>)\n",
            "Epoch: 24| Loss: 0.06747635453939438 | Test loss: 0.18101617693901062\n",
            "OrderedDict([('weights', tensor([0.4328])), ('bias', tensor([0.3568]))])\n",
            "loss: tensor(0.0640, grad_fn=<L1LossBackward0>)\n",
            "Epoch: 25| Loss: 0.06395438313484192 | Test loss: 0.17353470623493195\n",
            "OrderedDict([('weights', tensor([0.4361])), ('bias', tensor([0.3613]))])\n",
            "loss: tensor(0.0610, grad_fn=<L1LossBackward0>)\n",
            "Epoch: 26| Loss: 0.06097004935145378 | Test loss: 0.16665108501911163\n",
            "OrderedDict([('weights', tensor([0.4394])), ('bias', tensor([0.3653]))])\n",
            "loss: tensor(0.0585, grad_fn=<L1LossBackward0>)\n",
            "Epoch: 27| Loss: 0.05845819041132927 | Test loss: 0.16037428379058838\n",
            "OrderedDict([('weights', tensor([0.4425])), ('bias', tensor([0.3688]))])\n",
            "loss: tensor(0.0564, grad_fn=<L1LossBackward0>)\n",
            "Epoch: 28| Loss: 0.05635259300470352 | Test loss: 0.15471318364143372\n",
            "OrderedDict([('weights', tensor([0.4455])), ('bias', tensor([0.3718]))])\n",
            "loss: tensor(0.0546, grad_fn=<L1LossBackward0>)\n",
            "Epoch: 29| Loss: 0.0545857772231102 | Test loss: 0.14967669546604156\n",
            "OrderedDict([('weights', tensor([0.4483])), ('bias', tensor([0.3743]))])\n",
            "loss: tensor(0.0531, grad_fn=<L1LossBackward0>)\n",
            "Epoch: 30| Loss: 0.053148526698350906 | Test loss: 0.14464017748832703\n",
            "OrderedDict([('weights', tensor([0.4512])), ('bias', tensor([0.3768]))])\n",
            "loss: tensor(0.0518, grad_fn=<L1LossBackward0>)\n",
            "Epoch: 31| Loss: 0.05181945487856865 | Test loss: 0.14023718237876892\n",
            "OrderedDict([('weights', tensor([0.4539])), ('bias', tensor([0.3788]))])\n",
            "loss: tensor(0.0507, grad_fn=<L1LossBackward0>)\n",
            "Epoch: 32| Loss: 0.05069301277399063 | Test loss: 0.13647659122943878\n",
            "OrderedDict([('weights', tensor([0.4564])), ('bias', tensor([0.3803]))])\n",
            "loss: tensor(0.0498, grad_fn=<L1LossBackward0>)\n",
            "Epoch: 33| Loss: 0.0498228520154953 | Test loss: 0.13271598517894745\n",
            "OrderedDict([('weights', tensor([0.4590])), ('bias', tensor([0.3818]))])\n",
            "loss: tensor(0.0490, grad_fn=<L1LossBackward0>)\n",
            "Epoch: 34| Loss: 0.04895269125699997 | Test loss: 0.12895536422729492\n",
            "OrderedDict([('weights', tensor([0.4615])), ('bias', tensor([0.3833]))])\n",
            "loss: tensor(0.0482, grad_fn=<L1LossBackward0>)\n",
            "Epoch: 35| Loss: 0.04819351062178612 | Test loss: 0.12584610283374786\n",
            "OrderedDict([('weights', tensor([0.4639])), ('bias', tensor([0.3843]))])\n",
            "loss: tensor(0.0475, grad_fn=<L1LossBackward0>)\n",
            "Epoch: 36| Loss: 0.047531817108392715 | Test loss: 0.12273679673671722\n",
            "OrderedDict([('weights', tensor([0.4662])), ('bias', tensor([0.3853]))])\n",
            "loss: tensor(0.0469, grad_fn=<L1LossBackward0>)\n",
            "Epoch: 37| Loss: 0.04692792519927025 | Test loss: 0.1202877014875412\n",
            "OrderedDict([('weights', tensor([0.4684])), ('bias', tensor([0.3858]))])\n",
            "loss: tensor(0.0464, grad_fn=<L1LossBackward0>)\n",
            "Epoch: 38| Loss: 0.04642331600189209 | Test loss: 0.11783860623836517\n",
            "OrderedDict([('weights', tensor([0.4706])), ('bias', tensor([0.3863]))])\n",
            "loss: tensor(0.0459, grad_fn=<L1LossBackward0>)\n",
            "Epoch: 39| Loss: 0.04591871052980423 | Test loss: 0.11538954079151154\n",
            "OrderedDict([('weights', tensor([0.4728])), ('bias', tensor([0.3868]))])\n",
            "loss: tensor(0.0454, grad_fn=<L1LossBackward0>)\n",
            "Epoch: 40| Loss: 0.04543796554207802 | Test loss: 0.11360953003168106\n",
            "OrderedDict([('weights', tensor([0.4748])), ('bias', tensor([0.3868]))])\n",
            "loss: tensor(0.0450, grad_fn=<L1LossBackward0>)\n",
            "Epoch: 41| Loss: 0.04503796249628067 | Test loss: 0.11182951927185059\n",
            "OrderedDict([('weights', tensor([0.4768])), ('bias', tensor([0.3868]))])\n",
            "loss: tensor(0.0446, grad_fn=<L1LossBackward0>)\n",
            "Epoch: 42| Loss: 0.04463795945048332 | Test loss: 0.1100495308637619\n",
            "OrderedDict([('weights', tensor([0.4788])), ('bias', tensor([0.3868]))])\n",
            "loss: tensor(0.0442, grad_fn=<L1LossBackward0>)\n",
            "Epoch: 43| Loss: 0.04423796385526657 | Test loss: 0.10826952755451202\n",
            "OrderedDict([('weights', tensor([0.4808])), ('bias', tensor([0.3868]))])\n",
            "loss: tensor(0.0438, grad_fn=<L1LossBackward0>)\n",
            "Epoch: 44| Loss: 0.04383796453475952 | Test loss: 0.10648951679468155\n",
            "OrderedDict([('weights', tensor([0.4828])), ('bias', tensor([0.3868]))])\n",
            "loss: tensor(0.0434, grad_fn=<L1LossBackward0>)\n",
            "Epoch: 45| Loss: 0.04343796148896217 | Test loss: 0.10470950603485107\n",
            "OrderedDict([('weights', tensor([0.4848])), ('bias', tensor([0.3868]))])\n",
            "loss: tensor(0.0431, grad_fn=<L1LossBackward0>)\n",
            "Epoch: 46| Loss: 0.043074630200862885 | Test loss: 0.10360751301050186\n",
            "OrderedDict([('weights', tensor([0.4866])), ('bias', tensor([0.3863]))])\n",
            "loss: tensor(0.0427, grad_fn=<L1LossBackward0>)\n",
            "Epoch: 47| Loss: 0.04272563382983208 | Test loss: 0.10250549018383026\n",
            "OrderedDict([('weights', tensor([0.4884])), ('bias', tensor([0.3858]))])\n",
            "loss: tensor(0.0424, grad_fn=<L1LossBackward0>)\n",
            "Epoch: 48| Loss: 0.04237663000822067 | Test loss: 0.10140349715948105\n",
            "OrderedDict([('weights', tensor([0.4902])), ('bias', tensor([0.3853]))])\n",
            "loss: tensor(0.0420, grad_fn=<L1LossBackward0>)\n",
            "Epoch: 49| Loss: 0.04202762991189957 | Test loss: 0.10030148178339005\n",
            "OrderedDict([('weights', tensor([0.4920])), ('bias', tensor([0.3848]))])\n",
            "loss: tensor(0.0417, grad_fn=<L1LossBackward0>)\n",
            "Epoch: 50| Loss: 0.04167863354086876 | Test loss: 0.09919948130846024\n",
            "OrderedDict([('weights', tensor([0.4938])), ('bias', tensor([0.3843]))])\n",
            "loss: tensor(0.0413, grad_fn=<L1LossBackward0>)\n",
            "Epoch: 51| Loss: 0.04132963344454765 | Test loss: 0.09809747338294983\n",
            "OrderedDict([('weights', tensor([0.4956])), ('bias', tensor([0.3838]))])\n",
            "loss: tensor(0.0410, grad_fn=<L1LossBackward0>)\n",
            "Epoch: 52| Loss: 0.04098063334822655 | Test loss: 0.09699545800685883\n",
            "OrderedDict([('weights', tensor([0.4974])), ('bias', tensor([0.3833]))])\n",
            "loss: tensor(0.0406, grad_fn=<L1LossBackward0>)\n",
            "Epoch: 53| Loss: 0.04063162952661514 | Test loss: 0.09589345753192902\n",
            "OrderedDict([('weights', tensor([0.4992])), ('bias', tensor([0.3828]))])\n",
            "loss: tensor(0.0403, grad_fn=<L1LossBackward0>)\n",
            "Epoch: 54| Loss: 0.040282636880874634 | Test loss: 0.0947914719581604\n",
            "OrderedDict([('weights', tensor([0.5010])), ('bias', tensor([0.3823]))])\n",
            "loss: tensor(0.0399, grad_fn=<L1LossBackward0>)\n",
            "Epoch: 55| Loss: 0.039933640509843826 | Test loss: 0.09368947893381119\n",
            "OrderedDict([('weights', tensor([0.5028])), ('bias', tensor([0.3818]))])\n",
            "loss: tensor(0.0396, grad_fn=<L1LossBackward0>)\n",
            "Epoch: 56| Loss: 0.03958464413881302 | Test loss: 0.09258746355772018\n",
            "OrderedDict([('weights', tensor([0.5046])), ('bias', tensor([0.3813]))])\n",
            "loss: tensor(0.0392, grad_fn=<L1LossBackward0>)\n",
            "Epoch: 57| Loss: 0.03923564404249191 | Test loss: 0.09148545563220978\n",
            "OrderedDict([('weights', tensor([0.5064])), ('bias', tensor([0.3808]))])\n",
            "loss: tensor(0.0389, grad_fn=<L1LossBackward0>)\n",
            "Epoch: 58| Loss: 0.03888664394617081 | Test loss: 0.09038344770669937\n",
            "OrderedDict([('weights', tensor([0.5082])), ('bias', tensor([0.3803]))])\n",
            "loss: tensor(0.0385, grad_fn=<L1LossBackward0>)\n",
            "Epoch: 59| Loss: 0.0385376438498497 | Test loss: 0.08928143978118896\n",
            "OrderedDict([('weights', tensor([0.5100])), ('bias', tensor([0.3798]))])\n",
            "loss: tensor(0.0382, grad_fn=<L1LossBackward0>)\n",
            "Epoch: 60| Loss: 0.03818932920694351 | Test loss: 0.08886633068323135\n",
            "OrderedDict([('weights', tensor([0.5116])), ('bias', tensor([0.3788]))])\n",
            "loss: tensor(0.0379, grad_fn=<L1LossBackward0>)\n",
            "Epoch: 61| Loss: 0.03785243630409241 | Test loss: 0.08776430785655975\n",
            "OrderedDict([('weights', tensor([0.5134])), ('bias', tensor([0.3783]))])\n",
            "loss: tensor(0.0375, grad_fn=<L1LossBackward0>)\n",
            "Epoch: 62| Loss: 0.0375034399330616 | Test loss: 0.08666229248046875\n",
            "OrderedDict([('weights', tensor([0.5152])), ('bias', tensor([0.3778]))])\n",
            "loss: tensor(0.0372, grad_fn=<L1LossBackward0>)\n",
            "Epoch: 63| Loss: 0.037164121866226196 | Test loss: 0.08624717593193054\n",
            "OrderedDict([('weights', tensor([0.5168])), ('bias', tensor([0.3768]))])\n",
            "loss: tensor(0.0368, grad_fn=<L1LossBackward0>)\n",
            "Epoch: 64| Loss: 0.03681822493672371 | Test loss: 0.08514519035816193\n",
            "OrderedDict([('weights', tensor([0.5186])), ('bias', tensor([0.3763]))])\n",
            "loss: tensor(0.0365, grad_fn=<L1LossBackward0>)\n",
            "Epoch: 65| Loss: 0.03647511452436447 | Test loss: 0.08473004400730133\n",
            "OrderedDict([('weights', tensor([0.5202])), ('bias', tensor([0.3753]))])\n",
            "loss: tensor(0.0361, grad_fn=<L1LossBackward0>)\n",
            "Epoch: 66| Loss: 0.03613303601741791 | Test loss: 0.08362803608179092\n",
            "OrderedDict([('weights', tensor([0.5220])), ('bias', tensor([0.3748]))])\n",
            "loss: tensor(0.0358, grad_fn=<L1LossBackward0>)\n",
            "Epoch: 67| Loss: 0.03578609973192215 | Test loss: 0.08321291208267212\n",
            "OrderedDict([('weights', tensor([0.5236])), ('bias', tensor([0.3738]))])\n",
            "loss: tensor(0.0354, grad_fn=<L1LossBackward0>)\n",
            "Epoch: 68| Loss: 0.03544783592224121 | Test loss: 0.08211090415716171\n",
            "OrderedDict([('weights', tensor([0.5254])), ('bias', tensor([0.3733]))])\n",
            "loss: tensor(0.0351, grad_fn=<L1LossBackward0>)\n",
            "Epoch: 69| Loss: 0.035098835825920105 | Test loss: 0.0810088962316513\n",
            "OrderedDict([('weights', tensor([0.5272])), ('bias', tensor([0.3728]))])\n",
            "loss: tensor(0.0348, grad_fn=<L1LossBackward0>)\n",
            "Epoch: 70| Loss: 0.03476089984178543 | Test loss: 0.0805937647819519\n",
            "OrderedDict([('weights', tensor([0.5288])), ('bias', tensor([0.3718]))])\n",
            "loss: tensor(0.0344, grad_fn=<L1LossBackward0>)\n",
            "Epoch: 71| Loss: 0.03441363573074341 | Test loss: 0.0794917643070221\n",
            "OrderedDict([('weights', tensor([0.5306])), ('bias', tensor([0.3713]))])\n",
            "loss: tensor(0.0341, grad_fn=<L1LossBackward0>)\n",
            "Epoch: 72| Loss: 0.03407188132405281 | Test loss: 0.07907666265964508\n",
            "OrderedDict([('weights', tensor([0.5322])), ('bias', tensor([0.3703]))])\n",
            "loss: tensor(0.0337, grad_fn=<L1LossBackward0>)\n",
            "Epoch: 73| Loss: 0.03372843936085701 | Test loss: 0.07797462493181229\n",
            "OrderedDict([('weights', tensor([0.5340])), ('bias', tensor([0.3698]))])\n",
            "loss: tensor(0.0334, grad_fn=<L1LossBackward0>)\n",
            "Epoch: 74| Loss: 0.03338287025690079 | Test loss: 0.07755951583385468\n",
            "OrderedDict([('weights', tensor([0.5355])), ('bias', tensor([0.3688]))])\n",
            "loss: tensor(0.0330, grad_fn=<L1LossBackward0>)\n",
            "Epoch: 75| Loss: 0.033043231815099716 | Test loss: 0.07645749300718307\n",
            "OrderedDict([('weights', tensor([0.5373])), ('bias', tensor([0.3683]))])\n",
            "loss: tensor(0.0327, grad_fn=<L1LossBackward0>)\n",
            "Epoch: 76| Loss: 0.03269423171877861 | Test loss: 0.07535548508167267\n",
            "OrderedDict([('weights', tensor([0.5391])), ('bias', tensor([0.3678]))])\n",
            "loss: tensor(0.0324, grad_fn=<L1LossBackward0>)\n",
            "Epoch: 77| Loss: 0.032357655465602875 | Test loss: 0.07494036853313446\n",
            "OrderedDict([('weights', tensor([0.5407])), ('bias', tensor([0.3668]))])\n",
            "loss: tensor(0.0320, grad_fn=<L1LossBackward0>)\n",
            "Epoch: 78| Loss: 0.03200903534889221 | Test loss: 0.07383836805820465\n",
            "OrderedDict([('weights', tensor([0.5425])), ('bias', tensor([0.3663]))])\n",
            "loss: tensor(0.0317, grad_fn=<L1LossBackward0>)\n",
            "Epoch: 79| Loss: 0.03166864812374115 | Test loss: 0.07342323660850525\n",
            "OrderedDict([('weights', tensor([0.5441])), ('bias', tensor([0.3653]))])\n",
            "loss: tensor(0.0313, grad_fn=<L1LossBackward0>)\n",
            "Epoch: 80| Loss: 0.03132382780313492 | Test loss: 0.07232122868299484\n",
            "OrderedDict([('weights', tensor([0.5459])), ('bias', tensor([0.3648]))])\n",
            "loss: tensor(0.0310, grad_fn=<L1LossBackward0>)\n",
            "Epoch: 81| Loss: 0.030979642644524574 | Test loss: 0.07190609723329544\n",
            "OrderedDict([('weights', tensor([0.5475])), ('bias', tensor([0.3638]))])\n",
            "loss: tensor(0.0306, grad_fn=<L1LossBackward0>)\n",
            "Epoch: 82| Loss: 0.030638623982667923 | Test loss: 0.07080408930778503\n",
            "OrderedDict([('weights', tensor([0.5493])), ('bias', tensor([0.3633]))])\n",
            "loss: tensor(0.0303, grad_fn=<L1LossBackward0>)\n",
            "Epoch: 83| Loss: 0.0302906334400177 | Test loss: 0.07038896530866623\n",
            "OrderedDict([('weights', tensor([0.5509])), ('bias', tensor([0.3623]))])\n",
            "loss: tensor(0.0300, grad_fn=<L1LossBackward0>)\n",
            "Epoch: 84| Loss: 0.029953425750136375 | Test loss: 0.06928696483373642\n",
            "OrderedDict([('weights', tensor([0.5527])), ('bias', tensor([0.3618]))])\n",
            "loss: tensor(0.0296, grad_fn=<L1LossBackward0>)\n",
            "Epoch: 85| Loss: 0.02960442565381527 | Test loss: 0.06818496435880661\n",
            "OrderedDict([('weights', tensor([0.5545])), ('bias', tensor([0.3613]))])\n",
            "loss: tensor(0.0293, grad_fn=<L1LossBackward0>)\n",
            "Epoch: 86| Loss: 0.029265418648719788 | Test loss: 0.0677698403596878\n",
            "OrderedDict([('weights', tensor([0.5561])), ('bias', tensor([0.3603]))])\n",
            "loss: tensor(0.0289, grad_fn=<L1LossBackward0>)\n",
            "Epoch: 87| Loss: 0.028919223695993423 | Test loss: 0.0666678324341774\n",
            "OrderedDict([('weights', tensor([0.5579])), ('bias', tensor([0.3598]))])\n",
            "loss: tensor(0.0286, grad_fn=<L1LossBackward0>)\n",
            "Epoch: 88| Loss: 0.028576409444212914 | Test loss: 0.066252700984478\n",
            "OrderedDict([('weights', tensor([0.5595])), ('bias', tensor([0.3588]))])\n",
            "loss: tensor(0.0282, grad_fn=<L1LossBackward0>)\n",
            "Epoch: 89| Loss: 0.028234025463461876 | Test loss: 0.06515069305896759\n",
            "OrderedDict([('weights', tensor([0.5613])), ('bias', tensor([0.3583]))])\n",
            "loss: tensor(0.0279, grad_fn=<L1LossBackward0>)\n",
            "Epoch: 90| Loss: 0.02788739837706089 | Test loss: 0.06473556160926819\n",
            "OrderedDict([('weights', tensor([0.5629])), ('bias', tensor([0.3573]))])\n",
            "loss: tensor(0.0275, grad_fn=<L1LossBackward0>)\n",
            "Epoch: 91| Loss: 0.02754882536828518 | Test loss: 0.06363357603549957\n",
            "OrderedDict([('weights', tensor([0.5647])), ('bias', tensor([0.3568]))])\n",
            "loss: tensor(0.0272, grad_fn=<L1LossBackward0>)\n",
            "Epoch: 92| Loss: 0.027199819684028625 | Test loss: 0.06253156810998917\n",
            "OrderedDict([('weights', tensor([0.5665])), ('bias', tensor([0.3563]))])\n",
            "loss: tensor(0.0269, grad_fn=<L1LossBackward0>)\n",
            "Epoch: 93| Loss: 0.026862185448408127 | Test loss: 0.062116436660289764\n",
            "OrderedDict([('weights', tensor([0.5681])), ('bias', tensor([0.3553]))])\n",
            "loss: tensor(0.0265, grad_fn=<L1LossBackward0>)\n",
            "Epoch: 94| Loss: 0.02651461586356163 | Test loss: 0.061014432460069656\n",
            "OrderedDict([('weights', tensor([0.5699])), ('bias', tensor([0.3548]))])\n",
            "loss: tensor(0.0262, grad_fn=<L1LossBackward0>)\n",
            "Epoch: 95| Loss: 0.026173178106546402 | Test loss: 0.06059930846095085\n",
            "OrderedDict([('weights', tensor([0.5715])), ('bias', tensor([0.3538]))])\n",
            "loss: tensor(0.0258, grad_fn=<L1LossBackward0>)\n",
            "Epoch: 96| Loss: 0.025829419493675232 | Test loss: 0.05949730426073074\n",
            "OrderedDict([('weights', tensor([0.5733])), ('bias', tensor([0.3533]))])\n",
            "loss: tensor(0.0255, grad_fn=<L1LossBackward0>)\n",
            "Epoch: 97| Loss: 0.02548416517674923 | Test loss: 0.05908216908574104\n",
            "OrderedDict([('weights', tensor([0.5748])), ('bias', tensor([0.3523]))])\n",
            "loss: tensor(0.0251, grad_fn=<L1LossBackward0>)\n",
            "Epoch: 98| Loss: 0.025144213810563087 | Test loss: 0.057980168610811234\n",
            "OrderedDict([('weights', tensor([0.5766])), ('bias', tensor([0.3518]))])\n",
            "loss: tensor(0.0248, grad_fn=<L1LossBackward0>)\n",
            "Epoch: 99| Loss: 0.02479521557688713 | Test loss: 0.05687814950942993\n",
            "OrderedDict([('weights', tensor([0.5784])), ('bias', tensor([0.3513]))])\n",
            "loss: tensor(0.0245, grad_fn=<L1LossBackward0>)\n",
            "Epoch: 100| Loss: 0.024458957836031914 | Test loss: 0.05646304413676262\n",
            "OrderedDict([('weights', tensor([0.5800])), ('bias', tensor([0.3503]))])\n",
            "loss: tensor(0.0241, grad_fn=<L1LossBackward0>)\n",
            "Epoch: 101| Loss: 0.024110013619065285 | Test loss: 0.05536102131009102\n",
            "OrderedDict([('weights', tensor([0.5818])), ('bias', tensor([0.3498]))])\n",
            "loss: tensor(0.0238, grad_fn=<L1LossBackward0>)\n",
            "Epoch: 102| Loss: 0.02376994863152504 | Test loss: 0.05494590476155281\n",
            "OrderedDict([('weights', tensor([0.5834])), ('bias', tensor([0.3488]))])\n",
            "loss: tensor(0.0234, grad_fn=<L1LossBackward0>)\n",
            "Epoch: 103| Loss: 0.02342480979859829 | Test loss: 0.05384388566017151\n",
            "OrderedDict([('weights', tensor([0.5852])), ('bias', tensor([0.3483]))])\n",
            "loss: tensor(0.0231, grad_fn=<L1LossBackward0>)\n",
            "Epoch: 104| Loss: 0.023080935701727867 | Test loss: 0.0534287691116333\n",
            "OrderedDict([('weights', tensor([0.5868])), ('bias', tensor([0.3473]))])\n",
            "loss: tensor(0.0227, grad_fn=<L1LossBackward0>)\n",
            "Epoch: 105| Loss: 0.022739607840776443 | Test loss: 0.052326757460832596\n",
            "OrderedDict([('weights', tensor([0.5886])), ('bias', tensor([0.3468]))])\n",
            "loss: tensor(0.0224, grad_fn=<L1LossBackward0>)\n",
            "Epoch: 106| Loss: 0.022391926497220993 | Test loss: 0.05191164091229439\n",
            "OrderedDict([('weights', tensor([0.5902])), ('bias', tensor([0.3458]))])\n",
            "loss: tensor(0.0221, grad_fn=<L1LossBackward0>)\n",
            "Epoch: 107| Loss: 0.022054409608244896 | Test loss: 0.05080962926149368\n",
            "OrderedDict([('weights', tensor([0.5920])), ('bias', tensor([0.3453]))])\n",
            "loss: tensor(0.0217, grad_fn=<L1LossBackward0>)\n",
            "Epoch: 108| Loss: 0.02170540764927864 | Test loss: 0.049707621335983276\n",
            "OrderedDict([('weights', tensor([0.5938])), ('bias', tensor([0.3448]))])\n",
            "loss: tensor(0.0214, grad_fn=<L1LossBackward0>)\n",
            "Epoch: 109| Loss: 0.021366719156503677 | Test loss: 0.04929249361157417\n",
            "OrderedDict([('weights', tensor([0.5954])), ('bias', tensor([0.3438]))])\n",
            "loss: tensor(0.0210, grad_fn=<L1LossBackward0>)\n",
            "Epoch: 110| Loss: 0.021020207554101944 | Test loss: 0.04819049686193466\n",
            "OrderedDict([('weights', tensor([0.5972])), ('bias', tensor([0.3433]))])\n",
            "loss: tensor(0.0207, grad_fn=<L1LossBackward0>)\n",
            "Epoch: 111| Loss: 0.020677709951996803 | Test loss: 0.04777535796165466\n",
            "OrderedDict([('weights', tensor([0.5988])), ('bias', tensor([0.3423]))])\n",
            "loss: tensor(0.0203, grad_fn=<L1LossBackward0>)\n",
            "Epoch: 112| Loss: 0.02033500373363495 | Test loss: 0.046673357486724854\n",
            "OrderedDict([('weights', tensor([0.6006])), ('bias', tensor([0.3418]))])\n",
            "loss: tensor(0.0200, grad_fn=<L1LossBackward0>)\n",
            "Epoch: 113| Loss: 0.01998869702219963 | Test loss: 0.04625822976231575\n",
            "OrderedDict([('weights', tensor([0.6022])), ('bias', tensor([0.3408]))])\n",
            "loss: tensor(0.0196, grad_fn=<L1LossBackward0>)\n",
            "Epoch: 114| Loss: 0.019649803638458252 | Test loss: 0.045156221836805344\n",
            "OrderedDict([('weights', tensor([0.6040])), ('bias', tensor([0.3403]))])\n",
            "loss: tensor(0.0193, grad_fn=<L1LossBackward0>)\n",
            "Epoch: 115| Loss: 0.019300809130072594 | Test loss: 0.04405422881245613\n",
            "OrderedDict([('weights', tensor([0.6058])), ('bias', tensor([0.3398]))])\n",
            "loss: tensor(0.0190, grad_fn=<L1LossBackward0>)\n",
            "Epoch: 116| Loss: 0.018963487818837166 | Test loss: 0.04363910108804703\n",
            "OrderedDict([('weights', tensor([0.6074])), ('bias', tensor([0.3388]))])\n",
            "loss: tensor(0.0186, grad_fn=<L1LossBackward0>)\n",
            "Epoch: 117| Loss: 0.01861560344696045 | Test loss: 0.04253707453608513\n",
            "OrderedDict([('weights', tensor([0.6092])), ('bias', tensor([0.3383]))])\n",
            "loss: tensor(0.0183, grad_fn=<L1LossBackward0>)\n",
            "Epoch: 118| Loss: 0.018274478614330292 | Test loss: 0.042121969163417816\n",
            "OrderedDict([('weights', tensor([0.6108])), ('bias', tensor([0.3373]))])\n",
            "loss: tensor(0.0179, grad_fn=<L1LossBackward0>)\n",
            "Epoch: 119| Loss: 0.017930403351783752 | Test loss: 0.04101995751261711\n",
            "OrderedDict([('weights', tensor([0.6126])), ('bias', tensor([0.3368]))])\n",
            "loss: tensor(0.0176, grad_fn=<L1LossBackward0>)\n",
            "Epoch: 120| Loss: 0.01758546568453312 | Test loss: 0.04060482233762741\n",
            "OrderedDict([('weights', tensor([0.6141])), ('bias', tensor([0.3358]))])\n",
            "loss: tensor(0.0172, grad_fn=<L1LossBackward0>)\n",
            "Epoch: 121| Loss: 0.017245199531316757 | Test loss: 0.0395028181374073\n",
            "OrderedDict([('weights', tensor([0.6159])), ('bias', tensor([0.3353]))])\n",
            "loss: tensor(0.0169, grad_fn=<L1LossBackward0>)\n",
            "Epoch: 122| Loss: 0.016896454617381096 | Test loss: 0.0390876941382885\n",
            "OrderedDict([('weights', tensor([0.6175])), ('bias', tensor([0.3343]))])\n",
            "loss: tensor(0.0166, grad_fn=<L1LossBackward0>)\n",
            "Epoch: 123| Loss: 0.01656000316143036 | Test loss: 0.037985701113939285\n",
            "OrderedDict([('weights', tensor([0.6193])), ('bias', tensor([0.3338]))])\n",
            "loss: tensor(0.0162, grad_fn=<L1LossBackward0>)\n",
            "Epoch: 124| Loss: 0.016210997477173805 | Test loss: 0.03688368946313858\n",
            "OrderedDict([('weights', tensor([0.6211])), ('bias', tensor([0.3333]))])\n",
            "loss: tensor(0.0159, grad_fn=<L1LossBackward0>)\n",
            "Epoch: 125| Loss: 0.01587124727666378 | Test loss: 0.036468543112277985\n",
            "OrderedDict([('weights', tensor([0.6227])), ('bias', tensor([0.3323]))])\n",
            "loss: tensor(0.0155, grad_fn=<L1LossBackward0>)\n",
            "Epoch: 126| Loss: 0.015525798313319683 | Test loss: 0.035366542637348175\n",
            "OrderedDict([('weights', tensor([0.6245])), ('bias', tensor([0.3318]))])\n",
            "loss: tensor(0.0152, grad_fn=<L1LossBackward0>)\n",
            "Epoch: 127| Loss: 0.015182236209511757 | Test loss: 0.034951429814100266\n",
            "OrderedDict([('weights', tensor([0.6261])), ('bias', tensor([0.3308]))])\n",
            "loss: tensor(0.0148, grad_fn=<L1LossBackward0>)\n",
            "Epoch: 128| Loss: 0.014840595424175262 | Test loss: 0.03384942561388016\n",
            "OrderedDict([('weights', tensor([0.6279])), ('bias', tensor([0.3303]))])\n",
            "loss: tensor(0.0145, grad_fn=<L1LossBackward0>)\n",
            "Epoch: 129| Loss: 0.01449323259294033 | Test loss: 0.03343429043889046\n",
            "OrderedDict([('weights', tensor([0.6295])), ('bias', tensor([0.3293]))])\n",
            "loss: tensor(0.0142, grad_fn=<L1LossBackward0>)\n",
            "Epoch: 130| Loss: 0.014155393466353416 | Test loss: 0.03233227878808975\n",
            "OrderedDict([('weights', tensor([0.6313])), ('bias', tensor([0.3288]))])\n",
            "loss: tensor(0.0138, grad_fn=<L1LossBackward0>)\n",
            "Epoch: 131| Loss: 0.013806397095322609 | Test loss: 0.031230276450514793\n",
            "OrderedDict([('weights', tensor([0.6331])), ('bias', tensor([0.3283]))])\n",
            "loss: tensor(0.0135, grad_fn=<L1LossBackward0>)\n",
            "Epoch: 132| Loss: 0.013468016870319843 | Test loss: 0.030815154314041138\n",
            "OrderedDict([('weights', tensor([0.6347])), ('bias', tensor([0.3273]))])\n",
            "loss: tensor(0.0131, grad_fn=<L1LossBackward0>)\n",
            "Epoch: 133| Loss: 0.013121193274855614 | Test loss: 0.02971314825117588\n",
            "OrderedDict([('weights', tensor([0.6365])), ('bias', tensor([0.3268]))])\n",
            "loss: tensor(0.0128, grad_fn=<L1LossBackward0>)\n",
            "Epoch: 134| Loss: 0.01277900766581297 | Test loss: 0.02929801307618618\n",
            "OrderedDict([('weights', tensor([0.6381])), ('bias', tensor([0.3258]))])\n",
            "loss: tensor(0.0124, grad_fn=<L1LossBackward0>)\n",
            "Epoch: 135| Loss: 0.012435992248356342 | Test loss: 0.028196018189191818\n",
            "OrderedDict([('weights', tensor([0.6399])), ('bias', tensor([0.3253]))])\n",
            "loss: tensor(0.0121, grad_fn=<L1LossBackward0>)\n",
            "Epoch: 136| Loss: 0.01208999752998352 | Test loss: 0.027780896052718163\n",
            "OrderedDict([('weights', tensor([0.6415])), ('bias', tensor([0.3243]))])\n",
            "loss: tensor(0.0118, grad_fn=<L1LossBackward0>)\n",
            "Epoch: 137| Loss: 0.011750795878469944 | Test loss: 0.026678884401917458\n",
            "OrderedDict([('weights', tensor([0.6433])), ('bias', tensor([0.3238]))])\n",
            "loss: tensor(0.0114, grad_fn=<L1LossBackward0>)\n",
            "Epoch: 138| Loss: 0.011401787400245667 | Test loss: 0.025576870888471603\n",
            "OrderedDict([('weights', tensor([0.6451])), ('bias', tensor([0.3233]))])\n",
            "loss: tensor(0.0111, grad_fn=<L1LossBackward0>)\n",
            "Epoch: 139| Loss: 0.011064787395298481 | Test loss: 0.025161748751997948\n",
            "OrderedDict([('weights', tensor([0.6467])), ('bias', tensor([0.3223]))])\n",
            "loss: tensor(0.0107, grad_fn=<L1LossBackward0>)\n",
            "Epoch: 140| Loss: 0.010716589167714119 | Test loss: 0.024059748277068138\n",
            "OrderedDict([('weights', tensor([0.6485])), ('bias', tensor([0.3218]))])\n",
            "loss: tensor(0.0104, grad_fn=<L1LossBackward0>)\n",
            "Epoch: 141| Loss: 0.010375778190791607 | Test loss: 0.023644620552659035\n",
            "OrderedDict([('weights', tensor([0.6501])), ('bias', tensor([0.3208]))])\n",
            "loss: tensor(0.0100, grad_fn=<L1LossBackward0>)\n",
            "Epoch: 142| Loss: 0.010031387209892273 | Test loss: 0.022542614489793777\n",
            "OrderedDict([('weights', tensor([0.6519])), ('bias', tensor([0.3203]))])\n",
            "loss: tensor(0.0097, grad_fn=<L1LossBackward0>)\n",
            "Epoch: 143| Loss: 0.009686763398349285 | Test loss: 0.022127490490674973\n",
            "OrderedDict([('weights', tensor([0.6534])), ('bias', tensor([0.3193]))])\n",
            "loss: tensor(0.0093, grad_fn=<L1LossBackward0>)\n",
            "Epoch: 144| Loss: 0.009346187114715576 | Test loss: 0.021025484427809715\n",
            "OrderedDict([('weights', tensor([0.6552])), ('bias', tensor([0.3188]))])\n",
            "loss: tensor(0.0090, grad_fn=<L1LossBackward0>)\n",
            "Epoch: 145| Loss: 0.008997755125164986 | Test loss: 0.020610356703400612\n",
            "OrderedDict([('weights', tensor([0.6568])), ('bias', tensor([0.3178]))])\n",
            "loss: tensor(0.0087, grad_fn=<L1LossBackward0>)\n",
            "Epoch: 146| Loss: 0.008660981431603432 | Test loss: 0.019508343189954758\n",
            "OrderedDict([('weights', tensor([0.6586])), ('bias', tensor([0.3173]))])\n",
            "loss: tensor(0.0083, grad_fn=<L1LossBackward0>)\n",
            "Epoch: 147| Loss: 0.008311985060572624 | Test loss: 0.018406350165605545\n",
            "OrderedDict([('weights', tensor([0.6604])), ('bias', tensor([0.3168]))])\n",
            "loss: tensor(0.0080, grad_fn=<L1LossBackward0>)\n",
            "Epoch: 148| Loss: 0.007972544990479946 | Test loss: 0.017991220578551292\n",
            "OrderedDict([('weights', tensor([0.6620])), ('bias', tensor([0.3158]))])\n",
            "loss: tensor(0.0076, grad_fn=<L1LossBackward0>)\n",
            "Epoch: 149| Loss: 0.007626785431057215 | Test loss: 0.016889220103621483\n",
            "OrderedDict([('weights', tensor([0.6638])), ('bias', tensor([0.3153]))])\n",
            "loss: tensor(0.0073, grad_fn=<L1LossBackward0>)\n",
            "Epoch: 150| Loss: 0.0072835334576666355 | Test loss: 0.016474086791276932\n",
            "OrderedDict([('weights', tensor([0.6654])), ('bias', tensor([0.3143]))])\n",
            "loss: tensor(0.0069, grad_fn=<L1LossBackward0>)\n",
            "Epoch: 151| Loss: 0.006941580679267645 | Test loss: 0.0153720797970891\n",
            "OrderedDict([('weights', tensor([0.6672])), ('bias', tensor([0.3138]))])\n",
            "loss: tensor(0.0066, grad_fn=<L1LossBackward0>)\n",
            "Epoch: 152| Loss: 0.006594526115804911 | Test loss: 0.01495695672929287\n",
            "OrderedDict([('weights', tensor([0.6688])), ('bias', tensor([0.3128]))])\n",
            "loss: tensor(0.0063, grad_fn=<L1LossBackward0>)\n",
            "Epoch: 153| Loss: 0.006256377790123224 | Test loss: 0.013854950666427612\n",
            "OrderedDict([('weights', tensor([0.6706])), ('bias', tensor([0.3123]))])\n",
            "loss: tensor(0.0059, grad_fn=<L1LossBackward0>)\n",
            "Epoch: 154| Loss: 0.005907376762479544 | Test loss: 0.012752944603562355\n",
            "OrderedDict([('weights', tensor([0.6724])), ('bias', tensor([0.3118]))])\n",
            "loss: tensor(0.0056, grad_fn=<L1LossBackward0>)\n",
            "Epoch: 155| Loss: 0.005569315515458584 | Test loss: 0.012337815947830677\n",
            "OrderedDict([('weights', tensor([0.6740])), ('bias', tensor([0.3108]))])\n",
            "loss: tensor(0.0052, grad_fn=<L1LossBackward0>)\n",
            "Epoch: 156| Loss: 0.005222178064286709 | Test loss: 0.011235815472900867\n",
            "OrderedDict([('weights', tensor([0.6758])), ('bias', tensor([0.3103]))])\n",
            "loss: tensor(0.0049, grad_fn=<L1LossBackward0>)\n",
            "Epoch: 157| Loss: 0.004880306776612997 | Test loss: 0.010820692405104637\n",
            "OrderedDict([('weights', tensor([0.6774])), ('bias', tensor([0.3093]))])\n",
            "loss: tensor(0.0045, grad_fn=<L1LossBackward0>)\n",
            "Epoch: 158| Loss: 0.004536976106464863 | Test loss: 0.009718680754303932\n",
            "OrderedDict([('weights', tensor([0.6792])), ('bias', tensor([0.3088]))])\n",
            "loss: tensor(0.0042, grad_fn=<L1LossBackward0>)\n",
            "Epoch: 159| Loss: 0.00419129803776741 | Test loss: 0.009303552098572254\n",
            "OrderedDict([('weights', tensor([0.6808])), ('bias', tensor([0.3078]))])\n",
            "loss: tensor(0.0039, grad_fn=<L1LossBackward0>)\n",
            "Epoch: 160| Loss: 0.0038517764769494534 | Test loss: 0.008201557211577892\n",
            "OrderedDict([('weights', tensor([0.6826])), ('bias', tensor([0.3073]))])\n",
            "loss: tensor(0.0035, grad_fn=<L1LossBackward0>)\n",
            "Epoch: 161| Loss: 0.0035027749836444855 | Test loss: 0.007099539041519165\n",
            "OrderedDict([('weights', tensor([0.6844])), ('bias', tensor([0.3068]))])\n",
            "loss: tensor(0.0032, grad_fn=<L1LossBackward0>)\n",
            "Epoch: 162| Loss: 0.0031660839449614286 | Test loss: 0.006684416439384222\n",
            "OrderedDict([('weights', tensor([0.6860])), ('bias', tensor([0.3058]))])\n",
            "loss: tensor(0.0028, grad_fn=<L1LossBackward0>)\n",
            "Epoch: 163| Loss: 0.002817571861669421 | Test loss: 0.0055824099108576775\n",
            "OrderedDict([('weights', tensor([0.6878])), ('bias', tensor([0.3053]))])\n",
            "loss: tensor(0.0025, grad_fn=<L1LossBackward0>)\n",
            "Epoch: 164| Loss: 0.0024770735763013363 | Test loss: 0.005167287774384022\n",
            "OrderedDict([('weights', tensor([0.6894])), ('bias', tensor([0.3043]))])\n",
            "loss: tensor(0.0021, grad_fn=<L1LossBackward0>)\n",
            "Epoch: 165| Loss: 0.0021323717664927244 | Test loss: 0.004065275192260742\n",
            "OrderedDict([('weights', tensor([0.6912])), ('bias', tensor([0.3038]))])\n",
            "loss: tensor(0.0018, grad_fn=<L1LossBackward0>)\n",
            "Epoch: 166| Loss: 0.0017880648374557495 | Test loss: 0.003650152590125799\n",
            "OrderedDict([('weights', tensor([0.6927])), ('bias', tensor([0.3028]))])\n",
            "loss: tensor(0.0015, grad_fn=<L1LossBackward0>)\n",
            "Epoch: 167| Loss: 0.0014518328243866563 | Test loss: 0.0018701612716540694\n",
            "OrderedDict([('weights', tensor([0.6947])), ('bias', tensor([0.3028]))])\n",
            "loss: tensor(0.0012, grad_fn=<L1LossBackward0>)\n",
            "Epoch: 168| Loss: 0.0011887758737429976 | Test loss: 0.005023092031478882\n",
            "OrderedDict([('weights', tensor([0.6951])), ('bias', tensor([0.2993]))])\n",
            "loss: tensor(0.0026, grad_fn=<L1LossBackward0>)\n",
            "Epoch: 169| Loss: 0.0025885067880153656 | Test loss: 0.008447891101241112\n",
            "OrderedDict([('weights', tensor([0.6990])), ('bias', tensor([0.3093]))])\n",
            "loss: tensor(0.0089, grad_fn=<L1LossBackward0>)\n",
            "Epoch: 170| Loss: 0.008932482451200485 | Test loss: 0.005023092031478882\n",
            "OrderedDict([('weights', tensor([0.6951])), ('bias', tensor([0.2993]))])\n",
            "loss: tensor(0.0026, grad_fn=<L1LossBackward0>)\n",
            "Epoch: 171| Loss: 0.0025885067880153656 | Test loss: 0.008447891101241112\n",
            "OrderedDict([('weights', tensor([0.6990])), ('bias', tensor([0.3093]))])\n",
            "loss: tensor(0.0089, grad_fn=<L1LossBackward0>)\n",
            "Epoch: 172| Loss: 0.008932482451200485 | Test loss: 0.005023092031478882\n",
            "OrderedDict([('weights', tensor([0.6951])), ('bias', tensor([0.2993]))])\n",
            "loss: tensor(0.0026, grad_fn=<L1LossBackward0>)\n",
            "Epoch: 173| Loss: 0.0025885067880153656 | Test loss: 0.008447891101241112\n",
            "OrderedDict([('weights', tensor([0.6990])), ('bias', tensor([0.3093]))])\n",
            "loss: tensor(0.0089, grad_fn=<L1LossBackward0>)\n",
            "Epoch: 174| Loss: 0.008932482451200485 | Test loss: 0.005023092031478882\n",
            "OrderedDict([('weights', tensor([0.6951])), ('bias', tensor([0.2993]))])\n",
            "loss: tensor(0.0026, grad_fn=<L1LossBackward0>)\n",
            "Epoch: 175| Loss: 0.0025885067880153656 | Test loss: 0.008447891101241112\n",
            "OrderedDict([('weights', tensor([0.6990])), ('bias', tensor([0.3093]))])\n",
            "loss: tensor(0.0089, grad_fn=<L1LossBackward0>)\n",
            "Epoch: 176| Loss: 0.008932482451200485 | Test loss: 0.005023092031478882\n",
            "OrderedDict([('weights', tensor([0.6951])), ('bias', tensor([0.2993]))])\n",
            "loss: tensor(0.0026, grad_fn=<L1LossBackward0>)\n",
            "Epoch: 177| Loss: 0.0025885067880153656 | Test loss: 0.008447891101241112\n",
            "OrderedDict([('weights', tensor([0.6990])), ('bias', tensor([0.3093]))])\n",
            "loss: tensor(0.0089, grad_fn=<L1LossBackward0>)\n",
            "Epoch: 178| Loss: 0.008932482451200485 | Test loss: 0.005023092031478882\n",
            "OrderedDict([('weights', tensor([0.6951])), ('bias', tensor([0.2993]))])\n",
            "loss: tensor(0.0026, grad_fn=<L1LossBackward0>)\n",
            "Epoch: 179| Loss: 0.0025885067880153656 | Test loss: 0.008447891101241112\n",
            "OrderedDict([('weights', tensor([0.6990])), ('bias', tensor([0.3093]))])\n",
            "loss: tensor(0.0089, grad_fn=<L1LossBackward0>)\n",
            "Epoch: 180| Loss: 0.008932482451200485 | Test loss: 0.005023092031478882\n",
            "OrderedDict([('weights', tensor([0.6951])), ('bias', tensor([0.2993]))])\n",
            "loss: tensor(0.0026, grad_fn=<L1LossBackward0>)\n",
            "Epoch: 181| Loss: 0.0025885067880153656 | Test loss: 0.008447891101241112\n",
            "OrderedDict([('weights', tensor([0.6990])), ('bias', tensor([0.3093]))])\n",
            "loss: tensor(0.0089, grad_fn=<L1LossBackward0>)\n",
            "Epoch: 182| Loss: 0.008932482451200485 | Test loss: 0.005023092031478882\n",
            "OrderedDict([('weights', tensor([0.6951])), ('bias', tensor([0.2993]))])\n",
            "loss: tensor(0.0026, grad_fn=<L1LossBackward0>)\n",
            "Epoch: 183| Loss: 0.0025885067880153656 | Test loss: 0.008447891101241112\n",
            "OrderedDict([('weights', tensor([0.6990])), ('bias', tensor([0.3093]))])\n",
            "loss: tensor(0.0089, grad_fn=<L1LossBackward0>)\n",
            "Epoch: 184| Loss: 0.008932482451200485 | Test loss: 0.005023092031478882\n",
            "OrderedDict([('weights', tensor([0.6951])), ('bias', tensor([0.2993]))])\n",
            "loss: tensor(0.0026, grad_fn=<L1LossBackward0>)\n",
            "Epoch: 185| Loss: 0.0025885067880153656 | Test loss: 0.008447891101241112\n",
            "OrderedDict([('weights', tensor([0.6990])), ('bias', tensor([0.3093]))])\n",
            "loss: tensor(0.0089, grad_fn=<L1LossBackward0>)\n",
            "Epoch: 186| Loss: 0.008932482451200485 | Test loss: 0.005023092031478882\n",
            "OrderedDict([('weights', tensor([0.6951])), ('bias', tensor([0.2993]))])\n",
            "loss: tensor(0.0026, grad_fn=<L1LossBackward0>)\n",
            "Epoch: 187| Loss: 0.0025885067880153656 | Test loss: 0.008447891101241112\n",
            "OrderedDict([('weights', tensor([0.6990])), ('bias', tensor([0.3093]))])\n",
            "loss: tensor(0.0089, grad_fn=<L1LossBackward0>)\n",
            "Epoch: 188| Loss: 0.008932482451200485 | Test loss: 0.005023092031478882\n",
            "OrderedDict([('weights', tensor([0.6951])), ('bias', tensor([0.2993]))])\n",
            "loss: tensor(0.0026, grad_fn=<L1LossBackward0>)\n",
            "Epoch: 189| Loss: 0.0025885067880153656 | Test loss: 0.008447891101241112\n",
            "OrderedDict([('weights', tensor([0.6990])), ('bias', tensor([0.3093]))])\n",
            "loss: tensor(0.0089, grad_fn=<L1LossBackward0>)\n",
            "Epoch: 190| Loss: 0.008932482451200485 | Test loss: 0.005023092031478882\n",
            "OrderedDict([('weights', tensor([0.6951])), ('bias', tensor([0.2993]))])\n",
            "loss: tensor(0.0026, grad_fn=<L1LossBackward0>)\n",
            "Epoch: 191| Loss: 0.0025885067880153656 | Test loss: 0.008447891101241112\n",
            "OrderedDict([('weights', tensor([0.6990])), ('bias', tensor([0.3093]))])\n",
            "loss: tensor(0.0089, grad_fn=<L1LossBackward0>)\n",
            "Epoch: 192| Loss: 0.008932482451200485 | Test loss: 0.005023092031478882\n",
            "OrderedDict([('weights', tensor([0.6951])), ('bias', tensor([0.2993]))])\n",
            "loss: tensor(0.0026, grad_fn=<L1LossBackward0>)\n",
            "Epoch: 193| Loss: 0.0025885067880153656 | Test loss: 0.008447891101241112\n",
            "OrderedDict([('weights', tensor([0.6990])), ('bias', tensor([0.3093]))])\n",
            "loss: tensor(0.0089, grad_fn=<L1LossBackward0>)\n",
            "Epoch: 194| Loss: 0.008932482451200485 | Test loss: 0.005023092031478882\n",
            "OrderedDict([('weights', tensor([0.6951])), ('bias', tensor([0.2993]))])\n",
            "loss: tensor(0.0026, grad_fn=<L1LossBackward0>)\n",
            "Epoch: 195| Loss: 0.0025885067880153656 | Test loss: 0.008447891101241112\n",
            "OrderedDict([('weights', tensor([0.6990])), ('bias', tensor([0.3093]))])\n",
            "loss: tensor(0.0089, grad_fn=<L1LossBackward0>)\n",
            "Epoch: 196| Loss: 0.008932482451200485 | Test loss: 0.005023092031478882\n",
            "OrderedDict([('weights', tensor([0.6951])), ('bias', tensor([0.2993]))])\n",
            "loss: tensor(0.0026, grad_fn=<L1LossBackward0>)\n",
            "Epoch: 197| Loss: 0.0025885067880153656 | Test loss: 0.008447891101241112\n",
            "OrderedDict([('weights', tensor([0.6990])), ('bias', tensor([0.3093]))])\n",
            "loss: tensor(0.0089, grad_fn=<L1LossBackward0>)\n",
            "Epoch: 198| Loss: 0.008932482451200485 | Test loss: 0.005023092031478882\n",
            "OrderedDict([('weights', tensor([0.6951])), ('bias', tensor([0.2993]))])\n",
            "loss: tensor(0.0026, grad_fn=<L1LossBackward0>)\n",
            "Epoch: 199| Loss: 0.0025885067880153656 | Test loss: 0.008447891101241112\n",
            "OrderedDict([('weights', tensor([0.6990])), ('bias', tensor([0.3093]))])\n"
          ]
        }
      ]
    },
    {
      "cell_type": "code",
      "source": [
        "# what is autogration in pytorch??\n",
        "# learning rate scheduling??\n",
        "model_01.state_dict()"
      ],
      "metadata": {
        "colab": {
          "base_uri": "https://localhost:8080/"
        },
        "id": "spT-rMtB3dp5",
        "outputId": "75300cab-b7d1-4055-8c14-58057f0b0ebf"
      },
      "execution_count": null,
      "outputs": [
        {
          "output_type": "execute_result",
          "data": {
            "text/plain": [
              "OrderedDict([('weights', tensor([0.6990])), ('bias', tensor([0.3093]))])"
            ]
          },
          "metadata": {},
          "execution_count": 17
        }
      ]
    },
    {
      "cell_type": "code",
      "source": [
        "# running some prediction\n",
        "with torch.inference_mode():\n",
        "  y_pred_new = model_01(X_test)"
      ],
      "metadata": {
        "id": "htyOA5iG6nnH"
      },
      "execution_count": null,
      "outputs": []
    },
    {
      "cell_type": "code",
      "source": [
        "weight, bias"
      ],
      "metadata": {
        "colab": {
          "base_uri": "https://localhost:8080/"
        },
        "id": "6GnEXQ5A7nSY",
        "outputId": "46934442-848f-4ead-abc7-afa1a1075d10"
      },
      "execution_count": null,
      "outputs": [
        {
          "output_type": "execute_result",
          "data": {
            "text/plain": [
              "(0.7, 0.3)"
            ]
          },
          "metadata": {},
          "execution_count": 19
        }
      ]
    },
    {
      "cell_type": "code",
      "source": [
        "plot_prediction(predictions=y_pred_new)"
      ],
      "metadata": {
        "colab": {
          "base_uri": "https://localhost:8080/",
          "height": 428
        },
        "id": "QuF6Ujkw7pS8",
        "outputId": "8c6c73cf-3f4d-40af-d0e4-b27de0338cbf"
      },
      "execution_count": null,
      "outputs": [
        {
          "output_type": "display_data",
          "data": {
            "text/plain": [
              "<Figure size 720x504 with 1 Axes>"
            ],
            "image/png": "[encoded data removed]"
          },
          "metadata": {
            "needs_background": "light"
          }
        }
      ]
    },
    {
      "cell_type": "code",
      "source": [
        "# plot the loss curves\n",
        "plt.plot(epoch_count, )"
      ],
      "metadata": {
        "colab": {
          "base_uri": "https://localhost:8080/",
          "height": 282
        },
        "id": "zRF0tdesCD4u",
        "outputId": "f3c9d6fc-1f8c-4284-eee9-76cd20cd19e5"
      },
      "execution_count": null,
      "outputs": [
        {
          "output_type": "execute_result",
          "data": {
            "text/plain": [
              "[<matplotlib.lines.Line2D at 0x7f26d00d3710>]"
            ]
          },
          "metadata": {},
          "execution_count": 21
        },
        {
          "output_type": "display_data",
          "data": {
            "text/plain": [
              "<Figure size 432x288 with 1 Axes>"
            ],
            "image/png": "[encoded data removed]"
          },
          "metadata": {
            "needs_background": "light"
          }
        }
      ]
    },
    {
      "cell_type": "markdown",
      "source": [
        "### saving and testing your model\n"
      ],
      "metadata": {
        "id": "2C1TAtIu88MV"
      }
    },
    {
      "cell_type": "code",
      "source": [
        "# 3 methods to save the model\n",
        "#1. python pickle\n",
        "#2. torch.load()\n",
        "#3. torch.nn.Module.load_state_dict()\n"
      ],
      "metadata": {
        "id": "aGFaRtpY7vp9"
      },
      "execution_count": null,
      "outputs": []
    },
    {
      "cell_type": "code",
      "source": [
        "# extra\n",
        "# documentation on saving and Loading Models\n"
      ],
      "metadata": {
        "id": "6IQnt-RpEeET"
      },
      "execution_count": null,
      "outputs": []
    },
    {
      "cell_type": "code",
      "source": [
        "!pip install -I path.py==7.7.1"
      ],
      "metadata": {
        "colab": {
          "base_uri": "https://localhost:8080/"
        },
        "id": "MRLRLiM9Ji01",
        "outputId": "79ad1f7b-3964-482d-8ee4-bff2115c7939"
      },
      "execution_count": null,
      "outputs": [
        {
          "output_type": "stream",
          "name": "stdout",
          "text": [
            "Looking in indexes: https://pypi.org/simple, https://us-python.pkg.dev/colab-wheels/public/simple/\n",
            "Collecting path.py==7.7.1\n",
            "  Downloading path.py-7.7.1-py2.py3-none-any.whl (28 kB)\n",
            "Installing collected packages: path.py\n",
            "Successfully installed path.py-7.7.1\n"
          ]
        }
      ]
    },
    {
      "cell_type": "code",
      "source": [
        "# saving our PyTorch model\n",
        "from pathlib import Path\n",
        "\n",
        "# 1. Create models directory\n",
        "MODEL_PATH = Path(\"models\")\n",
        "MODEL_PATH.mkdir(parents=True, exist_ok=True)\n",
        "\n",
        "# 2. create model save path\n",
        "MODEL_NAME = \"01_pytorch_workflow_model_01.pth\"\n",
        "MODEL_SAVE_PATH = MODEL_PATH / MODEL_NAME\n",
        "\n",
        "# 3. SAVE THE MODEL STATE DICT\n",
        "print(f'saving model to: {MODEL_SAVE_PATH}')\n",
        "torch.save(obj=model_01.state_dict(),f=MODEL_SAVE_PATH)\n"
      ],
      "metadata": {
        "id": "zLVknOezK8bc",
        "colab": {
          "base_uri": "https://localhost:8080/"
        },
        "outputId": "9a0ba431-987f-45ca-d1e2-16c3b7ec639f"
      },
      "execution_count": null,
      "outputs": [
        {
          "output_type": "stream",
          "name": "stdout",
          "text": [
            "saving model to: models/01_pytorch_workflow_model_01.pth\n"
          ]
        }
      ]
    },
    {
      "cell_type": "code",
      "source": [
        "# loading pytorch model\n"
      ],
      "metadata": {
        "id": "XI2CflCKEd_Y"
      },
      "execution_count": null,
      "outputs": []
    },
    {
      "cell_type": "code",
      "source": [
        "# put everything what we have learned till now \n"
      ],
      "metadata": {
        "id": "z-ni_wjYGr5p"
      },
      "execution_count": null,
      "outputs": []
    },
    {
      "cell_type": "code",
      "source": [
        "# Import Pytorch and matplotlib\n",
        "import torch\n",
        "from torch import nn\n",
        "import matplotlib.pyplot as plt\n",
        "\n",
        "# check Pytorch version\n",
        "torch.__version__"
      ],
      "metadata": {
        "colab": {
          "base_uri": "https://localhost:8080/",
          "height": 35
        },
        "id": "LpULi0zcHLnt",
        "outputId": "ed773fb9-276d-4520-d7ef-2fe65a0e0e51"
      },
      "execution_count": null,
      "outputs": [
        {
          "output_type": "execute_result",
          "data": {
            "text/plain": [
              "'1.12.1+cu113'"
            ],
            "application/vnd.google.colaboratory.intrinsic+json": {
              "type": "string"
            }
          },
          "metadata": {},
          "execution_count": 26
        }
      ]
    },
    {
      "cell_type": "code",
      "source": [],
      "metadata": {
        "id": "fpIhqI8MIT-d"
      },
      "execution_count": null,
      "outputs": []
    },
    {
      "cell_type": "markdown",
      "source": [
        "Create device-agnostic code.\n"
      ],
      "metadata": {
        "id": "MRx0pTUyIUjd"
      }
    },
    {
      "cell_type": "markdown",
      "source": [
        " <br>\n",
        "This means if we've got access to a GPU, our code will use it(for potentially faster computations)\n",
        "If no GPU is available, the code will default using GPU."
      ],
      "metadata": {
        "id": "UUA_snoUHiTq"
      }
    },
    {
      "cell_type": "code",
      "source": [
        "# setup device agnostic code\n",
        "device = \"cuda\" if torch.cuda.is_available() else \"cpu\"\n",
        "print(f'using device: {device}')"
      ],
      "metadata": {
        "colab": {
          "base_uri": "https://localhost:8080/"
        },
        "id": "vR-220xdHgTy",
        "outputId": "b838e4a7-8d02-4c22-8754-18a7dd0a61d0"
      },
      "execution_count": null,
      "outputs": [
        {
          "output_type": "stream",
          "name": "stdout",
          "text": [
            "using device: cuda\n"
          ]
        }
      ]
    },
    {
      "cell_type": "code",
      "source": [
        "!nvidia-smi"
      ],
      "metadata": {
        "colab": {
          "base_uri": "https://localhost:8080/"
        },
        "id": "-sNOu6-ZIsrI",
        "outputId": "b7783c54-d42d-4f02-82b5-be4b208deea1"
      },
      "execution_count": null,
      "outputs": [
        {
          "output_type": "stream",
          "name": "stdout",
          "text": [
            "Sat Aug 27 14:12:51 2022       \n",
            "+-----------------------------------------------------------------------------+\n",
            "| NVIDIA-SMI 460.32.03    Driver Version: 460.32.03    CUDA Version: 11.2     |\n",
            "|-------------------------------+----------------------+----------------------+\n",
            "| GPU  Name        Persistence-M| Bus-Id        Disp.A | Volatile Uncorr. ECC |\n",
            "| Fan  Temp  Perf  Pwr:Usage/Cap|         Memory-Usage | GPU-Util  Compute M. |\n",
            "|                               |                      |               MIG M. |\n",
            "|===============================+======================+======================|\n",
            "|   0  Tesla T4            Off  | 00000000:00:04.0 Off |                    0 |\n",
            "| N/A   42C    P8     9W /  70W |      3MiB / 15109MiB |      0%      Default |\n",
            "|                               |                      |                  N/A |\n",
            "+-------------------------------+----------------------+----------------------+\n",
            "                                                                               \n",
            "+-----------------------------------------------------------------------------+\n",
            "| Processes:                                                                  |\n",
            "|  GPU   GI   CI        PID   Type   Process name                  GPU Memory |\n",
            "|        ID   ID                                                   Usage      |\n",
            "|=============================================================================|\n",
            "|  No running processes found                                                 |\n",
            "+-----------------------------------------------------------------------------+\n"
          ]
        }
      ]
    },
    {
      "cell_type": "markdown",
      "source": [
        "6.1 data"
      ],
      "metadata": {
        "id": "AmCFsRUHKuVj"
      }
    },
    {
      "cell_type": "code",
      "source": [
        "# recreate some data using LR data y = Weight*X + bias\n",
        "\n",
        "weight = 0.7\n",
        "bias = 0.3\n",
        "\n",
        "# create range value\n",
        "start = 0\n",
        "step = 0.02\n",
        "end = 1\n",
        "\n",
        "# creating X and y\n",
        "X = torch.arange(start, end, step).unsqueeze(dim=1) # without unsqueeze error pop up\n",
        "y = weight*X + bias\n",
        "X[:10], y[:10]\n"
      ],
      "metadata": {
        "colab": {
          "base_uri": "https://localhost:8080/"
        },
        "id": "rswU4TUjKt6x",
        "outputId": "31a08abe-f362-4220-fe80-b17a311a05f5"
      },
      "execution_count": null,
      "outputs": [
        {
          "output_type": "execute_result",
          "data": {
            "text/plain": [
              "(tensor([[0.0000],\n",
              "         [0.0200],\n",
              "         [0.0400],\n",
              "         [0.0600],\n",
              "         [0.0800],\n",
              "         [0.1000],\n",
              "         [0.1200],\n",
              "         [0.1400],\n",
              "         [0.1600],\n",
              "         [0.1800]]), tensor([[0.3000],\n",
              "         [0.3140],\n",
              "         [0.3280],\n",
              "         [0.3420],\n",
              "         [0.3560],\n",
              "         [0.3700],\n",
              "         [0.3840],\n",
              "         [0.3980],\n",
              "         [0.4120],\n",
              "         [0.4260]]))"
            ]
          },
          "metadata": {},
          "execution_count": 29
        }
      ]
    },
    {
      "cell_type": "code",
      "source": [
        "\n"
      ],
      "metadata": {
        "id": "HMPGX1i5NClp"
      },
      "execution_count": null,
      "outputs": []
    },
    {
      "cell_type": "code",
      "source": [
        "# split data\n",
        "train_split = int(0.8*len(X))\n",
        "X_train, y_train = X[:train_split], y[: train_split]\n",
        "X_test, y_test = X[train_split:], y[train_split:]\n",
        "print(len(X_train)), print(len(X_test)), print(len(y_train)), print(len(y_test))\n"
      ],
      "metadata": {
        "colab": {
          "base_uri": "https://localhost:8080/"
        },
        "id": "_ncQiXXEKslD",
        "outputId": "b8a3af70-3049-43b1-8fba-96cb1efde9ec"
      },
      "execution_count": null,
      "outputs": [
        {
          "output_type": "stream",
          "name": "stdout",
          "text": [
            "40\n",
            "10\n",
            "40\n",
            "10\n"
          ]
        },
        {
          "output_type": "execute_result",
          "data": {
            "text/plain": [
              "(None, None, None, None)"
            ]
          },
          "metadata": {},
          "execution_count": 30
        }
      ]
    },
    {
      "cell_type": "code",
      "source": [
        "# plot the data \n",
        "plot_prediction(X_train, y_train,X_test, y_test)"
      ],
      "metadata": {
        "colab": {
          "base_uri": "https://localhost:8080/",
          "height": 428
        },
        "id": "nBktpO_iNkNU",
        "outputId": "8528d876-c27f-4c75-dea2-1e9322ca9c19"
      },
      "execution_count": null,
      "outputs": [
        {
          "output_type": "display_data",
          "data": {
            "text/plain": [
              "<Figure size 720x504 with 1 Axes>"
            ],
            "image/png": "[encoded data removed]"
          },
          "metadata": {
            "needs_background": "light"
          }
        }
      ]
    },
    {
      "cell_type": "markdown",
      "source": [
        "## building a Model"
      ],
      "metadata": {
        "id": "nIKYd8imUslN"
      }
    },
    {
      "cell_type": "markdown",
      "source": [
        "**create linear model by subclassing nn.Module**"
      ],
      "metadata": {
        "id": "D4NUGsRFOD8b"
      }
    },
    {
      "cell_type": "code",
      "source": [
        "class LinearRegressionModelV2(nn.Module):\n",
        "  def __init__(self):\n",
        "    super().__init__()\n",
        "    # use nn.Linear() for creating the model parameters ; linear transform\n",
        "    # we will always initalize the layer not parameters mostly \n",
        "    # using linear layer. perform y = mx + b\n",
        "    self.linear_layer = nn.Linear(in_features=1,\n",
        "                                  out_features = 1)\n",
        "    \n",
        "    # forward define the computation of model\n",
        "  def forward(self,x: torch.Tensor) -> torch.Tensor:\n",
        "      return self.linear_layer(x)\n",
        "\n",
        "# set the manual seed\n",
        "torch.manual_seed(42)\n",
        "model_1 = LinearRegressionModelV2()\n",
        "model_1, model_1.state_dict()\n"
      ],
      "metadata": {
        "colab": {
          "base_uri": "https://localhost:8080/"
        },
        "id": "_bYkyKWkNyuu",
        "outputId": "6f0971b8-ae8d-49c8-ec32-d5e1b5f2f806"
      },
      "execution_count": null,
      "outputs": [
        {
          "output_type": "execute_result",
          "data": {
            "text/plain": [
              "(LinearRegressionModelV2(\n",
              "   (linear_layer): Linear(in_features=1, out_features=1, bias=True)\n",
              " ),\n",
              " OrderedDict([('linear_layer.weight', tensor([[0.7645]])),\n",
              "              ('linear_layer.bias', tensor([0.8300]))]))"
            ]
          },
          "metadata": {},
          "execution_count": 32
        }
      ]
    },
    {
      "cell_type": "code",
      "source": [
        "# check the model current device\n",
        "next(model_1.parameters()).device"
      ],
      "metadata": {
        "colab": {
          "base_uri": "https://localhost:8080/"
        },
        "id": "ufRYvoseQkd9",
        "outputId": "85d759b0-67e3-4674-c30b-072106901247"
      },
      "execution_count": null,
      "outputs": [
        {
          "output_type": "execute_result",
          "data": {
            "text/plain": [
              "device(type='cpu')"
            ]
          },
          "metadata": {},
          "execution_count": 33
        }
      ]
    },
    {
      "cell_type": "code",
      "source": [
        "# set the model to use the target device\n",
        "model_1.to(device)\n",
        "next(model_1.parameters()).device"
      ],
      "metadata": {
        "colab": {
          "base_uri": "https://localhost:8080/"
        },
        "id": "4GKENB8wRXf4",
        "outputId": "14718d92-99ae-495b-8b8e-883cef8e213c"
      },
      "execution_count": null,
      "outputs": [
        {
          "output_type": "execute_result",
          "data": {
            "text/plain": [
              "device(type='cuda', index=0)"
            ]
          },
          "metadata": {},
          "execution_count": 34
        }
      ]
    },
    {
      "cell_type": "markdown",
      "source": [
        "step 3 : Training\n",
        "\n",
        "for training we need:\n",
        "1. Loss function\n",
        "2. optimizer\n",
        "3. Training Loop \n",
        "4. Testing Loop"
      ],
      "metadata": {
        "id": "TuNllmDjR00d"
      }
    },
    {
      "cell_type": "code",
      "source": [
        "# set up the loss function\n",
        "loss_fn = nn.L1Loss() # same MAE\n",
        "\n",
        "# setup our optimizer\n",
        "optimizer = torch.optim.SGD(params = model_1.parameters(),\n",
        "                            lr = 0.01) "
      ],
      "metadata": {
        "id": "mMVGAIQzRdXY"
      },
      "execution_count": null,
      "outputs": []
    },
    {
      "cell_type": "code",
      "source": [
        "# Let's write the training loop \n",
        "torch.manual_seed(42)\n",
        "\n",
        "epochs = 200\n",
        "\n",
        "\n",
        "# put data on same device \n",
        "\n",
        "X_train = X_train.to(device)\n",
        "y_train = y_train.to(device)\n",
        "X_test = X_test.to(device)\n",
        "y_test = y_test.to(device)\n",
        "\n",
        "for epoch in range(epochs):\n",
        "  model_1.train()\n",
        "\n",
        "  # 1. Forward pass\n",
        "  y_pred = model_1(X_train)\n",
        "\n",
        "  # 2. calculate the loss\n",
        "  loss = loss_fn(y_pred, y_train)\n",
        "\n",
        "  # 3. optimizer zero grad\n",
        "  optimizer.zero_grad()\n",
        "\n",
        "  # 4. perform backpropagation\n",
        "  loss.backward()\n",
        "\n",
        "  # 5. Optimizer step (which way to optimize the parameter)\n",
        "  optimizer.step()\n",
        "\n",
        "  # testing \n",
        "  model_1.eval()\n",
        "  with torch.inference_mode():\n",
        "    test_pred = model_1(X_test)\n",
        "\n",
        "    test_loss = loss_fn(test_pred, y_test)\n",
        "  # print out what's happening\n",
        "  if epoch % 10 == 0:\n",
        "    print(f'Epoch: {epoch} | Loss :{loss} | Test_loss: {test_loss}')\n",
        "\n",
        "\n",
        "\n"
      ],
      "metadata": {
        "colab": {
          "base_uri": "https://localhost:8080/"
        },
        "id": "0GgLATHrS_Nf",
        "outputId": "57dd28d4-4da4-40ef-f8df-5d20f26c6f70"
      },
      "execution_count": null,
      "outputs": [
        {
          "output_type": "stream",
          "name": "stdout",
          "text": [
            "Epoch: 0 | Loss :0.5551779866218567 | Test_loss: 0.5739762187004089\n",
            "Epoch: 10 | Loss :0.439968079328537 | Test_loss: 0.4392664134502411\n",
            "Epoch: 20 | Loss :0.3247582018375397 | Test_loss: 0.30455657839775085\n",
            "Epoch: 30 | Loss :0.20954833924770355 | Test_loss: 0.16984669864177704\n",
            "Epoch: 40 | Loss :0.09433845430612564 | Test_loss: 0.03513690456748009\n",
            "Epoch: 50 | Loss :0.023886388167738914 | Test_loss: 0.04784907028079033\n",
            "Epoch: 60 | Loss :0.019956795498728752 | Test_loss: 0.045803118497133255\n",
            "Epoch: 70 | Loss :0.016517987474799156 | Test_loss: 0.037530567497015\n",
            "Epoch: 80 | Loss :0.013089174404740334 | Test_loss: 0.02994490973651409\n",
            "Epoch: 90 | Loss :0.009653178043663502 | Test_loss: 0.02167237363755703\n",
            "Epoch: 100 | Loss :0.006215683650225401 | Test_loss: 0.014086711220443249\n",
            "Epoch: 110 | Loss :0.00278724217787385 | Test_loss: 0.005814164876937866\n",
            "Epoch: 120 | Loss :0.0012645035749301314 | Test_loss: 0.013801801018416882\n",
            "Epoch: 130 | Loss :0.0012645035749301314 | Test_loss: 0.013801801018416882\n",
            "Epoch: 140 | Loss :0.0012645035749301314 | Test_loss: 0.013801801018416882\n",
            "Epoch: 150 | Loss :0.0012645035749301314 | Test_loss: 0.013801801018416882\n",
            "Epoch: 160 | Loss :0.0012645035749301314 | Test_loss: 0.013801801018416882\n",
            "Epoch: 170 | Loss :0.0012645035749301314 | Test_loss: 0.013801801018416882\n",
            "Epoch: 180 | Loss :0.0012645035749301314 | Test_loss: 0.013801801018416882\n",
            "Epoch: 190 | Loss :0.0012645035749301314 | Test_loss: 0.013801801018416882\n"
          ]
        }
      ]
    },
    {
      "cell_type": "code",
      "source": [
        "model_1.state_dict()"
      ],
      "metadata": {
        "colab": {
          "base_uri": "https://localhost:8080/"
        },
        "id": "b4fw6ScOVrp0",
        "outputId": "f53ff35f-9abc-425b-a4bf-eee769028f09"
      },
      "execution_count": null,
      "outputs": [
        {
          "output_type": "execute_result",
          "data": {
            "text/plain": [
              "OrderedDict([('linear_layer.weight', tensor([[0.6968]], device='cuda:0')),\n",
              "             ('linear_layer.bias', tensor([0.3025], device='cuda:0'))])"
            ]
          },
          "metadata": {},
          "execution_count": 37
        }
      ]
    },
    {
      "cell_type": "markdown",
      "source": [
        "making prediction"
      ],
      "metadata": {
        "id": "egfAyzXalGxk"
      }
    },
    {
      "cell_type": "code",
      "source": [
        "model_1.eval()\n",
        "\n",
        "with torch.inference_mode():\n",
        "  new_pred = model_1(X_test)"
      ],
      "metadata": {
        "id": "oFpkkR_4jsL3"
      },
      "execution_count": null,
      "outputs": []
    },
    {
      "cell_type": "code",
      "source": [
        "new_pred = new_pred.cpu()\n",
        "plot_prediction(predictions=new_pred)"
      ],
      "metadata": {
        "colab": {
          "base_uri": "https://localhost:8080/",
          "height": 428
        },
        "id": "YP-61bFPj7q1",
        "outputId": "69ef758b-c542-4fe4-b5ac-5673c84db861"
      },
      "execution_count": null,
      "outputs": [
        {
          "output_type": "display_data",
          "data": {
            "text/plain": [
              "<Figure size 720x504 with 1 Axes>"
            ],
            "image/png": "[encoded data removed]"
          },
          "metadata": {
            "needs_background": "light"
          }
        }
      ]
    },
    {
      "cell_type": "markdown",
      "source": [
        "saving and loading model "
      ],
      "metadata": {
        "id": "IrkO-W7_lpSD"
      }
    },
    {
      "cell_type": "code",
      "source": [
        "from pathlib import Path\n",
        "\n",
        "# 1. create model directory\n",
        "MODEL_PATH = Path('models')\n",
        "MODEL_PATH.mkdir(parents=True, exist_ok=True)\n",
        "\n",
        "# 2. create model state path \n",
        "MODEL_NAME = '01_pytorch_workflow_model_1.pth'\n",
        "MODEL_SAVE_PATH = MODEL_PATH /MODEL_NAME\n",
        "\n",
        "#3. save the model state dict \n",
        "print(f\"Saving model to: {MODEL_SAVE_PATH}\")\n",
        "torch.save(obj=model_1.state_dict(),f= MODEL_SAVE_PATH)"
      ],
      "metadata": {
        "colab": {
          "base_uri": "https://localhost:8080/"
        },
        "id": "rKiaF1Mplrgs",
        "outputId": "80672b4c-70ee-4335-aba5-88c2e0775874"
      },
      "execution_count": null,
      "outputs": [
        {
          "output_type": "stream",
          "name": "stdout",
          "text": [
            "Saving model to: models/01_pytorch_workflow_model_1.pth\n"
          ]
        }
      ]
    },
    {
      "cell_type": "code",
      "source": [
        "model_1.state_dict()"
      ],
      "metadata": {
        "colab": {
          "base_uri": "https://localhost:8080/"
        },
        "id": "BAxRoRagrDpE",
        "outputId": "a21dd935-d9b1-4f3a-b1a3-c469dccbf978"
      },
      "execution_count": null,
      "outputs": [
        {
          "output_type": "execute_result",
          "data": {
            "text/plain": [
              "OrderedDict([('linear_layer.weight', tensor([[0.6968]], device='cuda:0')),\n",
              "             ('linear_layer.bias', tensor([0.3025], device='cuda:0'))])"
            ]
          },
          "metadata": {},
          "execution_count": 49
        }
      ]
    },
    {
      "cell_type": "code",
      "source": [
        "#load model_1\n",
        "model = LinearRegressionModelV2()\n",
        "# load the saved model\n",
        "model.load_state_dict(torch.load(MODEL_SAVE_PATH))\n",
        "# put the model on the right device\n",
        "model.to(device)"
      ],
      "metadata": {
        "colab": {
          "base_uri": "https://localhost:8080/"
        },
        "id": "_vmtgHBCrKzd",
        "outputId": "2017c11a-4d63-4e34-da91-0ed44f920a31"
      },
      "execution_count": null,
      "outputs": [
        {
          "output_type": "execute_result",
          "data": {
            "text/plain": [
              "LinearRegressionModelV2(\n",
              "  (linear_layer): Linear(in_features=1, out_features=1, bias=True)\n",
              ")"
            ]
          },
          "metadata": {},
          "execution_count": 50
        }
      ]
    },
    {
      "cell_type": "code",
      "source": [
        "next(model.parameters()).device"
      ],
      "metadata": {
        "colab": {
          "base_uri": "https://localhost:8080/"
        },
        "id": "bK6mlwtysczq",
        "outputId": "b54c3e38-3ea0-477e-b551-56538b3b9b49"
      },
      "execution_count": null,
      "outputs": [
        {
          "output_type": "execute_result",
          "data": {
            "text/plain": [
              "device(type='cuda', index=0)"
            ]
          },
          "metadata": {},
          "execution_count": 51
        }
      ]
    },
    {
      "cell_type": "code",
      "source": [
        "model.state_dict()"
      ],
      "metadata": {
        "colab": {
          "base_uri": "https://localhost:8080/"
        },
        "id": "BNzs1YnHsjtJ",
        "outputId": "fd4fe5d5-b235-4a2e-ed37-715fbebebcd3"
      },
      "execution_count": null,
      "outputs": [
        {
          "output_type": "execute_result",
          "data": {
            "text/plain": [
              "OrderedDict([('linear_layer.weight', tensor([[0.6968]], device='cuda:0')),\n",
              "             ('linear_layer.bias', tensor([0.3025], device='cuda:0'))])"
            ]
          },
          "metadata": {},
          "execution_count": 52
        }
      ]
    },
    {
      "cell_type": "code",
      "source": [
        "# evaluate loaded model\n",
        "model.eval()\n",
        "with torch.inference_mode():\n",
        "  model_pred = model()\n",
        "\n",
        "\n"
      ],
      "metadata": {
        "id": "zl0BftvIss1N"
      },
      "execution_count": null,
      "outputs": []
    },
    {
      "cell_type": "code",
      "source": [
        "model_pred == new_pred.to(device)"
      ],
      "metadata": {
        "colab": {
          "base_uri": "https://localhost:8080/"
        },
        "id": "GFmmcRfkvROb",
        "outputId": "d7f8a620-2ada-4cea-8d70-909345e5b3f8"
      },
      "execution_count": null,
      "outputs": [
        {
          "output_type": "execute_result",
          "data": {
            "text/plain": [
              "tensor([[True],\n",
              "        [True],\n",
              "        [True],\n",
              "        [True],\n",
              "        [True],\n",
              "        [True],\n",
              "        [True],\n",
              "        [True],\n",
              "        [True],\n",
              "        [True]], device='cuda:0')"
            ]
          },
          "metadata": {},
          "execution_count": 64
        }
      ]
    },
    {
      "cell_type": "code",
      "source": [
        "import torch\n",
        "from torch import nn\n",
        "from torch.utils.data import DataLoader\n",
        "from torchvision import datasets\n",
        "from torchvision.transforms import ToTensor\n"
      ],
      "metadata": {
        "id": "nHl_SCLqkcE8"
      },
      "execution_count": null,
      "outputs": []
    },
    {
      "cell_type": "markdown",
      "source": [
        "there are two primitives to work with data\n",
        "1. Dataset\n",
        "2. DataLoader"
      ],
      "metadata": {
        "id": "_u1jbjnbT3zV"
      }
    },
    {
      "cell_type": "markdown",
      "source": [
        "Pytorch offers domain specific libraries such as `TorchText` `TorchVision` and `TorchAudio` all of which include datasets"
      ],
      "metadata": {
        "id": "u-IGFxS7UL3f"
      }
    },
    {
      "cell_type": "code",
      "source": [
        "# Download training data from open datasets.\n",
        "training_data = datasets.FashionMNIST(root = 'data',\n",
        "                                      train = True,\n",
        "                                      download = True,\n",
        "                                      transform = ToTensor(),\n",
        "                                      )\n"
      ],
      "metadata": {
        "colab": {
          "base_uri": "https://localhost:8080/",
          "height": 471,
          "referenced_widgets": [
            "0f6a2cb652d4412994914194b878aeec",
            "17e89941b2a643f4a18f4b661c1e6726",
            "cba32f0effbe40f59928c07f695edee1",
            "f0906778c1344c688e2b4d25ec5a6107",
            "2faf7fb37da04b9181736361ef1b387a",
            "ba999bc56faf4571bdb07fca011da5c1",
            "88a63e70f6484cc39909e671746ae858",
            "3f85da4208164835b74809092296b334",
            "0b4f43dfd75c48c6806bb635f33c2d74",
            "ee08b24060bb4e4d8801754196680c4b",
            "3f953e44de484f0aaeb509efc5efb44c",
            "d254a238ab3d4a8aa3318fab43c8a48c",
            "2698dec44cd746e48719876e933887ec",
            "8d627436bca14a0f99f8c730ae06fab4",
            "733a4dfe90c9497391f655dd8681b8f1",
            "5c1bfab558a9491eb8f558f600882736",
            "e2a889d46e0342aa9f7dadf85815a414",
            "38d577e503ee465a9fee732f45fefc8b",
            "c1dbfdd7db714194bcacd49e7fa6274c",
            "7d0e05e7eb1f47a0823f8f72d21c344f",
            "1942f21a4bf248a5b6021673a496ebe8",
            "74c31e9ef0ec4da4a582f9e63526a2e9",
            "1ba109dbbd7a44058a8dfc96851c04ef",
            "f7f8999866d34478a20ccfcff27ba3ce",
            "5d76548713544c7b941c0665e1d2c0db",
            "9785b86d42a24297b11d103ddfa17448",
            "ab4f3b683cfc4beab376839892b151d6",
            "d012679adc454dd0a025a898001b375d",
            "49207014cc604da8847bb4439d93f894",
            "e20b70ac773f44d8bf5c3c327d585016",
            "3c36a99f0b7143ceab4da1f2c98276cb",
            "b3ad7efdce2f4cf48478d1237599619f",
            "60bcb34742b84906a1a65a69abb4d968",
            "b0047222317742b6a067f98c769d982e",
            "fb7bce6562d44df18394a6818b305ebc",
            "f3fb5cdb5a1c4c72acf2a3c6869df15a",
            "9130c3cf363447d8b8def8521587218f",
            "78c2a1cb676945418f28653308fe480e",
            "ab80c6d7505947f3910f7f62d4f73c46",
            "e5ddd423606d4b92bc7df1ba30276c7d",
            "fd7644af3aca47bd9c65d0ea4987f779",
            "5b4ddaf5775949c8b5ce890adb8ba64d",
            "6028dd14b4c247ca870ff242c349c983",
            "7fdebbc842ed4a6d94e54b57f289b5ac"
          ]
        },
        "id": "2XfORKRDTgtK",
        "outputId": "f9873ebd-23da-4f03-b073-27ed7df6afa4"
      },
      "execution_count": null,
      "outputs": [
        {
          "output_type": "stream",
          "name": "stdout",
          "text": [
            "Downloading http://fashion-mnist.s3-website.eu-central-1.amazonaws.com/train-images-idx3-ubyte.gz\n",
            "Downloading http://fashion-mnist.s3-website.eu-central-1.amazonaws.com/train-images-idx3-ubyte.gz to data/FashionMNIST/raw/train-images-idx3-ubyte.gz\n"
          ]
        },
        {
          "output_type": "display_data",
          "data": {
            "text/plain": [
              "  0%|          | 0/26421880 [00:00<?, ?it/s]"
            ],
            "application/vnd.jupyter.widget-view+json": {
              "version_major": 2,
              "version_minor": 0,
              "model_id": "0f6a2cb652d4412994914194b878aeec"
            }
          },
          "metadata": {}
        },
        {
          "output_type": "stream",
          "name": "stdout",
          "text": [
            "Extracting data/FashionMNIST/raw/train-images-idx3-ubyte.gz to data/FashionMNIST/raw\n",
            "\n",
            "Downloading http://fashion-mnist.s3-website.eu-central-1.amazonaws.com/train-labels-idx1-ubyte.gz\n",
            "Downloading http://fashion-mnist.s3-website.eu-central-1.amazonaws.com/train-labels-idx1-ubyte.gz to data/FashionMNIST/raw/train-labels-idx1-ubyte.gz\n"
          ]
        },
        {
          "output_type": "display_data",
          "data": {
            "text/plain": [
              "  0%|          | 0/29515 [00:00<?, ?it/s]"
            ],
            "application/vnd.jupyter.widget-view+json": {
              "version_major": 2,
              "version_minor": 0,
              "model_id": "d254a238ab3d4a8aa3318fab43c8a48c"
            }
          },
          "metadata": {}
        },
        {
          "output_type": "stream",
          "name": "stdout",
          "text": [
            "Extracting data/FashionMNIST/raw/train-labels-idx1-ubyte.gz to data/FashionMNIST/raw\n",
            "\n",
            "Downloading http://fashion-mnist.s3-website.eu-central-1.amazonaws.com/t10k-images-idx3-ubyte.gz\n",
            "Downloading http://fashion-mnist.s3-website.eu-central-1.amazonaws.com/t10k-images-idx3-ubyte.gz to data/FashionMNIST/raw/t10k-images-idx3-ubyte.gz\n"
          ]
        },
        {
          "output_type": "display_data",
          "data": {
            "text/plain": [
              "  0%|          | 0/4422102 [00:00<?, ?it/s]"
            ],
            "application/vnd.jupyter.widget-view+json": {
              "version_major": 2,
              "version_minor": 0,
              "model_id": "1ba109dbbd7a44058a8dfc96851c04ef"
            }
          },
          "metadata": {}
        },
        {
          "output_type": "stream",
          "name": "stdout",
          "text": [
            "Extracting data/FashionMNIST/raw/t10k-images-idx3-ubyte.gz to data/FashionMNIST/raw\n",
            "\n",
            "Downloading http://fashion-mnist.s3-website.eu-central-1.amazonaws.com/t10k-labels-idx1-ubyte.gz\n",
            "Downloading http://fashion-mnist.s3-website.eu-central-1.amazonaws.com/t10k-labels-idx1-ubyte.gz to data/FashionMNIST/raw/t10k-labels-idx1-ubyte.gz\n"
          ]
        },
        {
          "output_type": "display_data",
          "data": {
            "text/plain": [
              "  0%|          | 0/5148 [00:00<?, ?it/s]"
            ],
            "application/vnd.jupyter.widget-view+json": {
              "version_major": 2,
              "version_minor": 0,
              "model_id": "b0047222317742b6a067f98c769d982e"
            }
          },
          "metadata": {}
        },
        {
          "output_type": "stream",
          "name": "stdout",
          "text": [
            "Extracting data/FashionMNIST/raw/t10k-labels-idx1-ubyte.gz to data/FashionMNIST/raw\n",
            "\n"
          ]
        }
      ]
    },
    {
      "cell_type": "code",
      "source": [
        "# download test set from open datasets\n",
        "test_data = datasets.FashionMNIST(\n",
        "    root=\"data\",\n",
        "    train = False,\n",
        "    download = True,\n",
        "    transform = ToTensor(),\n",
        ")"
      ],
      "metadata": {
        "id": "vmU7AoDJWGHk"
      },
      "execution_count": null,
      "outputs": []
    },
    {
      "cell_type": "code",
      "source": [],
      "metadata": {
        "id": "OV_5P7ihWtkp"
      },
      "execution_count": null,
      "outputs": []
    }
  ]
}