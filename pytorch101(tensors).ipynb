{
  "nbformat": 4,
  "nbformat_minor": 0,
  "metadata": {
    "colab": {
      "provenance": [],
      "collapsed_sections": [],
      "authorship_tag": "ABX9TyMGHN/4j+XsfR1t2E6C6a8g",
      "include_colab_link": true
    },
    "kernelspec": {
      "name": "python3",
      "display_name": "Python 3"
    },
    "language_info": {
      "name": "python"
    },
    "accelerator": "GPU",
    "gpuClass": "standard"
  },
  "cells": [
    {
      "cell_type": "markdown",
      "metadata": {
        "id": "view-in-github",
        "colab_type": "text"
      },
      "source": [
        "<a href=\"https://colab.research.google.com/github/stac-bot/Pytorch-for-Deep-Learning/blob/main/pytorch101(tensors).ipynb\" target=\"_parent\"><img src=\"https://colab.research.google.com/assets/colab-badge.svg\" alt=\"Open In Colab\"/></a>"
      ]
    },
    {
      "cell_type": "code",
      "execution_count": 2,
      "metadata": {
        "colab": {
          "base_uri": "https://localhost:8080/"
        },
        "id": "ECf3bVTsn8ri",
        "outputId": "9f643984-15eb-442d-a78c-45a328b8ceff"
      },
      "outputs": [
        {
          "output_type": "stream",
          "name": "stdout",
          "text": [
            "Hello excited for pytorch for deep learning!\n"
          ]
        }
      ],
      "source": [
        "print('Hello excited for pytorch for deep learning!')"
      ]
    },
    {
      "cell_type": "markdown",
      "source": [
        "## intro to pytorch Fundamental"
      ],
      "metadata": {
        "id": "ciAIlqt-p8Bz"
      }
    },
    {
      "cell_type": "code",
      "source": [
        "import torch\n",
        "import pandas as pd \n",
        "import numpy as np\n",
        "import matplotlib.pyplot as plt\n",
        "\n",
        "print(torch.__version__)"
      ],
      "metadata": {
        "colab": {
          "base_uri": "https://localhost:8080/"
        },
        "id": "zvBrXcgVos_a",
        "outputId": "5fb33a71-49ab-435d-ef92-d14d6e8327b5"
      },
      "execution_count": 3,
      "outputs": [
        {
          "output_type": "stream",
          "name": "stdout",
          "text": [
            "1.12.1+cu113\n"
          ]
        }
      ]
    },
    {
      "cell_type": "markdown",
      "source": [
        "#### introduction to tensors"
      ],
      "metadata": {
        "id": "xOSbxOnYqT8M"
      }
    },
    {
      "cell_type": "markdown",
      "source": [
        "creating tensors"
      ],
      "metadata": {
        "id": "0QKA-5Zdqci4"
      }
    },
    {
      "cell_type": "code",
      "source": [
        "# scalar \n",
        "scalar = torch.tensor(7)\n",
        "scalar"
      ],
      "metadata": {
        "colab": {
          "base_uri": "https://localhost:8080/"
        },
        "id": "X4z-XohPo540",
        "outputId": "9d0801d4-4a36-4472-c752-c99f07419974"
      },
      "execution_count": 4,
      "outputs": [
        {
          "output_type": "execute_result",
          "data": {
            "text/plain": [
              "tensor(7)"
            ]
          },
          "metadata": {},
          "execution_count": 4
        }
      ]
    },
    {
      "cell_type": "code",
      "source": [
        "scalar.ndim"
      ],
      "metadata": {
        "colab": {
          "base_uri": "https://localhost:8080/"
        },
        "id": "alfg0Qv8qkQ4",
        "outputId": "acc6cdc7-3c52-46a6-b939-204a5f4c2c38"
      },
      "execution_count": 5,
      "outputs": [
        {
          "output_type": "execute_result",
          "data": {
            "text/plain": [
              "0"
            ]
          },
          "metadata": {},
          "execution_count": 5
        }
      ]
    },
    {
      "cell_type": "code",
      "source": [
        "# get tensor back as python integer\n",
        "scalar.item()"
      ],
      "metadata": {
        "colab": {
          "base_uri": "https://localhost:8080/"
        },
        "id": "_oUDp4ONqzmR",
        "outputId": "6d27eda9-f28f-4c64-a644-7def0fa8f4b7"
      },
      "execution_count": 6,
      "outputs": [
        {
          "output_type": "execute_result",
          "data": {
            "text/plain": [
              "7"
            ]
          },
          "metadata": {},
          "execution_count": 6
        }
      ]
    },
    {
      "cell_type": "code",
      "source": [
        "# vector\n",
        "vector = torch.tensor([7,5])\n",
        "vector"
      ],
      "metadata": {
        "colab": {
          "base_uri": "https://localhost:8080/"
        },
        "id": "cyUCXcVKrG8B",
        "outputId": "72183f4d-70c6-4e9e-80bf-e3b33a027482"
      },
      "execution_count": 7,
      "outputs": [
        {
          "output_type": "execute_result",
          "data": {
            "text/plain": [
              "tensor([7, 5])"
            ]
          },
          "metadata": {},
          "execution_count": 7
        }
      ]
    },
    {
      "cell_type": "code",
      "source": [
        "vector.ndim"
      ],
      "metadata": {
        "colab": {
          "base_uri": "https://localhost:8080/"
        },
        "id": "yFhc2wjdrdhz",
        "outputId": "599db39f-98f9-4141-a856-13226c911002"
      },
      "execution_count": 8,
      "outputs": [
        {
          "output_type": "execute_result",
          "data": {
            "text/plain": [
              "1"
            ]
          },
          "metadata": {},
          "execution_count": 8
        }
      ]
    },
    {
      "cell_type": "code",
      "source": [
        "vector.shape"
      ],
      "metadata": {
        "colab": {
          "base_uri": "https://localhost:8080/"
        },
        "id": "P19BmPKQrn0l",
        "outputId": "f271eefc-7f6b-4551-ef6b-2ed3956a4e35"
      },
      "execution_count": 9,
      "outputs": [
        {
          "output_type": "execute_result",
          "data": {
            "text/plain": [
              "torch.Size([2])"
            ]
          },
          "metadata": {},
          "execution_count": 9
        }
      ]
    },
    {
      "cell_type": "code",
      "source": [
        "# MATRIX \n",
        "MATRIX = torch.tensor([[4,5],\n",
        "                       [7,6]])\n",
        "MATRIX"
      ],
      "metadata": {
        "colab": {
          "base_uri": "https://localhost:8080/"
        },
        "id": "km0cnG_Urpes",
        "outputId": "a0f53e79-56ac-48ac-f389-3c2ca6373c30"
      },
      "execution_count": 10,
      "outputs": [
        {
          "output_type": "execute_result",
          "data": {
            "text/plain": [
              "tensor([[4, 5],\n",
              "        [7, 6]])"
            ]
          },
          "metadata": {},
          "execution_count": 10
        }
      ]
    },
    {
      "cell_type": "code",
      "source": [
        "MATRIX.ndim"
      ],
      "metadata": {
        "colab": {
          "base_uri": "https://localhost:8080/"
        },
        "id": "4U-1Q0Hrr3Yq",
        "outputId": "262b792f-324e-47ae-dc9e-c499d85f4531"
      },
      "execution_count": 11,
      "outputs": [
        {
          "output_type": "execute_result",
          "data": {
            "text/plain": [
              "2"
            ]
          },
          "metadata": {},
          "execution_count": 11
        }
      ]
    },
    {
      "cell_type": "code",
      "source": [
        "MATRIX[1]"
      ],
      "metadata": {
        "colab": {
          "base_uri": "https://localhost:8080/"
        },
        "id": "T_b2sk6zr9AA",
        "outputId": "0b5b66ac-7a7f-4581-8abc-3e5ce156b72c"
      },
      "execution_count": 12,
      "outputs": [
        {
          "output_type": "execute_result",
          "data": {
            "text/plain": [
              "tensor([7, 6])"
            ]
          },
          "metadata": {},
          "execution_count": 12
        }
      ]
    },
    {
      "cell_type": "code",
      "source": [
        "MATRIX.shape"
      ],
      "metadata": {
        "colab": {
          "base_uri": "https://localhost:8080/"
        },
        "id": "keOFgyMdr_yF",
        "outputId": "29699537-7796-447f-f024-5d089b58a61e"
      },
      "execution_count": 13,
      "outputs": [
        {
          "output_type": "execute_result",
          "data": {
            "text/plain": [
              "torch.Size([2, 2])"
            ]
          },
          "metadata": {},
          "execution_count": 13
        }
      ]
    },
    {
      "cell_type": "code",
      "source": [
        "# TENSOR CAN BE ANY DIMENSIONS \n",
        "TENSOR = torch.tensor([[[2,3,4],\n",
        "                        [3,5,6],\n",
        "                        [6,7,8]]])\n",
        "TENSOR"
      ],
      "metadata": {
        "colab": {
          "base_uri": "https://localhost:8080/"
        },
        "id": "Ppl3NF4OsG7i",
        "outputId": "3d36b722-febe-4e0e-ef84-0fb142af0bcb"
      },
      "execution_count": 14,
      "outputs": [
        {
          "output_type": "execute_result",
          "data": {
            "text/plain": [
              "tensor([[[2, 3, 4],\n",
              "         [3, 5, 6],\n",
              "         [6, 7, 8]]])"
            ]
          },
          "metadata": {},
          "execution_count": 14
        }
      ]
    },
    {
      "cell_type": "code",
      "source": [
        "TENSOR.ndim"
      ],
      "metadata": {
        "colab": {
          "base_uri": "https://localhost:8080/"
        },
        "id": "69eH79WMsY05",
        "outputId": "60fd07b9-d001-49af-b352-7d83d41a9ff9"
      },
      "execution_count": 15,
      "outputs": [
        {
          "output_type": "execute_result",
          "data": {
            "text/plain": [
              "3"
            ]
          },
          "metadata": {},
          "execution_count": 15
        }
      ]
    },
    {
      "cell_type": "code",
      "source": [
        "TENSOR.shape"
      ],
      "metadata": {
        "colab": {
          "base_uri": "https://localhost:8080/"
        },
        "id": "q3khJj6qsbqc",
        "outputId": "652c8356-38e9-4c4c-d2cd-069811c85a60"
      },
      "execution_count": 16,
      "outputs": [
        {
          "output_type": "execute_result",
          "data": {
            "text/plain": [
              "torch.Size([1, 3, 3])"
            ]
          },
          "metadata": {},
          "execution_count": 16
        }
      ]
    },
    {
      "cell_type": "code",
      "source": [
        "# DIMENSIONS STUFF ACCESS IS TRICKY\n",
        "TENSOR[0][2][1]"
      ],
      "metadata": {
        "colab": {
          "base_uri": "https://localhost:8080/"
        },
        "id": "FD8Uzjl8sndA",
        "outputId": "b07dff09-3daf-49e2-9c5e-9381909c0c1a"
      },
      "execution_count": 17,
      "outputs": [
        {
          "output_type": "execute_result",
          "data": {
            "text/plain": [
              "tensor(7)"
            ]
          },
          "metadata": {},
          "execution_count": 17
        }
      ]
    },
    {
      "cell_type": "markdown",
      "source": [
        "#### random tensors\n",
        " **creating tensor**"
      ],
      "metadata": {
        "id": "EysaiY9Kto-a"
      }
    },
    {
      "cell_type": "markdown",
      "source": [
        "Random tensors are important because the way many neural network learns in that they start with tensors full of random numbers to represent the data.<br>\n",
        "`start with random numbers--> look at data --> update random numbers --> look at the data --> update random numbers`"
      ],
      "metadata": {
        "id": "DXly9Qlyt1jI"
      }
    },
    {
      "cell_type": "code",
      "source": [
        "from torch import random\n",
        "## random tensor of shape (3,4)\n",
        "random_tensor = torch.randn(3,4)\n",
        "random_tensor"
      ],
      "metadata": {
        "colab": {
          "base_uri": "https://localhost:8080/"
        },
        "id": "7XWlFVDasyKj",
        "outputId": "ae38d50f-75b4-4f74-d346-94557c04a716"
      },
      "execution_count": 18,
      "outputs": [
        {
          "output_type": "execute_result",
          "data": {
            "text/plain": [
              "tensor([[-1.0318, -0.1720, -0.6675, -0.9441],\n",
              "        [-0.5077,  0.1677, -0.3295, -0.0525],\n",
              "        [ 1.0664,  1.2382,  1.3357, -1.3479]])"
            ]
          },
          "metadata": {},
          "execution_count": 18
        }
      ]
    },
    {
      "cell_type": "code",
      "source": [
        "# remember tensors can be of any dimension\n",
        "random_tensor = torch.randn(10,10,10)\n",
        "random_tensor"
      ],
      "metadata": {
        "id": "oLCpLSLZutzJ",
        "colab": {
          "base_uri": "https://localhost:8080/"
        },
        "outputId": "f45a545c-a661-40c2-b74b-e6e7cfadf34d"
      },
      "execution_count": 19,
      "outputs": [
        {
          "output_type": "execute_result",
          "data": {
            "text/plain": [
              "tensor([[[-4.5174e-01,  6.0771e-02,  1.4007e+00, -1.8419e+00,  1.5601e+00,\n",
              "          -6.8191e-01, -1.2196e+00, -1.2248e-01, -9.0098e-01,  7.1884e-01],\n",
              "         [ 2.8398e-01, -1.0642e-01,  1.8510e-01, -1.6374e+00, -1.1870e+00,\n",
              "           2.3872e+00, -9.9966e-01,  4.3739e-01,  1.3963e+00,  4.1029e-02],\n",
              "         [-8.5847e-01, -8.4309e-01, -3.0423e-01, -2.3228e+00,  9.8175e-01,\n",
              "          -7.0377e-03, -1.5342e+00,  1.7407e-01, -2.7562e-01,  1.0947e+00],\n",
              "         [ 1.1929e-01,  4.3944e-01, -6.9146e-01,  2.1049e+00, -1.1480e-01,\n",
              "           5.2594e-01,  3.8302e-01, -1.3316e-01, -1.8324e+00, -4.9160e-01],\n",
              "         [-5.9043e-01, -5.3294e-01,  4.3618e-01,  8.4481e-01, -1.9330e-01,\n",
              "           1.7770e-01, -1.5046e+00,  4.2790e-01,  1.9476e-01, -6.4495e-01],\n",
              "         [-6.2013e-01,  4.7170e-02, -2.0857e+00,  2.1834e-01, -3.8974e-01,\n",
              "           6.9305e-01,  8.9245e-01,  1.9766e-01, -2.8109e-01,  7.8443e-01],\n",
              "         [-4.6639e-01,  2.8193e-01, -2.5003e-01, -3.9081e-01,  6.0147e-02,\n",
              "           1.0342e+00,  1.2276e+00,  2.4843e-01,  7.2068e-01,  6.5123e-01],\n",
              "         [ 1.5879e-01, -8.5852e-01, -3.1865e-01, -2.7032e-01,  2.1357e-01,\n",
              "           5.7614e-02,  4.0477e-01, -8.1024e-02, -3.1068e-01, -4.2614e-01],\n",
              "         [-1.6550e+00, -9.1114e-01,  7.2592e-01, -2.5983e-01, -8.8969e-01,\n",
              "          -1.1874e+00,  7.0930e-01,  7.4055e-02, -2.2494e-01,  2.8587e-01],\n",
              "         [ 1.1549e-01, -2.6903e-01, -1.4089e-01,  2.0482e+00,  7.8273e-02,\n",
              "           1.9482e+00,  1.1719e+00,  8.8309e-01,  1.9263e+00,  2.3344e-01]],\n",
              "\n",
              "        [[ 9.1594e-01,  1.0138e+00,  1.5652e-01,  7.3589e-01, -2.4984e-01,\n",
              "          -1.1593e+00,  1.0658e+00,  7.0010e-01,  1.5258e+00,  1.6445e+00],\n",
              "         [ 1.3623e+00, -7.2511e-02,  4.0009e-02, -4.0835e-01,  1.3813e+00,\n",
              "          -6.4674e-02,  6.6367e-01, -1.1350e+00,  7.6323e-01, -1.1221e+00],\n",
              "         [ 1.1156e+00,  3.3423e-01,  1.2995e+00,  1.1981e+00, -1.5985e+00,\n",
              "          -5.1624e-01,  6.0114e-01, -4.8748e-01,  1.4989e+00, -9.3741e-01],\n",
              "         [ 7.4592e-01, -1.1248e+00, -5.6784e-01, -5.2143e-01,  5.7836e-01,\n",
              "           5.1790e-02, -1.3150e+00, -1.1841e+00, -1.3487e-02,  1.6621e-01],\n",
              "         [-3.4512e-01, -7.8106e-01,  1.7749e-01,  1.7344e+00, -4.4061e-01,\n",
              "           1.0761e+00, -4.3648e-01,  1.0097e+00, -6.5331e-02, -5.5791e-02],\n",
              "         [-1.3184e+00, -2.1320e+00, -1.6512e+00,  1.0354e+00, -2.7102e-01,\n",
              "           3.2610e-01,  1.9847e+00,  3.0740e-01, -8.0238e-01, -1.6086e+00],\n",
              "         [ 1.0333e-01, -1.8316e+00,  2.2283e+00,  1.1516e+00, -6.7779e-01,\n",
              "           8.5791e-02, -5.4159e-01, -1.1248e+00,  1.3008e+00,  1.1561e+00],\n",
              "         [ 1.5200e+00,  4.6126e-01,  1.9721e+00, -1.9444e+00, -7.8182e-01,\n",
              "           1.1475e-01,  1.2368e+00, -9.3846e-01,  1.1458e-02, -1.7154e-01],\n",
              "         [ 1.2071e+00, -3.3665e-01,  6.0220e-01, -8.2516e-01, -1.0254e+00,\n",
              "           6.6308e-02, -5.8085e-01, -6.7149e-01, -7.5095e-01, -4.4561e-02],\n",
              "         [-2.0044e+00,  5.3069e-01,  8.8954e-01,  1.5887e+00, -3.9938e-01,\n",
              "          -7.4984e-01, -6.6612e-01,  8.2012e-01, -1.2271e+00, -9.9030e-01]],\n",
              "\n",
              "        [[ 1.3709e+00,  1.2384e+00,  1.2845e+00,  9.5342e-02, -2.0263e-01,\n",
              "           2.8493e-01,  4.5805e-01, -2.5648e-01, -8.2591e-01, -1.1249e+00],\n",
              "         [-2.6666e+00, -3.2605e-01,  1.4896e-01,  9.3333e-01,  1.4792e-01,\n",
              "           1.9998e+00,  6.3109e-01,  5.3827e-01, -1.7032e-01,  4.4016e-01],\n",
              "         [ 9.0864e-02, -8.3643e-01,  2.1899e+00,  1.9632e+00,  4.8444e-01,\n",
              "           6.8065e-01,  1.0528e-01, -6.8116e-01, -3.6775e-01, -2.3242e-01],\n",
              "         [-1.5671e+00, -1.3844e+00,  7.8160e-01, -4.0046e-01, -6.2892e-01,\n",
              "           8.4758e-01, -8.2568e-02, -5.6756e-01,  4.0542e-01, -3.7979e-01],\n",
              "         [-1.4367e+00, -4.9010e-01,  1.0077e+00,  2.3087e+00, -2.0432e+00,\n",
              "          -1.0838e+00,  1.6361e+00,  4.9527e-01, -4.9639e-01, -2.3371e-02],\n",
              "         [ 9.7481e-01,  7.9817e-01, -1.3050e-01,  2.0345e+00,  5.9975e-01,\n",
              "          -1.2577e+00,  1.7636e+00,  5.7552e-01,  8.3552e-01,  7.9472e-01],\n",
              "         [ 6.4154e-01, -1.6353e+00, -1.4630e+00,  7.0645e-01,  1.2697e-02,\n",
              "          -3.8271e-01, -5.3821e-01, -1.5546e+00,  9.9196e-01,  2.3879e+00],\n",
              "         [-1.3301e+00, -5.0275e-01,  1.4897e+00,  6.9361e-01, -3.4508e-01,\n",
              "          -4.3949e-01, -5.4850e-01, -4.5605e-01,  8.1714e-01,  1.8578e+00],\n",
              "         [-4.3974e-01, -1.0216e+00, -1.0422e+00,  1.5152e+00,  6.7585e-01,\n",
              "           1.1196e+00, -1.4377e-02, -8.8370e-01,  3.4570e-01,  1.3307e+00],\n",
              "         [ 9.1559e-01,  2.4873e-01,  1.1484e+00, -4.8674e-01,  1.9403e+00,\n",
              "           1.4925e+00,  9.9823e-01, -1.1289e-01, -2.6542e+00, -1.1336e+00]],\n",
              "\n",
              "        [[-4.7723e-01, -5.0887e-01, -1.5305e+00, -7.2066e-01,  1.2948e+00,\n",
              "           2.4681e-01, -1.4160e+00,  1.9096e+00,  7.2957e-02,  1.1609e+00],\n",
              "         [-5.6285e-01,  1.2018e+00, -2.5615e-01,  1.6651e-01, -2.4597e-01,\n",
              "           2.0640e-03, -3.6966e-01,  8.1748e-01,  5.9012e-01, -7.1336e-01],\n",
              "         [-1.1263e+00,  1.0521e-01,  7.0330e-01,  8.2618e-01,  1.7385e-01,\n",
              "           1.4793e+00, -1.7821e+00, -1.7633e-01, -6.2291e-01, -1.8203e-01],\n",
              "         [ 1.2882e+00, -8.5343e-01,  7.6106e-01, -7.2164e-01,  5.8409e-01,\n",
              "           3.1511e-02, -4.2852e-01,  1.9950e-02, -6.8172e-01,  7.4602e-01],\n",
              "         [-1.2609e+00,  1.4645e+00,  6.8914e-01, -1.5961e+00,  1.2929e+00,\n",
              "          -9.9369e-01, -1.0772e+00, -7.9599e-01,  1.1786e+00, -1.6179e+00],\n",
              "         [-1.6151e+00, -9.9567e-01,  6.2046e-01, -7.2516e-01,  7.0407e-01,\n",
              "           1.9592e+00, -1.2767e-01,  3.5441e-01, -1.7979e-01,  2.7879e-01],\n",
              "         [-6.1084e-01, -7.1968e-01,  1.9608e+00, -1.9909e+00,  1.8150e+00,\n",
              "          -8.5980e-01, -1.4709e+00, -2.6938e-01, -1.0677e+00,  2.0078e-01],\n",
              "         [ 3.9324e-01, -2.3398e-01,  4.9678e-01, -6.2141e-01, -8.8686e-01,\n",
              "           2.0964e-01,  1.9427e-01, -7.0556e-01, -8.6204e-01,  1.3634e+00],\n",
              "         [ 5.4554e-02, -2.3844e+00, -6.4380e-01,  1.9985e-01,  1.1426e+00,\n",
              "           9.3311e-01, -1.3137e+00,  1.0404e+00,  6.6830e-01,  1.0035e+00],\n",
              "         [ 2.1214e-01, -4.4778e-01,  5.2104e-01, -2.8072e-01,  1.7597e-01,\n",
              "           5.1373e-01,  1.5190e+00, -1.2594e+00, -3.8325e-01,  6.4979e-01]],\n",
              "\n",
              "        [[ 2.1409e+00, -3.3892e-01,  1.0046e-01,  1.3489e+00, -1.4330e+00,\n",
              "           5.4761e-01, -2.6500e+00, -1.3783e+00,  5.7784e-01, -2.4353e+00],\n",
              "         [-2.0551e-01,  1.1951e-02,  1.3437e+00,  4.5333e-01, -4.1828e-01,\n",
              "          -1.7077e+00,  4.4461e-01,  4.7693e-01, -7.8996e-01, -4.5739e-01],\n",
              "         [ 9.1533e-01, -9.7311e-01, -1.3216e+00,  1.0712e+00, -1.2662e+00,\n",
              "          -5.5326e-01, -2.9237e-01,  9.9709e-02,  7.2094e-01, -2.1236e-01],\n",
              "         [ 1.3577e+00, -1.1869e+00, -6.2605e-01, -1.4274e+00,  1.7945e+00,\n",
              "           2.5081e+00,  1.2691e+00, -1.5434e+00,  1.1260e-01,  1.1133e+00],\n",
              "         [ 1.0213e-01, -1.7220e+00,  9.0045e-01, -8.6300e-02, -4.0204e-01,\n",
              "          -6.7209e-01, -3.0513e-01, -1.1703e+00,  1.9036e+00, -2.0625e+00],\n",
              "         [-1.5396e+00, -1.3825e-01,  1.1316e-01, -8.7558e-01, -7.9035e-01,\n",
              "          -5.9660e-01,  8.1706e-01, -1.6965e+00, -7.3939e-01, -1.0772e+00],\n",
              "         [ 4.8975e-02, -2.2250e+00,  1.9730e+00, -1.3186e+00,  3.2023e-01,\n",
              "           2.2906e-01, -3.1416e-01,  5.0394e-01,  9.5293e-01,  1.1423e+00],\n",
              "         [-1.6365e+00,  1.9635e-01, -2.0707e-01,  9.7774e-01, -2.3244e-01,\n",
              "           1.7773e+00,  1.2777e+00, -7.5233e-01,  6.5315e-01,  3.5035e-01],\n",
              "         [ 2.7076e-01, -1.8532e+00,  1.8411e-01, -7.8823e-01, -1.8991e+00,\n",
              "           2.5284e-02, -1.2470e+00,  1.4379e+00,  1.0590e+00,  5.8739e-01],\n",
              "         [-6.6879e-01, -2.5435e-01, -1.1227e+00, -4.7905e-01,  5.2754e-01,\n",
              "           5.3532e-01, -1.6918e-02,  1.4717e+00, -3.6080e-01, -1.0637e-01]],\n",
              "\n",
              "        [[ 4.1452e-01, -1.3899e-01, -6.7077e-01, -1.4860e+00, -9.3707e-01,\n",
              "           8.1494e-01,  3.3305e-01, -2.2558e-01,  5.7705e-02,  6.1359e-01],\n",
              "         [-2.1372e+00,  6.2696e-01,  6.7198e-01, -8.5144e-03,  1.3941e+00,\n",
              "           1.1487e+00,  1.8859e+00, -5.7718e-01, -1.4258e-01, -1.9062e-01],\n",
              "         [-3.4902e-01,  5.1782e-01, -1.5948e+00, -5.0570e-01,  2.3107e-01,\n",
              "           9.6707e-04,  2.2566e-01,  1.3680e+00, -1.5100e+00,  3.6255e-01],\n",
              "         [ 1.6990e+00,  5.4196e-01,  7.8346e-01,  5.7630e-01,  3.0808e-02,\n",
              "          -1.8693e+00,  2.4877e-01, -1.3065e-01, -1.2029e+00,  1.5541e-01],\n",
              "         [ 4.0020e-01,  8.7035e-01, -1.9195e+00, -7.7810e-01, -1.8271e-01,\n",
              "           2.1098e-01, -2.5260e-01,  7.7330e-02, -1.7139e+00, -1.5158e+00],\n",
              "         [ 2.1559e-01, -1.4021e+00,  1.1043e+00,  1.1043e+00, -9.8763e-03,\n",
              "          -2.3675e-01,  1.3184e+00,  2.9932e+00, -1.1447e+00, -1.1239e+00],\n",
              "         [ 1.0475e+00, -3.2871e-01, -8.7127e-01, -1.3439e-01, -6.1205e-01,\n",
              "           1.5728e-01,  3.4272e-01,  1.1910e+00, -1.4684e-01,  8.8878e-01],\n",
              "         [ 5.7230e-01, -3.4274e-01,  2.2228e+00, -8.0519e-02, -6.5577e-01,\n",
              "          -1.0041e+00, -2.7237e+00,  7.6385e-01, -4.3700e-01, -1.4490e+00],\n",
              "         [ 2.3620e-01, -1.9576e-01, -1.5950e+00,  9.9910e-01,  7.7807e-01,\n",
              "           1.2018e+00,  7.2083e-01, -1.5645e+00,  3.2556e-01,  1.1513e+00],\n",
              "         [-1.8435e+00,  8.5153e-01,  2.9246e-01, -1.6855e+00, -8.5611e-01,\n",
              "          -1.0914e+00,  2.2750e+00, -6.8793e-01, -2.5310e-01, -7.8430e-01]],\n",
              "\n",
              "        [[-8.7352e-01, -4.0969e-01,  6.3191e-01,  3.0460e-01,  4.5990e-03,\n",
              "          -8.5970e-02,  3.3684e-01,  1.1216e+00, -7.4123e-01,  2.0190e-01],\n",
              "         [ 1.9328e+00,  2.9593e-01,  1.0166e-01,  6.9289e-01, -1.4606e+00,\n",
              "           1.7418e+00,  8.7617e-02,  1.1744e+00,  1.0046e+00,  1.3526e+00],\n",
              "         [ 1.5519e+00, -2.7734e-01,  2.6288e-01,  5.4008e-02,  8.3489e-01,\n",
              "          -1.0566e+00, -9.6478e-02,  9.4517e-01, -1.6893e+00, -1.3484e+00],\n",
              "         [-1.6090e+00,  6.9113e-01, -1.6865e+00,  1.6296e-01, -1.3009e+00,\n",
              "           2.5149e-02,  1.2046e+00,  9.5990e-01,  4.6952e-01,  6.8943e-01],\n",
              "         [ 1.4978e+00,  7.6572e-01,  4.3941e-01, -2.8731e-01, -3.3172e-02,\n",
              "          -3.6296e-01, -4.9255e-01, -1.4249e+00, -1.1030e-01, -1.0204e-01],\n",
              "         [ 8.7885e-01, -1.1620e+00,  1.7544e+00,  7.5268e-01,  1.3349e+00,\n",
              "          -6.2437e-01, -2.1496e-01,  1.3487e+00, -1.0548e+00,  1.6083e+00],\n",
              "         [ 1.4431e+00,  7.0929e-01,  3.3751e-01, -2.1418e-01, -1.5649e+00,\n",
              "           2.5541e-01, -2.9465e-02,  5.1135e-01,  1.7063e-01, -4.4634e-01],\n",
              "         [ 9.2209e-01,  8.8560e-02, -7.7071e-01, -1.0170e+00, -3.0030e-02,\n",
              "           8.9787e-02,  1.1282e-01, -6.3506e-01, -6.7589e-01, -1.3227e+00],\n",
              "         [-1.8854e-01,  2.5832e-01, -1.2170e-01,  9.5484e-01, -8.0552e-02,\n",
              "          -1.8951e-01, -3.2010e-01,  4.8639e-01,  1.2451e-01, -8.5727e-01],\n",
              "         [ 1.7860e+00,  8.1650e-01,  4.4017e-01,  2.0272e-01, -7.5500e-01,\n",
              "          -3.3627e-01, -8.2485e-01, -5.4110e-01, -1.5683e-02, -4.7940e-01]],\n",
              "\n",
              "        [[-1.1495e+00, -8.2001e-02, -3.9725e-01,  7.9965e-02,  2.2974e-01,\n",
              "           4.3486e-01,  8.3061e-01, -1.3293e+00,  5.3273e-01,  3.5959e-01],\n",
              "         [ 3.8086e-01,  9.7735e-01,  2.0083e+00,  1.3597e+00, -7.8503e-01,\n",
              "           4.7525e-01, -9.4315e-01,  4.6855e-01,  2.2221e-01, -1.2153e+00],\n",
              "         [ 1.1652e+00, -1.4912e+00, -8.2894e-01,  6.9609e-01, -1.2317e+00,\n",
              "          -1.3646e-01, -4.1688e-01,  6.0584e-01,  1.0403e+00, -2.0791e+00],\n",
              "         [-8.0825e-01,  2.0906e+00,  7.9931e-01,  1.4865e+00, -4.7116e-01,\n",
              "           1.2364e+00, -6.8105e-01,  3.1441e-01,  1.0426e+00, -3.7178e-01],\n",
              "         [ 5.9611e-02, -2.3267e-01, -9.8367e-01,  1.9349e-01,  2.1986e+00,\n",
              "          -3.0406e-01, -8.5658e-01, -9.7786e-01, -1.4047e+00,  6.9984e-01],\n",
              "         [-1.5301e-01,  4.5732e-01, -6.7049e-01, -1.9034e+00,  1.2904e+00,\n",
              "           1.7079e+00,  4.1355e-01, -5.3957e-01, -9.7836e-02,  1.1645e+00],\n",
              "         [ 4.8368e-01, -2.2251e+00, -5.7363e-01, -1.0064e+00,  1.0251e+00,\n",
              "           1.2498e-01,  1.0763e-01, -1.9402e+00, -2.1995e-01,  1.9184e-01],\n",
              "         [ 6.1320e-03, -1.1233e+00,  2.9162e-01, -1.1573e+00,  9.2217e-01,\n",
              "          -6.6529e-01,  1.7582e+00,  3.4249e-01,  1.0207e+00, -2.0733e-02],\n",
              "         [ 9.4376e-01, -1.0949e+00,  7.2710e-01, -1.6956e-02, -1.0448e-01,\n",
              "          -6.5068e-01, -4.3297e-01,  9.0665e-01,  1.1731e+00,  5.4866e-01],\n",
              "         [ 5.2261e-01,  3.9508e-01, -7.9156e-01, -1.8002e+00,  1.3123e+00,\n",
              "          -7.8878e-01, -1.2087e+00,  5.5837e-01,  1.2263e-01, -6.7057e-01]],\n",
              "\n",
              "        [[ 7.8148e-01, -1.4852e+00,  5.0010e-01, -3.3142e-01, -4.1408e-01,\n",
              "           2.4439e+00, -3.6239e-01, -4.8585e-01,  1.2120e+00, -1.8257e-02],\n",
              "         [-4.2251e-01, -5.7281e-01, -1.6866e-01,  2.8091e-01,  9.1546e-01,\n",
              "           6.3752e-01, -3.3931e-01, -3.0979e-01,  2.7864e-01,  6.9976e-01],\n",
              "         [-5.9599e-01, -3.0430e-01,  1.7862e+00,  6.2260e-01, -7.7140e-02,\n",
              "           8.6736e-01, -5.5318e-01,  3.7206e-01, -1.2249e+00, -3.3598e-01],\n",
              "         [ 3.2847e-01, -1.6907e+00,  4.0249e-01, -1.8416e+00,  3.1064e-02,\n",
              "          -2.9068e-01, -1.0341e+00, -2.0998e+00, -6.2917e-01, -4.0491e-01],\n",
              "         [ 1.2911e+00, -3.1936e+00,  3.5665e-01, -1.6744e+00, -6.9570e-01,\n",
              "          -3.8264e-01, -1.1626e+00, -1.0043e+00,  3.0882e-01,  2.3890e-01],\n",
              "         [ 3.0177e-02, -1.1584e+00,  1.4099e+00,  2.4444e-01,  2.8833e-01,\n",
              "          -1.4090e+00,  8.3568e-01,  5.1778e-01,  1.6024e+00,  2.9739e-01],\n",
              "         [ 4.5587e-01, -1.5281e-01, -7.8216e-02, -1.2763e+00, -7.1165e-01,\n",
              "          -4.7842e-01,  3.7379e-01,  1.0103e+00, -8.4848e-01, -8.7291e-01],\n",
              "         [ 1.6008e+00,  1.1028e+00, -5.4499e-01, -3.1487e-01,  3.2771e-01,\n",
              "          -3.3856e-01, -2.0092e+00,  6.6885e-01, -1.8347e-01, -4.0025e-01],\n",
              "         [-7.4914e-01,  5.0571e-01, -2.2207e-01,  9.3769e-01,  1.8335e+00,\n",
              "           1.6501e+00, -9.3420e-01, -1.0519e+00,  5.7679e-01,  4.2751e-02],\n",
              "         [ 1.9835e+00,  7.5615e-01,  3.4152e-01, -9.8744e-01,  1.2044e+00,\n",
              "           1.7778e+00,  7.2976e-01, -3.2227e-02, -1.2221e+00,  8.9108e-01]],\n",
              "\n",
              "        [[-1.0692e+00, -4.3664e-01,  2.6261e+00,  9.9891e-02, -1.8948e-01,\n",
              "          -1.6126e+00, -5.0528e-01, -1.2217e+00,  1.8514e-02, -1.1705e+00],\n",
              "         [ 1.2645e+00,  1.1129e+00,  3.6480e-01, -1.2611e+00,  6.9278e-01,\n",
              "          -1.5575e+00, -9.3179e-01, -2.3062e-01, -1.0109e+00, -6.7521e-02],\n",
              "         [-7.5370e-01, -9.1391e-01,  1.3961e+00,  3.4712e-02,  2.2428e+00,\n",
              "          -4.8707e-01,  3.7681e-01,  7.7353e-01,  4.8076e-01,  4.1774e-01],\n",
              "         [ 2.4872e-01, -3.2731e-01,  1.5905e-01, -2.4699e-01,  1.0945e+00,\n",
              "          -7.2808e-01, -6.2406e-01,  5.3343e-01, -1.4195e+00, -4.5465e-01],\n",
              "         [ 8.3687e-01,  1.7485e+00, -1.1477e+00, -9.3684e-01,  6.3000e-01,\n",
              "          -3.3467e-02, -2.2235e-01, -2.2443e-01, -1.1104e+00, -2.2150e+00],\n",
              "         [ 9.4798e-01,  1.6526e+00, -9.3432e-02,  2.5662e+00, -1.6293e+00,\n",
              "          -2.2057e+00, -2.2737e+00,  2.7961e-01, -7.5922e-01,  5.5869e-01],\n",
              "         [-1.0824e-01,  1.3925e-01,  1.5872e-01,  7.8115e-01, -6.2001e-01,\n",
              "           1.4529e+00,  5.5660e-01, -1.8585e+00,  2.4469e-01, -3.6712e-01],\n",
              "         [ 1.1839e-01,  3.7016e-01,  6.6505e-01, -1.4962e+00,  4.7845e-01,\n",
              "           7.6426e-01, -1.5559e+00, -1.7974e-01,  5.4793e-01,  1.5824e+00],\n",
              "         [ 7.8469e-01, -3.4214e-01, -2.4701e+00, -1.3697e+00,  9.1810e-01,\n",
              "          -4.4856e-01, -9.3148e-01,  7.6665e-01,  2.4475e+00,  5.8959e-01],\n",
              "         [ 1.0269e+00, -1.1802e-01, -5.0451e-01, -8.4828e-01,  6.0583e-01,\n",
              "           8.6398e-01, -7.2634e-01,  1.0810e+00, -2.5850e+00,  6.5891e-01]]])"
            ]
          },
          "metadata": {},
          "execution_count": 19
        }
      ]
    },
    {
      "cell_type": "code",
      "source": [
        "# random tensor with similar shape to an image tensor\n",
        "random_image_tensor = torch.rand(size=(224,224,3)) # height , width, color channels\n",
        "random_image_tensor.shape, random_image_tensor.ndim"
      ],
      "metadata": {
        "colab": {
          "base_uri": "https://localhost:8080/"
        },
        "id": "7hc4UGNIvDMA",
        "outputId": "f8144396-cf8b-4392-95c4-89476994209d"
      },
      "execution_count": 20,
      "outputs": [
        {
          "output_type": "execute_result",
          "data": {
            "text/plain": [
              "(torch.Size([224, 224, 3]), 3)"
            ]
          },
          "metadata": {},
          "execution_count": 20
        }
      ]
    },
    {
      "cell_type": "markdown",
      "source": [
        "`Take away : tensor can represent any data such as image as above`"
      ],
      "metadata": {
        "id": "Ib9u1rFTv88h"
      }
    },
    {
      "cell_type": "code",
      "source": [
        "random_tensor = torch.rand(size=(3,4)) # size can be used or otherwise"
      ],
      "metadata": {
        "id": "VSQ9XJduvvBx"
      },
      "execution_count": 21,
      "outputs": []
    },
    {
      "cell_type": "markdown",
      "source": [
        "#### zeros and ones"
      ],
      "metadata": {
        "id": "7eY2DSOBwZR_"
      }
    },
    {
      "cell_type": "code",
      "source": [
        "# creating a tesor of all zeros\n",
        "zeros = torch.zeros(size=(3,4))\n",
        "zeros"
      ],
      "metadata": {
        "colab": {
          "base_uri": "https://localhost:8080/"
        },
        "id": "ByOAdgWrwSOy",
        "outputId": "35e217ee-bba0-43c2-f272-ec0c563a46e1"
      },
      "execution_count": 22,
      "outputs": [
        {
          "output_type": "execute_result",
          "data": {
            "text/plain": [
              "tensor([[0., 0., 0., 0.],\n",
              "        [0., 0., 0., 0.],\n",
              "        [0., 0., 0., 0.]])"
            ]
          },
          "metadata": {},
          "execution_count": 22
        }
      ]
    },
    {
      "cell_type": "code",
      "source": [
        "# creating a tensor of all ones\n",
        "ones = torch.ones(size=(3,4))\n",
        "ones"
      ],
      "metadata": {
        "colab": {
          "base_uri": "https://localhost:8080/"
        },
        "id": "2zHvThSVwpgN",
        "outputId": "26cc06be-b131-400c-c0c9-6f88ff6a12b2"
      },
      "execution_count": 23,
      "outputs": [
        {
          "output_type": "execute_result",
          "data": {
            "text/plain": [
              "tensor([[1., 1., 1., 1.],\n",
              "        [1., 1., 1., 1.],\n",
              "        [1., 1., 1., 1.]])"
            ]
          },
          "metadata": {},
          "execution_count": 23
        }
      ]
    },
    {
      "cell_type": "code",
      "source": [
        "zeros[0][1]*random_tensor[0][1]"
      ],
      "metadata": {
        "colab": {
          "base_uri": "https://localhost:8080/"
        },
        "id": "W7bmYqSwwx-2",
        "outputId": "63623031-5866-4ea1-85c3-f94a23e3f8f2"
      },
      "execution_count": 24,
      "outputs": [
        {
          "output_type": "execute_result",
          "data": {
            "text/plain": [
              "tensor(0.)"
            ]
          },
          "metadata": {},
          "execution_count": 24
        }
      ]
    },
    {
      "cell_type": "code",
      "source": [
        "random_tensor.dtype"
      ],
      "metadata": {
        "colab": {
          "base_uri": "https://localhost:8080/"
        },
        "id": "8BtaBjrXxDxW",
        "outputId": "e4b1aaf1-5c89-453f-bc13-3e96022cb9f5"
      },
      "execution_count": 25,
      "outputs": [
        {
          "output_type": "execute_result",
          "data": {
            "text/plain": [
              "torch.float32"
            ]
          },
          "metadata": {},
          "execution_count": 25
        }
      ]
    },
    {
      "cell_type": "markdown",
      "source": [
        "#### creating a range of tensors and tensors-like"
      ],
      "metadata": {
        "id": "a-3gbzM-yGWL"
      }
    },
    {
      "cell_type": "code",
      "source": [
        "# use torch.range() and get deprecated message, use torch.arange()\n",
        "range_tensor = torch.arange(start=0, end= 1000, step = 77)\n",
        "range_tensor"
      ],
      "metadata": {
        "colab": {
          "base_uri": "https://localhost:8080/"
        },
        "id": "6ozW98PEyLp8",
        "outputId": "bbdd7ce7-3047-4d37-db4a-0a5c0720de80"
      },
      "execution_count": 26,
      "outputs": [
        {
          "output_type": "execute_result",
          "data": {
            "text/plain": [
              "tensor([  0,  77, 154, 231, 308, 385, 462, 539, 616, 693, 770, 847, 924])"
            ]
          },
          "metadata": {},
          "execution_count": 26
        }
      ]
    },
    {
      "cell_type": "code",
      "source": [
        "# creating tensors-like to create similar size tensor\n",
        "ten_zeros = torch.zeros_like(input = range_tensor)\n",
        "ten_zeros"
      ],
      "metadata": {
        "colab": {
          "base_uri": "https://localhost:8080/"
        },
        "id": "EU3bTQgUyXDd",
        "outputId": "fd51bb07-2446-44cc-c17d-af25b3ff9cf9"
      },
      "execution_count": 27,
      "outputs": [
        {
          "output_type": "execute_result",
          "data": {
            "text/plain": [
              "tensor([0, 0, 0, 0, 0, 0, 0, 0, 0, 0, 0, 0, 0])"
            ]
          },
          "metadata": {},
          "execution_count": 27
        }
      ]
    },
    {
      "cell_type": "markdown",
      "source": [
        "#### Tensor  Datatypes\n",
        "\n",
        "**Note:** Tensor datatype is one of the 3 big errors you'll run into with Pytorch & Deep Learning\n",
        "1. dtype\n",
        "2. shape\n",
        "3. device"
      ],
      "metadata": {
        "id": "r0z0hS7MzLb9"
      }
    },
    {
      "cell_type": "code",
      "source": [
        "# Float 32 tensor\n",
        "float_32_tensor = torch.tensor([3.0,4.0,5.0],\n",
        "                               dtype=None,\n",
        "                               device=None,\n",
        "                               requires_grad= False)\n",
        "float_32_tensor"
      ],
      "metadata": {
        "colab": {
          "base_uri": "https://localhost:8080/"
        },
        "id": "HXHg8LbWy0zf",
        "outputId": "3fbfafc4-db32-487c-c4bc-2f71b2aeddb1"
      },
      "execution_count": 28,
      "outputs": [
        {
          "output_type": "execute_result",
          "data": {
            "text/plain": [
              "tensor([3., 4., 5.])"
            ]
          },
          "metadata": {},
          "execution_count": 28
        }
      ]
    },
    {
      "cell_type": "code",
      "source": [
        "float_16_tensor = float_32_tensor.type(torch.float16)\n",
        "float_16_tensor"
      ],
      "metadata": {
        "colab": {
          "base_uri": "https://localhost:8080/"
        },
        "id": "3HzC6gPd07xO",
        "outputId": "ffc98a13-2135-417d-f05b-5e4f6ce8731e"
      },
      "execution_count": 29,
      "outputs": [
        {
          "output_type": "execute_result",
          "data": {
            "text/plain": [
              "tensor([3., 4., 5.], dtype=torch.float16)"
            ]
          },
          "metadata": {},
          "execution_count": 29
        }
      ]
    },
    {
      "cell_type": "code",
      "source": [
        "(float_32_tensor * float_16_tensor).dtype"
      ],
      "metadata": {
        "colab": {
          "base_uri": "https://localhost:8080/"
        },
        "id": "vUXF42HL1IUX",
        "outputId": "13fbd6ce-21a0-4b96-f5e9-632afb5dbe90"
      },
      "execution_count": 30,
      "outputs": [
        {
          "output_type": "execute_result",
          "data": {
            "text/plain": [
              "torch.float32"
            ]
          },
          "metadata": {},
          "execution_count": 30
        }
      ]
    },
    {
      "cell_type": "markdown",
      "source": [
        "tensor attributes "
      ],
      "metadata": {
        "id": "h--oz6Q72z5b"
      }
    },
    {
      "cell_type": "code",
      "source": [
        "float_64_tensor = float_32_tensor.type(torch.float64)\n",
        "float_64_tensor"
      ],
      "metadata": {
        "colab": {
          "base_uri": "https://localhost:8080/"
        },
        "id": "jnOqdcTM18gL",
        "outputId": "cc421525-f78b-4969-c65a-4c7f421563ff"
      },
      "execution_count": 31,
      "outputs": [
        {
          "output_type": "execute_result",
          "data": {
            "text/plain": [
              "tensor([3., 4., 5.], dtype=torch.float64)"
            ]
          },
          "metadata": {},
          "execution_count": 31
        }
      ]
    },
    {
      "cell_type": "code",
      "source": [
        "int32_tensor = float_32_tensor.type(torch.int32)\n",
        "int32_tensor"
      ],
      "metadata": {
        "colab": {
          "base_uri": "https://localhost:8080/"
        },
        "id": "to-7hd_p2pXM",
        "outputId": "4bf85b70-ae1b-42aa-8292-3184f18b2d38"
      },
      "execution_count": 32,
      "outputs": [
        {
          "output_type": "execute_result",
          "data": {
            "text/plain": [
              "tensor([3, 4, 5], dtype=torch.int32)"
            ]
          },
          "metadata": {},
          "execution_count": 32
        }
      ]
    },
    {
      "cell_type": "code",
      "source": [
        "# aaah!! still works but runs into the issue and is caveats of tensors\n",
        "(int32_tensor * float_16_tensor)"
      ],
      "metadata": {
        "colab": {
          "base_uri": "https://localhost:8080/"
        },
        "id": "PqprcD5o3HAI",
        "outputId": "0820764f-11ed-4b08-c13a-f934b21276ab"
      },
      "execution_count": 33,
      "outputs": [
        {
          "output_type": "execute_result",
          "data": {
            "text/plain": [
              "tensor([ 9., 16., 25.], dtype=torch.float16)"
            ]
          },
          "metadata": {},
          "execution_count": 33
        }
      ]
    },
    {
      "cell_type": "code",
      "source": [
        "long_tensor = float_32_tensor.type(torch.long)\n",
        "long_tensor"
      ],
      "metadata": {
        "colab": {
          "base_uri": "https://localhost:8080/"
        },
        "id": "Uvg_reuJ3NQ9",
        "outputId": "15ae1187-47c2-46ee-e1b7-a867c956b43f"
      },
      "execution_count": 34,
      "outputs": [
        {
          "output_type": "execute_result",
          "data": {
            "text/plain": [
              "tensor([3, 4, 5])"
            ]
          },
          "metadata": {},
          "execution_count": 34
        }
      ]
    },
    {
      "cell_type": "code",
      "source": [
        "(long_tensor * int32_tensor)"
      ],
      "metadata": {
        "colab": {
          "base_uri": "https://localhost:8080/"
        },
        "id": "zuxuAXaK3kdE",
        "outputId": "ebd2fa3d-b80e-4422-dbd8-5edf69b630a7"
      },
      "execution_count": 35,
      "outputs": [
        {
          "output_type": "execute_result",
          "data": {
            "text/plain": [
              "tensor([ 9, 16, 25])"
            ]
          },
          "metadata": {},
          "execution_count": 35
        }
      ]
    },
    {
      "cell_type": "markdown",
      "source": [
        "#### Getting information from tensors"
      ],
      "metadata": {
        "id": "ilmDUEZq4Ohq"
      }
    },
    {
      "cell_type": "code",
      "source": [
        "# creatting a tensor\n",
        "some_tensor = torch.rand(3,4)\n",
        "some_tensor"
      ],
      "metadata": {
        "colab": {
          "base_uri": "https://localhost:8080/"
        },
        "id": "qhVpadfl3o5D",
        "outputId": "d8d8e7a4-2996-4820-dd12-0c4704ab1503"
      },
      "execution_count": 36,
      "outputs": [
        {
          "output_type": "execute_result",
          "data": {
            "text/plain": [
              "tensor([[0.4464, 0.5126, 0.3638, 0.4988],\n",
              "        [0.6511, 0.9382, 0.2750, 0.5838],\n",
              "        [0.4622, 0.6720, 0.7045, 0.5008]])"
            ]
          },
          "metadata": {},
          "execution_count": 36
        }
      ]
    },
    {
      "cell_type": "code",
      "source": [
        "some_tensor.size, some_tensor.shape # both give the same thing"
      ],
      "metadata": {
        "colab": {
          "base_uri": "https://localhost:8080/"
        },
        "id": "QEUIC3fq4d0L",
        "outputId": "f22ec837-fee9-4db3-9124-bb92af1c7a7c"
      },
      "execution_count": 37,
      "outputs": [
        {
          "output_type": "execute_result",
          "data": {
            "text/plain": [
              "(<function Tensor.size>, torch.Size([3, 4]))"
            ]
          },
          "metadata": {},
          "execution_count": 37
        }
      ]
    },
    {
      "cell_type": "code",
      "source": [
        "# Find out details about some tensors\n",
        "print(f'Datatype of tensor:',{some_tensor.dtype})\n",
        "print(f'Size of the tensor:',{some_tensor.size()})\n",
        "print(f'device on which tensor is:',{some_tensor.device})"
      ],
      "metadata": {
        "colab": {
          "base_uri": "https://localhost:8080/"
        },
        "id": "Pdryy3VM4q1r",
        "outputId": "59256b07-6a99-4701-d5c9-5d05d6b59d9f"
      },
      "execution_count": 38,
      "outputs": [
        {
          "output_type": "stream",
          "name": "stdout",
          "text": [
            "Datatype of tensor: {torch.float32}\n",
            "Size of the tensor: {torch.Size([3, 4])}\n",
            "device on which tensor is: {device(type='cpu')}\n"
          ]
        }
      ]
    },
    {
      "cell_type": "code",
      "source": [
        "device = 'cuda' if torch.cuda.is_available() else 'cpu'\n",
        "some_tensor = some_tensor.to(device)"
      ],
      "metadata": {
        "id": "MH6vOWmx526P"
      },
      "execution_count": 39,
      "outputs": []
    },
    {
      "cell_type": "code",
      "source": [
        "# changing the device on which tensor runs on  \n",
        "print(f'device on which tensor is:',{some_tensor.device})"
      ],
      "metadata": {
        "colab": {
          "base_uri": "https://localhost:8080/"
        },
        "id": "KwewBycc6Qsr",
        "outputId": "4d1bab71-6756-4552-b0f7-3776ccdb4915"
      },
      "execution_count": 40,
      "outputs": [
        {
          "output_type": "stream",
          "name": "stdout",
          "text": [
            "device on which tensor is: {device(type='cuda', index=0)}\n"
          ]
        }
      ]
    },
    {
      "cell_type": "markdown",
      "source": [
        "#### manipulating Tensors\n"
      ],
      "metadata": {
        "id": "HLz5Y4fk6eUv"
      }
    },
    {
      "cell_type": "markdown",
      "source": [
        "##### Tensor operations include:\n",
        "* Addition\n",
        "* Sub\n",
        "* Multiplication(ele-wise)\n",
        "* Division\n",
        "* Matrix multiplication"
      ],
      "metadata": {
        "id": "jfYYDLNR6mjS"
      }
    },
    {
      "cell_type": "code",
      "source": [
        "# create a tensor and not reassigning\n",
        "tensor = torch.tensor([2,3,4])\n",
        "print(tensor)\n",
        "print(tensor + 10)\n",
        "print(tensor - 19)\n",
        "print(tensor* 2)"
      ],
      "metadata": {
        "colab": {
          "base_uri": "https://localhost:8080/"
        },
        "id": "-C3SbyFF6jEL",
        "outputId": "39407a71-e18c-4ab3-fcce-3e5eb3b80298"
      },
      "execution_count": 41,
      "outputs": [
        {
          "output_type": "stream",
          "name": "stdout",
          "text": [
            "tensor([2, 3, 4])\n",
            "tensor([12, 13, 14])\n",
            "tensor([-17, -16, -15])\n",
            "tensor([4, 6, 8])\n"
          ]
        }
      ]
    },
    {
      "cell_type": "code",
      "source": [
        "# try in-built function\n",
        "tensor, torch.mul(tensor,3)"
      ],
      "metadata": {
        "colab": {
          "base_uri": "https://localhost:8080/"
        },
        "id": "_RqtecRZ6i80",
        "outputId": "c895bb68-1c5a-459c-8478-169c1942cf4a"
      },
      "execution_count": 42,
      "outputs": [
        {
          "output_type": "execute_result",
          "data": {
            "text/plain": [
              "(tensor([2, 3, 4]), tensor([ 6,  9, 12]))"
            ]
          },
          "metadata": {},
          "execution_count": 42
        }
      ]
    },
    {
      "cell_type": "markdown",
      "source": [
        "#### Matrix Multiplication \n",
        "* two main ways of performing multiplication in neural networks and deep learning\n",
        "1. element-wise\n",
        "2. matrix-wise(dot-product)"
      ],
      "metadata": {
        "id": "_in4_UfJ8Cc5"
      }
    },
    {
      "cell_type": "code",
      "source": [
        "# Element wise multiplication\n",
        "print(tensor,\"*\",tensor)\n",
        "print(f'Equals:',{tensor*tensor,})"
      ],
      "metadata": {
        "colab": {
          "base_uri": "https://localhost:8080/"
        },
        "id": "4CDhDGDU6i4P",
        "outputId": "15883897-a825-4644-e33e-fb0cbef99fed"
      },
      "execution_count": 43,
      "outputs": [
        {
          "output_type": "stream",
          "name": "stdout",
          "text": [
            "tensor([2, 3, 4]) * tensor([2, 3, 4])\n",
            "Equals: {tensor([ 4,  9, 16])}\n"
          ]
        }
      ]
    },
    {
      "cell_type": "code",
      "source": [
        "# dot-product\n",
        "torch.matmul(tensor,tensor)"
      ],
      "metadata": {
        "colab": {
          "base_uri": "https://localhost:8080/"
        },
        "id": "uxSZ5F6L6ix_",
        "outputId": "b6acf472-fdb3-49c4-c326-701a1807dd64"
      },
      "execution_count": 44,
      "outputs": [
        {
          "output_type": "execute_result",
          "data": {
            "text/plain": [
              "tensor(29)"
            ]
          },
          "metadata": {},
          "execution_count": 44
        }
      ]
    },
    {
      "cell_type": "markdown",
      "source": [
        "`note: if torch has some built-in fuction for common stuff that mean they are the faster than conventional way`"
      ],
      "metadata": {
        "id": "IW4CLIsM9XWZ"
      }
    },
    {
      "cell_type": "code",
      "source": [
        "%%time\n",
        "value = 0\n",
        "for i in range(ken(tensor)):\n",
        "  value+= tensor[i] * tensor[i]\n",
        "print(value)"
      ],
      "metadata": {
        "id": "zGzHYEAU6ivp",
        "colab": {
          "base_uri": "https://localhost:8080/",
          "height": 184
        },
        "outputId": "df9b8c50-e54e-406e-fc13-77947c3be1df"
      },
      "execution_count": 45,
      "outputs": [
        {
          "output_type": "error",
          "ename": "NameError",
          "evalue": "ignored",
          "traceback": [
            "\u001b[0;31m---------------------------------------------------------------------------\u001b[0m",
            "\u001b[0;31mNameError\u001b[0m                                 Traceback (most recent call last)",
            "\u001b[0;32m<timed exec>\u001b[0m in \u001b[0;36m<module>\u001b[0;34m\u001b[0m\n",
            "\u001b[0;31mNameError\u001b[0m: name 'ken' is not defined"
          ]
        }
      ]
    },
    {
      "cell_type": "code",
      "source": [
        "tensor @ tensor #'@' same as multiplication"
      ],
      "metadata": {
        "colab": {
          "base_uri": "https://localhost:8080/"
        },
        "id": "lx0HzCbO6iYo",
        "outputId": "596ad09d-aaf4-4d50-b0c6-93fbda376032"
      },
      "execution_count": 46,
      "outputs": [
        {
          "output_type": "execute_result",
          "data": {
            "text/plain": [
              "tensor(29)"
            ]
          },
          "metadata": {},
          "execution_count": 46
        }
      ]
    },
    {
      "cell_type": "code",
      "source": [
        "# trying to change the device on which the tensor is \n",
        "torch.matmul(tensor,tensor)"
      ],
      "metadata": {
        "colab": {
          "base_uri": "https://localhost:8080/"
        },
        "id": "ZcWiUjkM5cth",
        "outputId": "2a937d2d-a625-4541-ceda-6f43bb1fb122"
      },
      "execution_count": 47,
      "outputs": [
        {
          "output_type": "execute_result",
          "data": {
            "text/plain": [
              "tensor(29)"
            ]
          },
          "metadata": {},
          "execution_count": 47
        }
      ]
    },
    {
      "cell_type": "markdown",
      "source": [
        "#### rule of matmul\n",
        "1. The **inner dimension** must match\n",
        "2. Result matrix has the shape of **outer dimension**\n"
      ],
      "metadata": {
        "id": "FS10WNvg_wU0"
      }
    },
    {
      "cell_type": "code",
      "source": [
        "# rule one should be statisfied else error occurs\n",
        "torch.matmul(torch.rand(2,3),torch.rand(2,3))"
      ],
      "metadata": {
        "colab": {
          "base_uri": "https://localhost:8080/",
          "height": 218
        },
        "id": "HDlL3xVnAKlJ",
        "outputId": "c064cd7e-3dc3-404a-9f15-3d7f865c2de9"
      },
      "execution_count": 49,
      "outputs": [
        {
          "output_type": "error",
          "ename": "RuntimeError",
          "evalue": "ignored",
          "traceback": [
            "\u001b[0;31m---------------------------------------------------------------------------\u001b[0m",
            "\u001b[0;31mRuntimeError\u001b[0m                              Traceback (most recent call last)",
            "\u001b[0;32m<ipython-input-49-9028c960aa32>\u001b[0m in \u001b[0;36m<module>\u001b[0;34m\u001b[0m\n\u001b[1;32m      1\u001b[0m \u001b[0;31m# rule one should be statisfied\u001b[0m\u001b[0;34m\u001b[0m\u001b[0;34m\u001b[0m\u001b[0;34m\u001b[0m\u001b[0m\n\u001b[0;32m----> 2\u001b[0;31m \u001b[0mtorch\u001b[0m\u001b[0;34m.\u001b[0m\u001b[0mmatmul\u001b[0m\u001b[0;34m(\u001b[0m\u001b[0mtorch\u001b[0m\u001b[0;34m.\u001b[0m\u001b[0mrand\u001b[0m\u001b[0;34m(\u001b[0m\u001b[0;36m2\u001b[0m\u001b[0;34m,\u001b[0m\u001b[0;36m3\u001b[0m\u001b[0;34m)\u001b[0m\u001b[0;34m,\u001b[0m\u001b[0mtorch\u001b[0m\u001b[0;34m.\u001b[0m\u001b[0mrand\u001b[0m\u001b[0;34m(\u001b[0m\u001b[0;36m2\u001b[0m\u001b[0;34m,\u001b[0m\u001b[0;36m3\u001b[0m\u001b[0;34m)\u001b[0m\u001b[0;34m)\u001b[0m\u001b[0;34m\u001b[0m\u001b[0;34m\u001b[0m\u001b[0m\n\u001b[0m",
            "\u001b[0;31mRuntimeError\u001b[0m: mat1 and mat2 shapes cannot be multiplied (2x3 and 2x3)"
          ]
        }
      ]
    },
    {
      "cell_type": "code",
      "source": [
        "# rule one statisfied\n",
        "torch.matmul(torch.rand(2,2),torch.rand(2,3))"
      ],
      "metadata": {
        "colab": {
          "base_uri": "https://localhost:8080/"
        },
        "id": "7AsXO7TFA3tb",
        "outputId": "b0275b8a-b8c5-44f4-a1bb-f080c670a983"
      },
      "execution_count": 148,
      "outputs": [
        {
          "output_type": "execute_result",
          "data": {
            "text/plain": [
              "tensor([[0.3736, 0.2306, 0.4147],\n",
              "        [0.2012, 0.1790, 0.1697]])"
            ]
          },
          "metadata": {},
          "execution_count": 148
        }
      ]
    },
    {
      "cell_type": "code",
      "source": [
        "# rule 2 statisfied\n",
        "torch.matmul(torch.rand(3,10),torch.rand(10,3))"
      ],
      "metadata": {
        "colab": {
          "base_uri": "https://localhost:8080/"
        },
        "id": "ZEfU-qxpAlMf",
        "outputId": "88f3d4ea-53f0-4a20-8f86-2887d90953f0"
      },
      "execution_count": 149,
      "outputs": [
        {
          "output_type": "execute_result",
          "data": {
            "text/plain": [
              "tensor([[1.2830, 2.0798, 2.0535],\n",
              "        [1.8053, 2.6818, 3.1109],\n",
              "        [2.4111, 3.7451, 3.9128]])"
            ]
          },
          "metadata": {},
          "execution_count": 149
        }
      ]
    },
    {
      "cell_type": "markdown",
      "source": [
        "### one of the most common errors in deep learning: shape errrors"
      ],
      "metadata": {
        "id": "hrqRUa8UBTju"
      }
    },
    {
      "cell_type": "markdown",
      "source": [
        "http://matrixmultiplication.xyz/"
      ],
      "metadata": {
        "id": "qpiYnGCZD7Fm"
      }
    },
    {
      "cell_type": "code",
      "source": [
        "tensorA = torch.tensor([[3,4],[2,4],[7,8]])\n",
        "tensorB = torch.tensor([[3,4],[2,4],[7,8]])\n",
        "\n",
        "print(tensorA.size(),tensorB.size())\n",
        "print('just broke the --> rule one inner sides must match')\n",
        "print(tensorA@tensorB)\n"
      ],
      "metadata": {
        "colab": {
          "base_uri": "https://localhost:8080/",
          "height": 270
        },
        "id": "eudcXCIx_ZvW",
        "outputId": "1856235a-af84-4a90-bcd0-3b0253000c3e"
      },
      "execution_count": 150,
      "outputs": [
        {
          "output_type": "stream",
          "name": "stdout",
          "text": [
            "torch.Size([3, 2]) torch.Size([3, 2])\n",
            "just broke the --> rule one inner sides must match\n"
          ]
        },
        {
          "output_type": "error",
          "ename": "RuntimeError",
          "evalue": "ignored",
          "traceback": [
            "\u001b[0;31m---------------------------------------------------------------------------\u001b[0m",
            "\u001b[0;31mRuntimeError\u001b[0m                              Traceback (most recent call last)",
            "\u001b[0;32m<ipython-input-150-c095f281f955>\u001b[0m in \u001b[0;36m<module>\u001b[0;34m\u001b[0m\n\u001b[1;32m      4\u001b[0m \u001b[0mprint\u001b[0m\u001b[0;34m(\u001b[0m\u001b[0mtensorA\u001b[0m\u001b[0;34m.\u001b[0m\u001b[0msize\u001b[0m\u001b[0;34m(\u001b[0m\u001b[0;34m)\u001b[0m\u001b[0;34m,\u001b[0m\u001b[0mtensorB\u001b[0m\u001b[0;34m.\u001b[0m\u001b[0msize\u001b[0m\u001b[0;34m(\u001b[0m\u001b[0;34m)\u001b[0m\u001b[0;34m)\u001b[0m\u001b[0;34m\u001b[0m\u001b[0;34m\u001b[0m\u001b[0m\n\u001b[1;32m      5\u001b[0m \u001b[0mprint\u001b[0m\u001b[0;34m(\u001b[0m\u001b[0;34m'just broke the --> rule one inner sides must match'\u001b[0m\u001b[0;34m)\u001b[0m\u001b[0;34m\u001b[0m\u001b[0;34m\u001b[0m\u001b[0m\n\u001b[0;32m----> 6\u001b[0;31m \u001b[0mprint\u001b[0m\u001b[0;34m(\u001b[0m\u001b[0mtensorA\u001b[0m\u001b[0;34m@\u001b[0m\u001b[0mtensorB\u001b[0m\u001b[0;34m)\u001b[0m\u001b[0;34m\u001b[0m\u001b[0;34m\u001b[0m\u001b[0m\n\u001b[0m",
            "\u001b[0;31mRuntimeError\u001b[0m: mat1 and mat2 shapes cannot be multiplied (3x2 and 3x2)"
          ]
        }
      ]
    },
    {
      "cell_type": "markdown",
      "source": [
        "to fix our tensor shape issues, we can manipulate the shape of one of our tensors using transpose of matrix<br>\n",
        "A **transpose** switches the axes or dimension of a given tensor."
      ],
      "metadata": {
        "id": "MJMUWXiuCqGX"
      }
    },
    {
      "cell_type": "code",
      "source": [
        "tensorA.T.shape, tensorB.shape"
      ],
      "metadata": {
        "colab": {
          "base_uri": "https://localhost:8080/"
        },
        "id": "o1uouCpACPpd",
        "outputId": "31c9e2ea-3bde-4b51-9299-33985d10c19b"
      },
      "execution_count": 152,
      "outputs": [
        {
          "output_type": "execute_result",
          "data": {
            "text/plain": [
              "(torch.Size([2, 3]), torch.Size([3, 2]))"
            ]
          },
          "metadata": {},
          "execution_count": 152
        }
      ]
    },
    {
      "cell_type": "code",
      "source": [
        "tensorA.T @ tensorB\n",
        "# change with transpose to abide by the two rules above\n",
        "torch.matmul(tensorA,tensorB.T)"
      ],
      "metadata": {
        "colab": {
          "base_uri": "https://localhost:8080/"
        },
        "id": "SXrwwzjaDJvw",
        "outputId": "bd7ca01d-2e7f-42cb-a8ec-27023525d4cd"
      },
      "execution_count": 153,
      "outputs": [
        {
          "output_type": "execute_result",
          "data": {
            "text/plain": [
              "tensor([[ 25,  22,  53],\n",
              "        [ 22,  20,  46],\n",
              "        [ 53,  46, 113]])"
            ]
          },
          "metadata": {},
          "execution_count": 153
        }
      ]
    },
    {
      "cell_type": "code",
      "source": [
        "# let's visualize what going on"
      ],
      "metadata": {
        "id": "kiywVYhyDP3S"
      },
      "execution_count": 154,
      "outputs": []
    },
    {
      "cell_type": "markdown",
      "source": [
        "## Finding min, max, mean, sum etc (aggregation) "
      ],
      "metadata": {
        "id": "uxKjsruDErMC"
      }
    },
    {
      "cell_type": "code",
      "source": [
        "#find min\n",
        "x = torch.arange(1,100)\n",
        "x"
      ],
      "metadata": {
        "id": "EhVMikbSE08L",
        "colab": {
          "base_uri": "https://localhost:8080/"
        },
        "outputId": "a05680ed-8651-4f8d-ccb3-cb4f80a18b66"
      },
      "execution_count": 155,
      "outputs": [
        {
          "output_type": "execute_result",
          "data": {
            "text/plain": [
              "tensor([ 1,  2,  3,  4,  5,  6,  7,  8,  9, 10, 11, 12, 13, 14, 15, 16, 17, 18,\n",
              "        19, 20, 21, 22, 23, 24, 25, 26, 27, 28, 29, 30, 31, 32, 33, 34, 35, 36,\n",
              "        37, 38, 39, 40, 41, 42, 43, 44, 45, 46, 47, 48, 49, 50, 51, 52, 53, 54,\n",
              "        55, 56, 57, 58, 59, 60, 61, 62, 63, 64, 65, 66, 67, 68, 69, 70, 71, 72,\n",
              "        73, 74, 75, 76, 77, 78, 79, 80, 81, 82, 83, 84, 85, 86, 87, 88, 89, 90,\n",
              "        91, 92, 93, 94, 95, 96, 97, 98, 99])"
            ]
          },
          "metadata": {},
          "execution_count": 155
        }
      ]
    },
    {
      "cell_type": "code",
      "source": [
        "torch.min(x), torch.max(x)"
      ],
      "metadata": {
        "colab": {
          "base_uri": "https://localhost:8080/"
        },
        "id": "5k1xSQZ8FArD",
        "outputId": "44ab114d-fd12-4465-9386-da8f97046da6"
      },
      "execution_count": 156,
      "outputs": [
        {
          "output_type": "execute_result",
          "data": {
            "text/plain": [
              "(tensor(1), tensor(99))"
            ]
          },
          "metadata": {},
          "execution_count": 156
        }
      ]
    },
    {
      "cell_type": "code",
      "source": [
        "x.min(), x.max()"
      ],
      "metadata": {
        "colab": {
          "base_uri": "https://localhost:8080/"
        },
        "id": "CuLk6TTNFseT",
        "outputId": "9ec4ba19-a591-4cab-f5bb-4921b3743980"
      },
      "execution_count": 157,
      "outputs": [
        {
          "output_type": "execute_result",
          "data": {
            "text/plain": [
              "(tensor(1), tensor(99))"
            ]
          },
          "metadata": {},
          "execution_count": 157
        }
      ]
    },
    {
      "cell_type": "code",
      "source": [
        "# find mean - note the torch.mean() require torch.float32 datatype\n",
        "torch.mean(x)"
      ],
      "metadata": {
        "colab": {
          "base_uri": "https://localhost:8080/",
          "height": 236
        },
        "id": "gy640wVHFHNB",
        "outputId": "9b044301-dbcc-4f0c-8872-beb7a8b5b42f"
      },
      "execution_count": 158,
      "outputs": [
        {
          "output_type": "error",
          "ename": "RuntimeError",
          "evalue": "ignored",
          "traceback": [
            "\u001b[0;31m---------------------------------------------------------------------------\u001b[0m",
            "\u001b[0;31mRuntimeError\u001b[0m                              Traceback (most recent call last)",
            "\u001b[0;32m<ipython-input-158-06c86eb3d0b1>\u001b[0m in \u001b[0;36m<module>\u001b[0;34m\u001b[0m\n\u001b[1;32m      1\u001b[0m \u001b[0;31m# find mean - note the torch.mean() require torch.float32 datatype\u001b[0m\u001b[0;34m\u001b[0m\u001b[0;34m\u001b[0m\u001b[0;34m\u001b[0m\u001b[0m\n\u001b[0;32m----> 2\u001b[0;31m \u001b[0mtorch\u001b[0m\u001b[0;34m.\u001b[0m\u001b[0mmean\u001b[0m\u001b[0;34m(\u001b[0m\u001b[0mx\u001b[0m\u001b[0;34m)\u001b[0m\u001b[0;34m\u001b[0m\u001b[0;34m\u001b[0m\u001b[0m\n\u001b[0m",
            "\u001b[0;31mRuntimeError\u001b[0m: mean(): could not infer output dtype. Input dtype must be either a floating point or complex dtype. Got: Long"
          ]
        }
      ]
    },
    {
      "cell_type": "code",
      "source": [
        "torch.mean(x.type(torch.float32)), x.type(torch.float32).mean()"
      ],
      "metadata": {
        "colab": {
          "base_uri": "https://localhost:8080/"
        },
        "id": "Edo2feC7FQ2l",
        "outputId": "e9a3c5a3-7201-4031-b192-e4aabdb0548b"
      },
      "execution_count": 159,
      "outputs": [
        {
          "output_type": "execute_result",
          "data": {
            "text/plain": [
              "(tensor(50.), tensor(50.))"
            ]
          },
          "metadata": {},
          "execution_count": 159
        }
      ]
    },
    {
      "cell_type": "markdown",
      "source": [
        "## Find the positional min and max returnning index\n"
      ],
      "metadata": {
        "id": "QKhMdF46GElL"
      }
    },
    {
      "cell_type": "code",
      "source": [
        "x = torch.arange(0,101,10)"
      ],
      "metadata": {
        "id": "KE9xzosdGWXM"
      },
      "execution_count": 160,
      "outputs": []
    },
    {
      "cell_type": "code",
      "source": [
        "x.argmin(), x[0]"
      ],
      "metadata": {
        "colab": {
          "base_uri": "https://localhost:8080/"
        },
        "id": "h_XibaxIGDz8",
        "outputId": "12c76fd8-dd7e-4584-e826-0c835f6aa8bc"
      },
      "execution_count": 161,
      "outputs": [
        {
          "output_type": "execute_result",
          "data": {
            "text/plain": [
              "(tensor(0), tensor(0))"
            ]
          },
          "metadata": {},
          "execution_count": 161
        }
      ]
    },
    {
      "cell_type": "code",
      "source": [
        "x.argmax(), x[10]"
      ],
      "metadata": {
        "colab": {
          "base_uri": "https://localhost:8080/"
        },
        "id": "lLrUlNJCGOwh",
        "outputId": "43c4ca80-c714-4ec4-8b9b-79bccf6198e8"
      },
      "execution_count": 162,
      "outputs": [
        {
          "output_type": "execute_result",
          "data": {
            "text/plain": [
              "(tensor(10), tensor(100))"
            ]
          },
          "metadata": {},
          "execution_count": 162
        }
      ]
    },
    {
      "cell_type": "markdown",
      "source": [
        "## Reshaping, stacking, squeezing and unsqueezing tensors\n",
        " * Reshaping- reshapes an input tesnor to a defined shape\n",
        " * view - Return a view of input tensor of certain shape but keep the same memory as the original tensor\n",
        " * Squeezing - removes all `1` dimension from tensor\n",
        " * unsqueeze - add a `1` dimension to target tensor\n",
        " * permute - Retrun a view of the inputs with dimensions permuted (swapped) in certain way "
      ],
      "metadata": {
        "id": "6dWNOAfiUuZq"
      }
    },
    {
      "cell_type": "code",
      "source": [
        "# Let's create a tensor\n",
        "import torch\n",
        "x = torch.arange(1.,10.)\n",
        "x, x.shape"
      ],
      "metadata": {
        "colab": {
          "base_uri": "https://localhost:8080/"
        },
        "id": "-YSuN4FoV58I",
        "outputId": "634b5a7e-3ef5-4657-eb0a-4b084a769106"
      },
      "execution_count": 163,
      "outputs": [
        {
          "output_type": "execute_result",
          "data": {
            "text/plain": [
              "(tensor([1., 2., 3., 4., 5., 6., 7., 8., 9.]), torch.Size([9]))"
            ]
          },
          "metadata": {},
          "execution_count": 163
        }
      ]
    },
    {
      "cell_type": "code",
      "source": [
        "# Add an extra dimension\n",
        "x_reshaped = x.reshape(9,1) # reshaped has to be compatible with the size\n",
        "x_reshaped, x_reshaped.shape"
      ],
      "metadata": {
        "colab": {
          "base_uri": "https://localhost:8080/"
        },
        "id": "b7LC2bMVWNlV",
        "outputId": "2a81f2cb-7fed-454d-8010-81181a6c6dfa"
      },
      "execution_count": 164,
      "outputs": [
        {
          "output_type": "execute_result",
          "data": {
            "text/plain": [
              "(tensor([[1.],\n",
              "         [2.],\n",
              "         [3.],\n",
              "         [4.],\n",
              "         [5.],\n",
              "         [6.],\n",
              "         [7.],\n",
              "         [8.],\n",
              "         [9.]]), torch.Size([9, 1]))"
            ]
          },
          "metadata": {},
          "execution_count": 164
        }
      ]
    },
    {
      "cell_type": "code",
      "source": [
        "# change the view\n",
        "x_reshaped = x.reshape(3,3)\n",
        "x_reshaped"
      ],
      "metadata": {
        "colab": {
          "base_uri": "https://localhost:8080/"
        },
        "id": "FrsoUs_ZXezc",
        "outputId": "413d0669-1992-4d24-b556-85616ce67c18"
      },
      "execution_count": 165,
      "outputs": [
        {
          "output_type": "execute_result",
          "data": {
            "text/plain": [
              "tensor([[1., 2., 3.],\n",
              "        [4., 5., 6.],\n",
              "        [7., 8., 9.]])"
            ]
          },
          "metadata": {},
          "execution_count": 165
        }
      ]
    },
    {
      "cell_type": "code",
      "source": [
        "# view is same as similar reshape, but share the same space as x\n",
        "z = x.view(1,9)\n",
        "z, z.shape"
      ],
      "metadata": {
        "colab": {
          "base_uri": "https://localhost:8080/"
        },
        "id": "SiW3IL4LXxlH",
        "outputId": "5b41dd77-f5a6-419d-d341-87df9b71b30d"
      },
      "execution_count": 166,
      "outputs": [
        {
          "output_type": "execute_result",
          "data": {
            "text/plain": [
              "(tensor([[1., 2., 3., 4., 5., 6., 7., 8., 9.]]), torch.Size([1, 9]))"
            ]
          },
          "metadata": {},
          "execution_count": 166
        }
      ]
    },
    {
      "cell_type": "code",
      "source": [
        "# changing z change x\n",
        "z[0,5] = 8\n",
        "z , x"
      ],
      "metadata": {
        "colab": {
          "base_uri": "https://localhost:8080/"
        },
        "id": "YUPhrioqYIpl",
        "outputId": "cc3dda14-22e1-4574-da76-48caea4949d8"
      },
      "execution_count": 167,
      "outputs": [
        {
          "output_type": "execute_result",
          "data": {
            "text/plain": [
              "(tensor([[1., 2., 3., 4., 5., 8., 7., 8., 9.]]),\n",
              " tensor([1., 2., 3., 4., 5., 8., 7., 8., 9.]))"
            ]
          },
          "metadata": {},
          "execution_count": 167
        }
      ]
    },
    {
      "cell_type": "code",
      "source": [
        "# stack tensors on the top of each other\n",
        "x_stacked = torch.stack([x,x,x,x],dim=1)\n",
        "x_stacked \n"
      ],
      "metadata": {
        "colab": {
          "base_uri": "https://localhost:8080/"
        },
        "id": "661wJ-MzYerP",
        "outputId": "9d5353a1-7d0a-412e-a3d0-7a3e497e49f1"
      },
      "execution_count": 168,
      "outputs": [
        {
          "output_type": "execute_result",
          "data": {
            "text/plain": [
              "tensor([[1., 1., 1., 1.],\n",
              "        [2., 2., 2., 2.],\n",
              "        [3., 3., 3., 3.],\n",
              "        [4., 4., 4., 4.],\n",
              "        [5., 5., 5., 5.],\n",
              "        [8., 8., 8., 8.],\n",
              "        [7., 7., 7., 7.],\n",
              "        [8., 8., 8., 8.],\n",
              "        [9., 9., 9., 9.]])"
            ]
          },
          "metadata": {},
          "execution_count": 168
        }
      ]
    },
    {
      "cell_type": "code",
      "source": [
        "x_reshaped = x.reshape(9,1)"
      ],
      "metadata": {
        "id": "J9Wpx5KvZ5dQ"
      },
      "execution_count": 169,
      "outputs": []
    },
    {
      "cell_type": "code",
      "source": [
        "# torch.squeeze() - remove all the dimension from a target tensor\n",
        "x_reshaped.squeeze()\n",
        "x_reshaped.shape, x_reshaped.squeeze().shape"
      ],
      "metadata": {
        "colab": {
          "base_uri": "https://localhost:8080/"
        },
        "id": "Uqr7mKxNZI7N",
        "outputId": "062e30ed-bf98-431c-86b3-8960d0517e44"
      },
      "execution_count": 170,
      "outputs": [
        {
          "output_type": "execute_result",
          "data": {
            "text/plain": [
              "(torch.Size([9, 1]), torch.Size([9]))"
            ]
          },
          "metadata": {},
          "execution_count": 170
        }
      ]
    },
    {
      "cell_type": "code",
      "source": [
        "#let's visualize the torch.squeeze()\n",
        "# normal tensor\n",
        "print(f'Previous tensor: {x_reshaped} \\ntensor Shape:{x_reshaped.shape}')\n",
        "\n",
        "# After squeezing tensor\n",
        "print(f'After torch.squeeze() is applied \\nNew squeezed tensor: {x_reshaped.squeeze()} \\nShape is: {x_reshaped.squeeze().shape}')"
      ],
      "metadata": {
        "colab": {
          "base_uri": "https://localhost:8080/"
        },
        "id": "d2Xklz0UZ-Rx",
        "outputId": "b4dc9977-e8ba-4d51-ee0f-aa7c2caf7702"
      },
      "execution_count": 171,
      "outputs": [
        {
          "output_type": "stream",
          "name": "stdout",
          "text": [
            "Previous tensor: tensor([[1.],\n",
            "        [2.],\n",
            "        [3.],\n",
            "        [4.],\n",
            "        [5.],\n",
            "        [8.],\n",
            "        [7.],\n",
            "        [8.],\n",
            "        [9.]]) \n",
            "tensor Shape:torch.Size([9, 1])\n",
            "After torch.squeeze() is applied \n",
            "New squeezed tensor: tensor([1., 2., 3., 4., 5., 8., 7., 8., 9.]) \n",
            "Shape is: torch.Size([9])\n"
          ]
        }
      ]
    },
    {
      "cell_type": "code",
      "source": [
        "# homework unsqueezing and visualizing"
      ],
      "metadata": {
        "id": "IDbfE-_VcBBD"
      },
      "execution_count": 172,
      "outputs": []
    },
    {
      "cell_type": "markdown",
      "source": [
        "##### permute tensors \n"
      ],
      "metadata": {
        "id": "ttyicl5ZcJ-a"
      }
    },
    {
      "cell_type": "markdown",
      "source": [
        "Rearranging the dimension of tensors"
      ],
      "metadata": {
        "id": "-_DPkcaBcTH7"
      }
    },
    {
      "cell_type": "code",
      "source": [
        "x_original = torch.rand(size=(224,224,3)) #\n",
        "\n",
        "#permute the original tensor to rearrange the axis (on dim) order\n",
        "x_permuted = x_original.permute(2,0,1) # shift axis 0->1, 1->2, 2->0\n",
        "\n",
        "print(f'the original tensor: {x_original.shape}')\n",
        "print(f'the permuted tensor: {x_permuted.shape}')"
      ],
      "metadata": {
        "colab": {
          "base_uri": "https://localhost:8080/"
        },
        "id": "qvNQiH-OcSRC",
        "outputId": "d1789ece-43fe-4f75-97b7-82f23c6d4129"
      },
      "execution_count": 173,
      "outputs": [
        {
          "output_type": "stream",
          "name": "stdout",
          "text": [
            "the original tensor: torch.Size([224, 224, 3])\n",
            "the permuted tensor: torch.Size([3, 224, 224])\n"
          ]
        }
      ]
    },
    {
      "cell_type": "code",
      "source": [
        "x_original[0,0,1],x_permuted[0,0,1]\n",
        "x_original[0,0,1] = 234234\n",
        "x_original[0,0,1],x_permuted[0,0,1]"
      ],
      "metadata": {
        "colab": {
          "base_uri": "https://localhost:8080/"
        },
        "id": "lFiSM-pocH4o",
        "outputId": "d39030f7-1d30-4dab-9dc0-a1a438bffa93"
      },
      "execution_count": 174,
      "outputs": [
        {
          "output_type": "execute_result",
          "data": {
            "text/plain": [
              "(tensor(234234.), tensor(0.7946))"
            ]
          },
          "metadata": {},
          "execution_count": 174
        }
      ]
    },
    {
      "cell_type": "markdown",
      "source": [
        "#### indexing "
      ],
      "metadata": {
        "id": "T4FRSa3GeSZT"
      }
    },
    {
      "cell_type": "markdown",
      "source": [
        "indexing with numpy is same as Numpy Indexing"
      ],
      "metadata": {
        "id": "81EISSHkeXi5"
      }
    },
    {
      "cell_type": "code",
      "source": [
        "# create a tensor\n",
        "import torch\n",
        "x = torch.arange(1,10).reshape(1,3,3)\n",
        "x,x.shape"
      ],
      "metadata": {
        "colab": {
          "base_uri": "https://localhost:8080/"
        },
        "id": "q2lGx8E0eSDJ",
        "outputId": "a6a0ab2a-daea-44db-8be4-35b1d6e9d045"
      },
      "execution_count": 175,
      "outputs": [
        {
          "output_type": "execute_result",
          "data": {
            "text/plain": [
              "(tensor([[[1, 2, 3],\n",
              "          [4, 5, 6],\n",
              "          [7, 8, 9]]]), torch.Size([1, 3, 3]))"
            ]
          },
          "metadata": {},
          "execution_count": 175
        }
      ]
    },
    {
      "cell_type": "code",
      "source": [
        "# Let's index on our new tensor\n",
        "x[0]"
      ],
      "metadata": {
        "colab": {
          "base_uri": "https://localhost:8080/"
        },
        "id": "tpzewKMveR1E",
        "outputId": "ddb9a427-6378-4398-d1be-a235a8f8e9ab"
      },
      "execution_count": 176,
      "outputs": [
        {
          "output_type": "execute_result",
          "data": {
            "text/plain": [
              "tensor([[1, 2, 3],\n",
              "        [4, 5, 6],\n",
              "        [7, 8, 9]])"
            ]
          },
          "metadata": {},
          "execution_count": 176
        }
      ]
    },
    {
      "cell_type": "code",
      "source": [
        "# Let's index on the middle bracket dim=1\n",
        "x[0,0]\n",
        "x[0][0]"
      ],
      "metadata": {
        "id": "YMVffnHdeuj-",
        "colab": {
          "base_uri": "https://localhost:8080/"
        },
        "outputId": "dccc54ff-4a51-4bbb-e045-4fef73807cda"
      },
      "execution_count": 177,
      "outputs": [
        {
          "output_type": "execute_result",
          "data": {
            "text/plain": [
              "tensor([1, 2, 3])"
            ]
          },
          "metadata": {},
          "execution_count": 177
        }
      ]
    },
    {
      "cell_type": "code",
      "source": [
        "# Let's index on the inner bracket (last dimension)\n",
        "x[0][0][0]\n",
        "x[0,0,1] \n"
      ],
      "metadata": {
        "colab": {
          "base_uri": "https://localhost:8080/"
        },
        "id": "8sVDE0Dqe_b8",
        "outputId": "d4f601c9-19dc-4263-e48e-e3c4ed117126"
      },
      "execution_count": 178,
      "outputs": [
        {
          "output_type": "execute_result",
          "data": {
            "text/plain": [
              "tensor(2)"
            ]
          },
          "metadata": {},
          "execution_count": 178
        }
      ]
    },
    {
      "cell_type": "code",
      "source": [
        "# Let's get number 9 \n",
        "x[0][2][2]"
      ],
      "metadata": {
        "colab": {
          "base_uri": "https://localhost:8080/"
        },
        "id": "PKNTIANpfXj7",
        "outputId": "14be764e-e1d7-4c84-e69c-e5ae324cc4dc"
      },
      "execution_count": 179,
      "outputs": [
        {
          "output_type": "execute_result",
          "data": {
            "text/plain": [
              "tensor(9)"
            ]
          },
          "metadata": {},
          "execution_count": 179
        }
      ]
    },
    {
      "cell_type": "code",
      "source": [
        "# You can also use \";\" to select \"all\" of the target dimension\n",
        "# Let's get all the values of the 0th and 1th dim and just first of the 2nd dim \n",
        "x[:,:,0]"
      ],
      "metadata": {
        "colab": {
          "base_uri": "https://localhost:8080/"
        },
        "id": "ZCNpLK1QfjEK",
        "outputId": "c84932dc-4b99-426b-dc48-637811f4d9ed"
      },
      "execution_count": 180,
      "outputs": [
        {
          "output_type": "execute_result",
          "data": {
            "text/plain": [
              "tensor([[1, 4, 7]])"
            ]
          },
          "metadata": {},
          "execution_count": 180
        }
      ]
    },
    {
      "cell_type": "code",
      "source": [
        "# Let's get all the values of the 0th and last value from 1nd dim and 2nd first of the 2nd dim \n",
        "x[:,-1,-1]"
      ],
      "metadata": {
        "colab": {
          "base_uri": "https://localhost:8080/"
        },
        "id": "ePCgZ1rLf0J9",
        "outputId": "052c2e64-cd42-4b84-b65f-0c889ba35d75"
      },
      "execution_count": 181,
      "outputs": [
        {
          "output_type": "execute_result",
          "data": {
            "text/plain": [
              "tensor([9])"
            ]
          },
          "metadata": {},
          "execution_count": 181
        }
      ]
    },
    {
      "cell_type": "code",
      "source": [
        "# Let's get all the values from 1st dim and the just 1st \n",
        "x[0,:,1]"
      ],
      "metadata": {
        "colab": {
          "base_uri": "https://localhost:8080/"
        },
        "id": "FuENYg1Egg64",
        "outputId": "afe03fec-61e4-4888-cff1-3c382c5a33c5"
      },
      "execution_count": 182,
      "outputs": [
        {
          "output_type": "execute_result",
          "data": {
            "text/plain": [
              "tensor([2, 5, 8])"
            ]
          },
          "metadata": {},
          "execution_count": 182
        }
      ]
    },
    {
      "cell_type": "markdown",
      "source": [
        "## pytorch tensors & Numpy"
      ],
      "metadata": {
        "id": "Xx56earyg_Kc"
      }
    },
    {
      "cell_type": "markdown",
      "source": [
        "`warning: when converting from numpy-->pytorch, pytorch by default reflects numpy's default datatype of float64 unless specified otherwise`"
      ],
      "metadata": {
        "id": "OMXo0SRDhoS4"
      }
    },
    {
      "cell_type": "code",
      "source": [
        "# Numpy array to tensor\n",
        "import torch\n",
        "import numpy as np\n",
        "\n",
        "array = np.arange(1.,10.)\n",
        "tensor = torch.from_numpy(array)\n",
        "array, tensor"
      ],
      "metadata": {
        "colab": {
          "base_uri": "https://localhost:8080/"
        },
        "id": "rrTJLW-viB6X",
        "outputId": "ea534173-2bc6-4f13-c5d5-d4a9458d12bf"
      },
      "execution_count": 183,
      "outputs": [
        {
          "output_type": "execute_result",
          "data": {
            "text/plain": [
              "(array([1., 2., 3., 4., 5., 6., 7., 8., 9.]),\n",
              " tensor([1., 2., 3., 4., 5., 6., 7., 8., 9.], dtype=torch.float64))"
            ]
          },
          "metadata": {},
          "execution_count": 183
        }
      ]
    },
    {
      "cell_type": "code",
      "source": [
        "# chaning the value of the array, what will this do to the tensor\n",
        "array = array + 3\n",
        "tensor, array\n",
        "# note tensor did't change; they don't share memory"
      ],
      "metadata": {
        "colab": {
          "base_uri": "https://localhost:8080/"
        },
        "id": "TsYSW4aDiglX",
        "outputId": "7c7b7d54-57fa-4553-839f-4d469af97f60"
      },
      "execution_count": 184,
      "outputs": [
        {
          "output_type": "execute_result",
          "data": {
            "text/plain": [
              "(tensor([1., 2., 3., 4., 5., 6., 7., 8., 9.], dtype=torch.float64),\n",
              " array([ 4.,  5.,  6.,  7.,  8.,  9., 10., 11., 12.]))"
            ]
          },
          "metadata": {},
          "execution_count": 184
        }
      ]
    },
    {
      "cell_type": "code",
      "source": [
        "# Tensor to Numpy array\n",
        "tensor = torch.ones(1)\n",
        "array = tensor.numpy()\n",
        "tensor, array"
      ],
      "metadata": {
        "colab": {
          "base_uri": "https://localhost:8080/"
        },
        "id": "-uA7Q9sQi5lB",
        "outputId": "904194ee-4b1f-4595-b8bc-3e710a7b58e2"
      },
      "execution_count": 185,
      "outputs": [
        {
          "output_type": "execute_result",
          "data": {
            "text/plain": [
              "(tensor([1.]), array([1.], dtype=float32))"
            ]
          },
          "metadata": {},
          "execution_count": 185
        }
      ]
    },
    {
      "cell_type": "markdown",
      "source": [
        "## Reproducibility (trying to take random out of random)\n"
      ],
      "metadata": {
        "id": "ndo4BOvGjjqx"
      }
    },
    {
      "cell_type": "markdown",
      "source": [
        "To be succtint neural network learns:<br>\n",
        "`start with random number --> tensor operations -> update random number to try and make them representing the same data-> again->again`<br>"
      ],
      "metadata": {
        "id": "REgmGlA5jtyc"
      }
    },
    {
      "cell_type": "markdown",
      "source": [
        "`# when running into error with tensor sing a song 'what,what,where'`\n",
        "* \"what shape are my tensors? what dataype are they and where are they stored? what shape what datatype, where where where\""
      ],
      "metadata": {
        "id": "Lts7-jiMZFCT"
      }
    },
    {
      "cell_type": "code",
      "source": [],
      "metadata": {
        "id": "H0dqOhnbktqg"
      },
      "execution_count": 185,
      "outputs": []
    },
    {
      "cell_type": "code",
      "source": [
        "# using random seed \n",
        "# this is random but reproducible tensor\n",
        "random.seed = 32\n",
        "tensor = torch.rand(3,3)\n",
        "tensor"
      ],
      "metadata": {
        "colab": {
          "base_uri": "https://localhost:8080/"
        },
        "id": "WP5k5cmXi5al",
        "outputId": "e19aa7a0-4ee2-4638-ed64-874d4d9db2e1"
      },
      "execution_count": 186,
      "outputs": [
        {
          "output_type": "execute_result",
          "data": {
            "text/plain": [
              "tensor([[0.3204, 0.4905, 0.9574],\n",
              "        [0.0178, 0.5160, 0.5669],\n",
              "        [0.7521, 0.7024, 0.8072]])"
            ]
          },
          "metadata": {},
          "execution_count": 186
        }
      ]
    },
    {
      "cell_type": "code",
      "source": [
        "tensor==tensor"
      ],
      "metadata": {
        "colab": {
          "base_uri": "https://localhost:8080/"
        },
        "id": "EIyx6gsei5JJ",
        "outputId": "ad454712-0d7e-4fb2-94c0-32fb919e3460"
      },
      "execution_count": 187,
      "outputs": [
        {
          "output_type": "execute_result",
          "data": {
            "text/plain": [
              "tensor([[True, True, True],\n",
              "        [True, True, True],\n",
              "        [True, True, True]])"
            ]
          },
          "metadata": {},
          "execution_count": 187
        }
      ]
    },
    {
      "cell_type": "code",
      "source": [
        "# using random seed \n",
        "# this is random but reproducible tensor \n",
        "# seed works for just one block\n",
        "random.seed = 32\n",
        "tensorA = torch.rand(3,3)\n",
        "\n",
        "tensorB = torch.rand(3,3)\n",
        "tensorA == tensorB \n",
        "# see doesn't work why?"
      ],
      "metadata": {
        "colab": {
          "base_uri": "https://localhost:8080/"
        },
        "id": "4FUInaWWllwW",
        "outputId": "ce153ff8-7218-46fc-e37f-476adc8380a1"
      },
      "execution_count": 188,
      "outputs": [
        {
          "output_type": "execute_result",
          "data": {
            "text/plain": [
              "tensor([[False, False, False],\n",
              "        [False, False, False],\n",
              "        [False, False, False]])"
            ]
          },
          "metadata": {},
          "execution_count": 188
        }
      ]
    },
    {
      "cell_type": "code",
      "source": [
        "# seed works for just one block\n",
        "random.seed = 32\n",
        "torch.manual_seed(random.seed) # call for random seed\n",
        "tensorA = torch.rand(3,3)\n",
        "\n",
        "torch.manual_seed(random.seed) # call for random seed\n",
        "tensorB = torch.rand(3,3)\n",
        "tensorA == tensorB \n",
        "# haa! now works , tensors are same"
      ],
      "metadata": {
        "colab": {
          "base_uri": "https://localhost:8080/"
        },
        "id": "7TgkZOLvl8rN",
        "outputId": "9be7c192-6363-4706-cb8e-9dfb13c39d20"
      },
      "execution_count": 189,
      "outputs": [
        {
          "output_type": "execute_result",
          "data": {
            "text/plain": [
              "tensor([[True, True, True],\n",
              "        [True, True, True],\n",
              "        [True, True, True]])"
            ]
          },
          "metadata": {},
          "execution_count": 189
        }
      ]
    },
    {
      "cell_type": "markdown",
      "source": [
        "`trick: to know the shape of tensor is the numbet(#) of comma inside[] + 1, but apply quickly to small shapes of tensor`"
      ],
      "metadata": {
        "id": "NXanmWeMThFO"
      }
    },
    {
      "cell_type": "code",
      "source": [
        "import torch\n",
        "T = torch.rand(size=(3,4))\n",
        "T.ndim, T.shape"
      ],
      "metadata": {
        "colab": {
          "base_uri": "https://localhost:8080/"
        },
        "id": "F_aSWsCJVR6D",
        "outputId": "4d5ef030-cc2c-4b79-b4d8-6ba02d9b785a"
      },
      "execution_count": 190,
      "outputs": [
        {
          "output_type": "execute_result",
          "data": {
            "text/plain": [
              "(2, torch.Size([3, 4]))"
            ]
          },
          "metadata": {},
          "execution_count": 190
        }
      ]
    },
    {
      "cell_type": "code",
      "source": [
        "T1 = torch.tensor([3.0,4.0,5.0],\n",
        "                  dtype=torch.float32,\n",
        "                  device=None,\n",
        "                  requires_grad = False)"
      ],
      "metadata": {
        "id": "IbIWRaYqWM1D"
      },
      "execution_count": 191,
      "outputs": []
    },
    {
      "cell_type": "code",
      "source": [
        "T1.ndim, T1.shape, T1.dtype, T1.device\n"
      ],
      "metadata": {
        "colab": {
          "base_uri": "https://localhost:8080/"
        },
        "id": "YoKiRTJ0YBOC",
        "outputId": "68b529fe-7f5e-4fb9-d2d6-6d6dcaa927d1"
      },
      "execution_count": 192,
      "outputs": [
        {
          "output_type": "execute_result",
          "data": {
            "text/plain": [
              "(1, torch.Size([3]), torch.float32, device(type='cpu'))"
            ]
          },
          "metadata": {},
          "execution_count": 192
        }
      ]
    },
    {
      "cell_type": "markdown",
      "source": [
        "#### squeeze and unsqueeze with visualization"
      ],
      "metadata": {
        "id": "iDbmFt7baqEE"
      }
    },
    {
      "cell_type": "code",
      "source": [
        "T = torch.zeros(2,1,3,1,3)\n",
        "T.size()\n",
        "T1 = torch.squeeze(T)\n",
        "T1.shape,T.shape"
      ],
      "metadata": {
        "colab": {
          "base_uri": "https://localhost:8080/"
        },
        "id": "ZFxAbY2yav4z",
        "outputId": "edceef04-5133-4bb8-8a4d-4412139d3692"
      },
      "execution_count": 193,
      "outputs": [
        {
          "output_type": "execute_result",
          "data": {
            "text/plain": [
              "(torch.Size([2, 3, 3]), torch.Size([2, 1, 3, 1, 3]))"
            ]
          },
          "metadata": {},
          "execution_count": 193
        }
      ]
    },
    {
      "cell_type": "code",
      "source": [
        "T2 = torch.tensor([1,2,3,4])\n",
        "T2,torch.unsqueeze(T2,1)\n"
      ],
      "metadata": {
        "colab": {
          "base_uri": "https://localhost:8080/"
        },
        "id": "gZvcBHNFcnmu",
        "outputId": "250d6e6f-c794-429e-a247-f800389a8e21"
      },
      "execution_count": 194,
      "outputs": [
        {
          "output_type": "execute_result",
          "data": {
            "text/plain": [
              "(tensor([1, 2, 3, 4]), tensor([[1],\n",
              "         [2],\n",
              "         [3],\n",
              "         [4]]))"
            ]
          },
          "metadata": {},
          "execution_count": 194
        }
      ]
    },
    {
      "cell_type": "markdown",
      "source": [
        "##### spliting tensors \n"
      ],
      "metadata": {
        "id": "VuiBxS4kdT6p"
      }
    },
    {
      "cell_type": "code",
      "source": [
        "T = torch.arange(14).reshape(2,7)\n",
        "print(torch.tensor_split(T,4,dim=1)) # spliting and creating sub tensors"
      ],
      "metadata": {
        "colab": {
          "base_uri": "https://localhost:8080/"
        },
        "id": "Dd3xS81GdYuZ",
        "outputId": "bd63eb6b-4d31-49aa-ab17-3f766e414cfb"
      },
      "execution_count": 195,
      "outputs": [
        {
          "output_type": "stream",
          "name": "stdout",
          "text": [
            "(tensor([[0, 1],\n",
            "        [7, 8]]), tensor([[ 2,  3],\n",
            "        [ 9, 10]]), tensor([[ 4,  5],\n",
            "        [11, 12]]), tensor([[ 6],\n",
            "        [13]]))\n"
          ]
        }
      ]
    },
    {
      "cell_type": "code",
      "source": [
        "x1 = torch.rand(3,4)\n",
        "x2 = torch.rand(4,3)\n",
        "x2@x1 # multiplication of matrix"
      ],
      "metadata": {
        "colab": {
          "base_uri": "https://localhost:8080/"
        },
        "id": "hWeRR4KjeabU",
        "outputId": "96bca23b-4b2e-4abe-afc8-4d98a1b6fa43"
      },
      "execution_count": 196,
      "outputs": [
        {
          "output_type": "execute_result",
          "data": {
            "text/plain": [
              "tensor([[0.9095, 0.2476, 0.5458, 0.7917],\n",
              "        [1.0528, 0.3636, 0.3676, 0.7897],\n",
              "        [1.2888, 0.4306, 0.6563, 1.1648],\n",
              "        [0.8135, 0.3063, 0.2139, 0.5870]])"
            ]
          },
          "metadata": {},
          "execution_count": 196
        }
      ]
    },
    {
      "cell_type": "code",
      "source": [
        "import random\n",
        "random.seed = 42\n",
        "x2 = torch.rand(4,3,3)\n",
        "\n",
        "print(x2,'\\n', x2.mT) # adjoint of matrix"
      ],
      "metadata": {
        "id": "qWa8QOkwfYMz",
        "colab": {
          "base_uri": "https://localhost:8080/"
        },
        "outputId": "6a1db304-0f38-4c2b-e43b-48d7611585cd"
      },
      "execution_count": 197,
      "outputs": [
        {
          "output_type": "stream",
          "name": "stdout",
          "text": [
            "tensor([[[0.7794, 0.0059, 0.1268],\n",
            "         [0.7167, 0.3324, 0.8529],\n",
            "         [0.3920, 0.5805, 0.2238]],\n",
            "\n",
            "        [[0.5989, 0.0382, 0.1198],\n",
            "         [0.1159, 0.5589, 0.4112],\n",
            "         [0.9977, 0.5187, 0.9310]],\n",
            "\n",
            "        [[0.2028, 0.6240, 0.4142],\n",
            "         [0.9531, 0.6668, 0.5360],\n",
            "         [0.1804, 0.0755, 0.3405]],\n",
            "\n",
            "        [[0.7576, 0.2296, 0.2900],\n",
            "         [0.0625, 0.9716, 0.9518],\n",
            "         [0.2123, 0.5161, 0.4722]]]) \n",
            " tensor([[[0.7794, 0.7167, 0.3920],\n",
            "         [0.0059, 0.3324, 0.5805],\n",
            "         [0.1268, 0.8529, 0.2238]],\n",
            "\n",
            "        [[0.5989, 0.1159, 0.9977],\n",
            "         [0.0382, 0.5589, 0.5187],\n",
            "         [0.1198, 0.4112, 0.9310]],\n",
            "\n",
            "        [[0.2028, 0.9531, 0.1804],\n",
            "         [0.6240, 0.6668, 0.0755],\n",
            "         [0.4142, 0.5360, 0.3405]],\n",
            "\n",
            "        [[0.7576, 0.0625, 0.2123],\n",
            "         [0.2296, 0.9716, 0.5161],\n",
            "         [0.2900, 0.9518, 0.4722]]])\n"
          ]
        }
      ]
    },
    {
      "cell_type": "code",
      "source": [
        "%%time\n",
        "value=0\n",
        "for i in range(len(x1)):\n",
        "  value += x1[i]*x1[i]\n",
        "value"
      ],
      "metadata": {
        "colab": {
          "base_uri": "https://localhost:8080/"
        },
        "id": "BowL3jwZjPzE",
        "outputId": "8f468fd9-6c5c-4d2a-8417-a20681309898"
      },
      "execution_count": 198,
      "outputs": [
        {
          "output_type": "stream",
          "name": "stdout",
          "text": [
            "CPU times: user 171 µs, sys: 0 ns, total: 171 µs\n",
            "Wall time: 177 µs\n"
          ]
        },
        {
          "output_type": "execute_result",
          "data": {
            "text/plain": [
              "tensor([1.4320, 0.1640, 0.5929, 1.2607])"
            ]
          },
          "metadata": {},
          "execution_count": 198
        }
      ]
    },
    {
      "cell_type": "code",
      "source": [
        "%%time\n",
        "torch.matmul(x1,x1.T)"
      ],
      "metadata": {
        "colab": {
          "base_uri": "https://localhost:8080/"
        },
        "id": "WknRSbNDizbC",
        "outputId": "c6bd38be-3a0b-4a3f-bdc1-2246759d3367"
      },
      "execution_count": 199,
      "outputs": [
        {
          "output_type": "stream",
          "name": "stdout",
          "text": [
            "CPU times: user 125 µs, sys: 0 ns, total: 125 µs\n",
            "Wall time: 290 µs\n"
          ]
        },
        {
          "output_type": "execute_result",
          "data": {
            "text/plain": [
              "tensor([[1.4852, 0.5405, 1.3932],\n",
              "        [0.5405, 0.2109, 0.5278],\n",
              "        [1.3932, 0.5278, 1.7536]])"
            ]
          },
          "metadata": {},
          "execution_count": 199
        }
      ]
    },
    {
      "cell_type": "markdown",
      "source": [
        "#### setup and diagnostic code\n"
      ],
      "metadata": {
        "id": "9xRhqu7tkRff"
      }
    },
    {
      "cell_type": "code",
      "source": [
        "# setup and diagnostic code\n",
        "device = \"cuda\" if torch.cuda.is_available() else \"cpu\"\n",
        "device"
      ],
      "metadata": {
        "colab": {
          "base_uri": "https://localhost:8080/",
          "height": 35
        },
        "id": "5fj0477tkZ1S",
        "outputId": "f04754d7-5e46-498f-b542-d34712967d03"
      },
      "execution_count": 200,
      "outputs": [
        {
          "output_type": "execute_result",
          "data": {
            "text/plain": [
              "'cuda'"
            ],
            "application/vnd.google.colaboratory.intrinsic+json": {
              "type": "string"
            }
          },
          "metadata": {},
          "execution_count": 200
        }
      ]
    },
    {
      "cell_type": "code",
      "source": [
        "# Count number of devices\n",
        "torch.cuda.device_count()"
      ],
      "metadata": {
        "colab": {
          "base_uri": "https://localhost:8080/"
        },
        "id": "EltlQQ5Uknlt",
        "outputId": "acb9a4b1-1a05-4d88-e94e-9e601e1bcdf5"
      },
      "execution_count": 201,
      "outputs": [
        {
          "output_type": "execute_result",
          "data": {
            "text/plain": [
              "1"
            ]
          },
          "metadata": {},
          "execution_count": 201
        }
      ]
    },
    {
      "cell_type": "code",
      "source": [
        "## 3. putting tensors (and models) on the GPU\n",
        "tensor = torch.tensor([1,3,4])\n",
        "print(tensor, tensor.device)"
      ],
      "metadata": {
        "colab": {
          "base_uri": "https://localhost:8080/"
        },
        "id": "hNTz_mO_kvpK",
        "outputId": "1397299a-11f7-4bf3-e497-5f1b1eb83e9c"
      },
      "execution_count": 202,
      "outputs": [
        {
          "output_type": "stream",
          "name": "stdout",
          "text": [
            "tensor([1, 3, 4]) cpu\n"
          ]
        }
      ]
    },
    {
      "cell_type": "code",
      "source": [
        "# Move tensor to GPU (if available)\n",
        "tensor_on_gpu = tensor.to(device)\n",
        "print(tensor_on_gpu)"
      ],
      "metadata": {
        "colab": {
          "base_uri": "https://localhost:8080/"
        },
        "id": "4ElMF6Q-lvWQ",
        "outputId": "08ba7430-b00f-41ba-9e41-25215085048d"
      },
      "execution_count": 203,
      "outputs": [
        {
          "output_type": "stream",
          "name": "stdout",
          "text": [
            "tensor([1, 3, 4], device='cuda:0')\n"
          ]
        }
      ]
    },
    {
      "cell_type": "code",
      "source": [
        "#copied the tensor to the cpu because numpy doesn't work with GPU's\n",
        "tensor_on_gpu = tensor.cpu()\n",
        "tensor_on_gpu.numpy() "
      ],
      "metadata": {
        "colab": {
          "base_uri": "https://localhost:8080/"
        },
        "id": "NdYrIpcUl_eH",
        "outputId": "7f6d8dfd-b3e7-4926-fd6a-4c4117df4ec0"
      },
      "execution_count": 204,
      "outputs": [
        {
          "output_type": "execute_result",
          "data": {
            "text/plain": [
              "array([1, 3, 4])"
            ]
          },
          "metadata": {},
          "execution_count": 204
        }
      ]
    },
    {
      "cell_type": "code",
      "source": [],
      "metadata": {
        "id": "lagRRigPnJBm"
      },
      "execution_count": 204,
      "outputs": []
    },
    {
      "cell_type": "markdown",
      "source": [
        "## explore Assignment  \n"
      ],
      "metadata": {
        "id": "81TSMpuu39fL"
      }
    },
    {
      "cell_type": "markdown",
      "source": [
        "1. device diagnostic code \n",
        "2. dtype and general problem in tensors\n",
        "3. try out pytorch inbuilt function\n",
        "4. try out to try new thing with google \n",
        "5. view and reshape\n",
        "6. stacking hstack, vstack\n",
        "7. squeeze and unsqueeze\n",
        "8. permuted didn't change as original (error fix it)\n",
        "9. check how changing one can change other data\n",
        "10. reproduclibility\n",
        "11. setup \n",
        "12. cuda\n",
        "13. why use many cpu gpu"
      ],
      "metadata": {
        "id": "yzAuQEALm09G"
      }
    },
    {
      "cell_type": "markdown",
      "source": [],
      "metadata": {
        "id": "xHgVvv6Gg-d_"
      }
    },
    {
      "cell_type": "code",
      "source": [
        "# Dot product\n",
        "import torch\n",
        "torch.inner(torch.tensor([1,2,3]),torch.tensor([0,2,1]))\n"
      ],
      "metadata": {
        "colab": {
          "base_uri": "https://localhost:8080/"
        },
        "id": "7w4XUWad-Ba5",
        "outputId": "3f2852f5-56f1-4573-d4fb-97d9c3e3c158"
      },
      "execution_count": 205,
      "outputs": [
        {
          "output_type": "execute_result",
          "data": {
            "text/plain": [
              "tensor(7)"
            ]
          },
          "metadata": {},
          "execution_count": 205
        }
      ]
    },
    {
      "cell_type": "code",
      "source": [
        "# Multidemensional input tensors\n",
        "a = torch.randn(size=(2,3))\n",
        "a"
      ],
      "metadata": {
        "id": "IFC4yddpg-Kn",
        "colab": {
          "base_uri": "https://localhost:8080/"
        },
        "outputId": "44cbd514-eceb-4227-9c8c-72b23d5543ae"
      },
      "execution_count": 206,
      "outputs": [
        {
          "output_type": "execute_result",
          "data": {
            "text/plain": [
              "tensor([[-0.3004, -1.1463,  2.2173],\n",
              "        [-1.1345,  0.4725, -1.3764]])"
            ]
          },
          "metadata": {},
          "execution_count": 206
        }
      ]
    },
    {
      "cell_type": "code",
      "source": [
        "b = torch.randn(2,4,3)\n",
        "b"
      ],
      "metadata": {
        "id": "Fh_TNNB87vEy",
        "colab": {
          "base_uri": "https://localhost:8080/"
        },
        "outputId": "0db3ab9c-67da-47aa-c096-c5b1f1043222"
      },
      "execution_count": 207,
      "outputs": [
        {
          "output_type": "execute_result",
          "data": {
            "text/plain": [
              "tensor([[[ 0.6702,  0.9178,  0.9622],\n",
              "         [ 0.1585,  0.0479,  0.2299],\n",
              "         [-0.7861, -0.4396,  0.5651],\n",
              "         [ 0.7129, -1.1598, -0.5008]],\n",
              "\n",
              "        [[ 0.5952,  0.0851, -0.4060],\n",
              "         [-0.5512,  0.9348, -1.1235],\n",
              "         [ 0.2869, -1.1786, -0.1861],\n",
              "         [-0.9580, -1.1800,  1.3241]]])"
            ]
          },
          "metadata": {},
          "execution_count": 207
        }
      ]
    },
    {
      "cell_type": "code",
      "source": [
        "# to do inner product, the size of their last dimension must match\n",
        "torch.inner(a,b)"
      ],
      "metadata": {
        "colab": {
          "base_uri": "https://localhost:8080/"
        },
        "id": "KM5pyvub-iSG",
        "outputId": "e78bb351-f128-4b07-daa1-1c3f77358067"
      },
      "execution_count": 208,
      "outputs": [
        {
          "output_type": "execute_result",
          "data": {
            "text/plain": [
              "tensor([[[ 0.8799,  0.4073,  1.9930,  0.0050],\n",
              "         [-1.1766, -3.3970,  0.8523,  4.5763]],\n",
              "\n",
              "        [[-1.6510, -0.4736, -0.0936, -0.6675],\n",
              "         [-0.0762,  2.6133, -0.6261, -1.2931]]])"
            ]
          },
          "metadata": {},
          "execution_count": 208
        }
      ]
    },
    {
      "cell_type": "code",
      "source": [
        "# scalar input\n",
        "torch.inner(a, torch.tensor(2))"
      ],
      "metadata": {
        "colab": {
          "base_uri": "https://localhost:8080/"
        },
        "id": "GHt97BZy-7vT",
        "outputId": "a6e0d256-aae3-4516-c7d8-c067b8bf1882"
      },
      "execution_count": 209,
      "outputs": [
        {
          "output_type": "execute_result",
          "data": {
            "text/plain": [
              "tensor([[-0.6008, -2.2926,  4.4345],\n",
              "        [-2.2690,  0.9449, -2.7528]])"
            ]
          },
          "metadata": {},
          "execution_count": 209
        }
      ]
    },
    {
      "cell_type": "code",
      "source": [
        "# tensor views\n",
        "t = torch.randn(4,4)\n",
        "b = t.view(2,8)\n",
        "print(\"t-tensor: \",t)\n",
        "print(f\"the view of the t tensor \\n having shape: {b.shape} \\n and dimension: {b.ndim}\\n : {b}\")"
      ],
      "metadata": {
        "colab": {
          "base_uri": "https://localhost:8080/"
        },
        "id": "p9c_rk3-_Oe_",
        "outputId": "3fec7f86-61b9-4c19-91b7-7583b0a1e5ea"
      },
      "execution_count": 210,
      "outputs": [
        {
          "output_type": "stream",
          "name": "stdout",
          "text": [
            "t-tensor:  tensor([[-0.1140,  0.1567, -2.1658,  1.7045],\n",
            "        [ 0.7606,  2.2150, -0.0693, -0.2584],\n",
            "        [ 0.5535,  1.4925,  0.2759,  0.1840],\n",
            "        [-0.9891,  0.0053,  0.8823, -0.8039]])\n",
            "the view of the t tensor \n",
            " having shape: torch.Size([2, 8]) \n",
            " and dimension: 2\n",
            " : tensor([[-0.1140,  0.1567, -2.1658,  1.7045,  0.7606,  2.2150, -0.0693, -0.2584],\n",
            "        [ 0.5535,  1.4925,  0.2759,  0.1840, -0.9891,  0.0053,  0.8823, -0.8039]])\n"
          ]
        }
      ]
    },
    {
      "cell_type": "code",
      "source": [
        "# 't' and 'b' share the same underlying data.\n",
        "t.storage().data_ptr() == b.storage().data_ptr()\n"
      ],
      "metadata": {
        "colab": {
          "base_uri": "https://localhost:8080/"
        },
        "id": "eWRM_R9r_ySq",
        "outputId": "d3086918-b680-4fef-fe81-9e2ed952e3b7"
      },
      "execution_count": 211,
      "outputs": [
        {
          "output_type": "execute_result",
          "data": {
            "text/plain": [
              "True"
            ]
          },
          "metadata": {},
          "execution_count": 211
        }
      ]
    },
    {
      "cell_type": "code",
      "source": [
        "# modifying view sensor changes the base tensor as well\n",
        "b[0][0] =3.14\n",
        "t[0][0]"
      ],
      "metadata": {
        "colab": {
          "base_uri": "https://localhost:8080/"
        },
        "id": "HcujD32ZBAt6",
        "outputId": "481e42d0-d784-4875-d602-e7411406ce52"
      },
      "execution_count": 212,
      "outputs": [
        {
          "output_type": "execute_result",
          "data": {
            "text/plain": [
              "tensor(3.1400)"
            ]
          },
          "metadata": {},
          "execution_count": 212
        }
      ]
    },
    {
      "cell_type": "code",
      "source": [
        "x = torch.ones(2,1,2,1,2)\n",
        "y = torch.squeeze(x)\n",
        "x.shape, y.shape\n",
        "x.is_contiguous(), y.is_contiguous()\n",
        "x,y*2"
      ],
      "metadata": {
        "colab": {
          "base_uri": "https://localhost:8080/"
        },
        "id": "Rqgx8Lg-BR-c",
        "outputId": "fbf0b616-adbf-4cf7-b735-f3e4a8d83780"
      },
      "execution_count": 213,
      "outputs": [
        {
          "output_type": "execute_result",
          "data": {
            "text/plain": [
              "(tensor([[[[[1., 1.]],\n",
              " \n",
              "           [[1., 1.]]]],\n",
              " \n",
              " \n",
              " \n",
              "         [[[[1., 1.]],\n",
              " \n",
              "           [[1., 1.]]]]]), tensor([[[2., 2.],\n",
              "          [2., 2.]],\n",
              " \n",
              "         [[2., 2.],\n",
              "          [2., 2.]]]))"
            ]
          },
          "metadata": {},
          "execution_count": 213
        }
      ]
    },
    {
      "cell_type": "code",
      "source": [
        "#creating a range and tensor like\n",
        "import torch\n",
        "# creating range of value 0 to 10\n",
        "z = torch.arange(0,100,10)\n",
        "z"
      ],
      "metadata": {
        "colab": {
          "base_uri": "https://localhost:8080/"
        },
        "id": "EMiYiQAwCU7U",
        "outputId": "3e2429a8-40db-4f22-b812-1373f112c9b1"
      },
      "execution_count": 214,
      "outputs": [
        {
          "output_type": "execute_result",
          "data": {
            "text/plain": [
              "tensor([ 0, 10, 20, 30, 40, 50, 60, 70, 80, 90])"
            ]
          },
          "metadata": {},
          "execution_count": 214
        }
      ]
    },
    {
      "cell_type": "code",
      "source": [
        "# using to() will create copies to avoid the copies use requires_grad_()\n",
        "z.to(dtype=torch.float16).requires_grad_()\n",
        "z.dtype"
      ],
      "metadata": {
        "colab": {
          "base_uri": "https://localhost:8080/"
        },
        "id": "Xp1ux_GczT2p",
        "outputId": "0b9d6fcb-25a4-4387-c3a1-909b485c31cb"
      },
      "execution_count": 215,
      "outputs": [
        {
          "output_type": "execute_result",
          "data": {
            "text/plain": [
              "torch.int64"
            ]
          },
          "metadata": {},
          "execution_count": 215
        }
      ]
    },
    {
      "cell_type": "code",
      "source": [
        "tensor = torch.tensor([1,2,3,4,5,6],dtype=torch.float32, requires_grad=True)\n",
        "out = tensor.pow(2).sum()\n",
        "out.backward()\n",
        "tensor.grad"
      ],
      "metadata": {
        "colab": {
          "base_uri": "https://localhost:8080/"
        },
        "id": "hlJAi1tG0rW4",
        "outputId": "f8971e3e-9065-4fd9-e76b-aa169f23838c"
      },
      "execution_count": 216,
      "outputs": [
        {
          "output_type": "execute_result",
          "data": {
            "text/plain": [
              "tensor([ 2.,  4.,  6.,  8., 10., 12.])"
            ]
          },
          "metadata": {},
          "execution_count": 216
        }
      ]
    },
    {
      "cell_type": "code",
      "source": [
        "# vector x vector\n",
        "tensor1 = torch.rand(3)\n",
        "tensor2 = torch.rand(3)\n",
        "torch.matmul(tensor1,tensor2).size()"
      ],
      "metadata": {
        "colab": {
          "base_uri": "https://localhost:8080/"
        },
        "id": "4JBheiHJ2cxe",
        "outputId": "26a45a01-2d9b-4e99-d9df-b28877cc72a7"
      },
      "execution_count": 217,
      "outputs": [
        {
          "output_type": "execute_result",
          "data": {
            "text/plain": [
              "torch.Size([])"
            ]
          },
          "metadata": {},
          "execution_count": 217
        }
      ]
    },
    {
      "cell_type": "markdown",
      "source": [
        "#### inner dimension broadcasting"
      ],
      "metadata": {
        "id": "ozWyMBQZ_f79"
      }
    },
    {
      "cell_type": "code",
      "source": [
        "# matrix x vector\n",
        "tensor1 = torch.randn(3,4)\n",
        "tensor2 = torch.randn(4)\n",
        "print(f\"tensor1: {tensor1} \\n tensor1 size: {tensor1.size()}\")\n",
        "print(f\"tensor2: {tensor2} \\n tensor1 size: {tensor2.size()}\")\n",
        "print(f\"matrix * vector: {torch.matmul(tensor1,tensor2)} \\n size: {torch.matmul(tensor1,tensor2).size()}\")\n"
      ],
      "metadata": {
        "colab": {
          "base_uri": "https://localhost:8080/"
        },
        "id": "Rkitcn_64tmR",
        "outputId": "93135a87-0f24-4ae1-b0ca-5837a2653fd0"
      },
      "execution_count": 218,
      "outputs": [
        {
          "output_type": "stream",
          "name": "stdout",
          "text": [
            "tensor1: tensor([[-0.1539,  0.0775, -0.1298, -0.2275],\n",
            "        [-1.7822,  0.0453,  0.6322,  0.5371],\n",
            "        [-0.2426,  1.4826,  0.4890, -1.5933]]) \n",
            " tensor1 size: torch.Size([3, 4])\n",
            "tensor2: tensor([-1.0278,  1.4589, -0.6138,  0.9292]) \n",
            " tensor1 size: torch.Size([4])\n",
            "matrix * vector: tensor([0.1395, 2.0089, 0.6317]) \n",
            " size: torch.Size([3])\n"
          ]
        }
      ]
    },
    {
      "cell_type": "code",
      "source": [
        "# batch matrix x broadcast vector\n",
        "tensor1 = torch.randn(10,3,4)\n",
        "tensor2 = torch.randn(4)\n",
        "torch.matmul(tensor1,tensor2).size()\n"
      ],
      "metadata": {
        "colab": {
          "base_uri": "https://localhost:8080/"
        },
        "id": "iubZWR0t5C-K",
        "outputId": "d807b250-c842-4024-cc41-c7a65cafdce5"
      },
      "execution_count": 219,
      "outputs": [
        {
          "output_type": "execute_result",
          "data": {
            "text/plain": [
              "torch.Size([10, 3])"
            ]
          },
          "metadata": {},
          "execution_count": 219
        }
      ]
    },
    {
      "cell_type": "code",
      "source": [
        "# batch matrix x batch matrix \n",
        "tensor1 = torch.randn(10,2,3,3,4)\n",
        "tensor2 = torch.randn(10,2,1,4,5)\n",
        "torch.matmul(tensor1,tensor2).size() \n",
        "# here the inner dimension (3,4) and (4,5) follows the mutliplication matrix rules\n",
        "# 1. inner dimension must be same 2. the size of the matrix will be the outer dimensions\n",
        "# i.e, (3,5) but since we are broadcasting on 10 so, we get (10,3,5)"
      ],
      "metadata": {
        "colab": {
          "base_uri": "https://localhost:8080/"
        },
        "id": "kA04IiD-6UjO",
        "outputId": "01009a86-c0e5-4d96-a200-eac212d77e1b"
      },
      "execution_count": 220,
      "outputs": [
        {
          "output_type": "execute_result",
          "data": {
            "text/plain": [
              "torch.Size([10, 2, 3, 3, 5])"
            ]
          },
          "metadata": {},
          "execution_count": 220
        }
      ]
    },
    {
      "cell_type": "code",
      "source": [
        "# broadcasting happens on the dimension 1 \n",
        "# let's consider the example\n",
        "t1 = torch.randn(500,2)\n",
        "t2 = torch.randn(500,500)\n",
        "torch.add(t1,t2).size() # it broadcast on 500 "
      ],
      "metadata": {
        "colab": {
          "base_uri": "https://localhost:8080/",
          "height": 253
        },
        "id": "UdeBikZC_fnh",
        "outputId": "95c21f5c-7fb4-429c-8737-8e183f23810f"
      },
      "execution_count": 222,
      "outputs": [
        {
          "output_type": "error",
          "ename": "RuntimeError",
          "evalue": "ignored",
          "traceback": [
            "\u001b[0;31m---------------------------------------------------------------------------\u001b[0m",
            "\u001b[0;31mRuntimeError\u001b[0m                              Traceback (most recent call last)",
            "\u001b[0;32m<ipython-input-222-70c3d975348a>\u001b[0m in \u001b[0;36m<module>\u001b[0;34m\u001b[0m\n\u001b[1;32m      3\u001b[0m \u001b[0mt1\u001b[0m \u001b[0;34m=\u001b[0m \u001b[0mtorch\u001b[0m\u001b[0;34m.\u001b[0m\u001b[0mrandn\u001b[0m\u001b[0;34m(\u001b[0m\u001b[0;36m500\u001b[0m\u001b[0;34m,\u001b[0m\u001b[0;36m2\u001b[0m\u001b[0;34m)\u001b[0m\u001b[0;34m\u001b[0m\u001b[0;34m\u001b[0m\u001b[0m\n\u001b[1;32m      4\u001b[0m \u001b[0mt2\u001b[0m \u001b[0;34m=\u001b[0m \u001b[0mtorch\u001b[0m\u001b[0;34m.\u001b[0m\u001b[0mrandn\u001b[0m\u001b[0;34m(\u001b[0m\u001b[0;36m500\u001b[0m\u001b[0;34m,\u001b[0m\u001b[0;36m500\u001b[0m\u001b[0;34m)\u001b[0m\u001b[0;34m\u001b[0m\u001b[0;34m\u001b[0m\u001b[0m\n\u001b[0;32m----> 5\u001b[0;31m \u001b[0mtorch\u001b[0m\u001b[0;34m.\u001b[0m\u001b[0madd\u001b[0m\u001b[0;34m(\u001b[0m\u001b[0mt1\u001b[0m\u001b[0;34m,\u001b[0m\u001b[0mt2\u001b[0m\u001b[0;34m)\u001b[0m\u001b[0;34m.\u001b[0m\u001b[0msize\u001b[0m\u001b[0;34m(\u001b[0m\u001b[0;34m)\u001b[0m \u001b[0;31m# it broadcast on 500\u001b[0m\u001b[0;34m\u001b[0m\u001b[0;34m\u001b[0m\u001b[0m\n\u001b[0m",
            "\u001b[0;31mRuntimeError\u001b[0m: The size of tensor a (2) must match the size of tensor b (500) at non-singleton dimension 1"
          ]
        }
      ]
    },
    {
      "cell_type": "code",
      "source": [
        "# let's consider the same example with 2 dimension\n",
        "t1 = torch.randn(500,1)\n",
        "t2 = torch.randn(500,500)\n",
        "torch.add(t1,t2).size() \n",
        "# it fails to broadcast non-singleton dimension 2 if it were 1 \n",
        "# it would broadcast it\n",
        "# therefore, we get error below"
      ],
      "metadata": {
        "colab": {
          "base_uri": "https://localhost:8080/"
        },
        "id": "bb-l_nvB8Kvu",
        "outputId": "1289fcda-d14d-42c1-ef84-b275f203dbfc"
      },
      "execution_count": 223,
      "outputs": [
        {
          "output_type": "execute_result",
          "data": {
            "text/plain": [
              "torch.Size([500, 500])"
            ]
          },
          "metadata": {},
          "execution_count": 223
        }
      ]
    },
    {
      "cell_type": "code",
      "source": [
        "# same goes for matmul too\n",
        "# batch matrix x batch matrix \n",
        "tensor1 = torch.randn(10,2,3,3,4)\n",
        "tensor2 = torch.randn(10,2,2,4,5) # changing 1 to 2\n",
        "torch.matmul(tensor1,tensor2).size() \n",
        "# now we get the error since it do not known how to broadcast on 2 with 3"
      ],
      "metadata": {
        "colab": {
          "base_uri": "https://localhost:8080/",
          "height": 288
        },
        "id": "kftL-X1QDxKj",
        "outputId": "fc5caf93-9b38-441e-aebf-f6d75345ea9e"
      },
      "execution_count": 224,
      "outputs": [
        {
          "output_type": "error",
          "ename": "RuntimeError",
          "evalue": "ignored",
          "traceback": [
            "\u001b[0;31m---------------------------------------------------------------------------\u001b[0m",
            "\u001b[0;31mRuntimeError\u001b[0m                              Traceback (most recent call last)",
            "\u001b[0;32m<ipython-input-224-efdfd33d58e1>\u001b[0m in \u001b[0;36m<module>\u001b[0;34m\u001b[0m\n\u001b[1;32m      3\u001b[0m \u001b[0mtensor1\u001b[0m \u001b[0;34m=\u001b[0m \u001b[0mtorch\u001b[0m\u001b[0;34m.\u001b[0m\u001b[0mrandn\u001b[0m\u001b[0;34m(\u001b[0m\u001b[0;36m10\u001b[0m\u001b[0;34m,\u001b[0m\u001b[0;36m2\u001b[0m\u001b[0;34m,\u001b[0m\u001b[0;36m3\u001b[0m\u001b[0;34m,\u001b[0m\u001b[0;36m3\u001b[0m\u001b[0;34m,\u001b[0m\u001b[0;36m4\u001b[0m\u001b[0;34m)\u001b[0m\u001b[0;34m\u001b[0m\u001b[0;34m\u001b[0m\u001b[0m\n\u001b[1;32m      4\u001b[0m \u001b[0mtensor2\u001b[0m \u001b[0;34m=\u001b[0m \u001b[0mtorch\u001b[0m\u001b[0;34m.\u001b[0m\u001b[0mrandn\u001b[0m\u001b[0;34m(\u001b[0m\u001b[0;36m10\u001b[0m\u001b[0;34m,\u001b[0m\u001b[0;36m2\u001b[0m\u001b[0;34m,\u001b[0m\u001b[0;36m2\u001b[0m\u001b[0;34m,\u001b[0m\u001b[0;36m4\u001b[0m\u001b[0;34m,\u001b[0m\u001b[0;36m5\u001b[0m\u001b[0;34m)\u001b[0m \u001b[0;31m# changing 1 to 2\u001b[0m\u001b[0;34m\u001b[0m\u001b[0;34m\u001b[0m\u001b[0m\n\u001b[0;32m----> 5\u001b[0;31m \u001b[0mtorch\u001b[0m\u001b[0;34m.\u001b[0m\u001b[0mmatmul\u001b[0m\u001b[0;34m(\u001b[0m\u001b[0mtensor1\u001b[0m\u001b[0;34m,\u001b[0m\u001b[0mtensor2\u001b[0m\u001b[0;34m)\u001b[0m\u001b[0;34m.\u001b[0m\u001b[0msize\u001b[0m\u001b[0;34m(\u001b[0m\u001b[0;34m)\u001b[0m\u001b[0;34m\u001b[0m\u001b[0;34m\u001b[0m\u001b[0m\n\u001b[0m\u001b[1;32m      6\u001b[0m \u001b[0;31m# now we get the error since it do not known how to broadcast on 2 with 3\u001b[0m\u001b[0;34m\u001b[0m\u001b[0;34m\u001b[0m\u001b[0;34m\u001b[0m\u001b[0m\n",
            "\u001b[0;31mRuntimeError\u001b[0m: The size of tensor a (3) must match the size of tensor b (2) at non-singleton dimension 2"
          ]
        }
      ]
    },
    {
      "cell_type": "markdown",
      "source": [
        "#### Linear Layer"
      ],
      "metadata": {
        "id": "HzKYfUhkGGoI"
      }
    },
    {
      "cell_type": "code",
      "source": [
        "#  making reproducible\n",
        "torch.manual_seed(42)\n",
        "# This uses matmul\n",
        "XtensorA = torch.randn(3,2)\n",
        "linear = torch.nn.Linear(in_features = 4, # N= matches inner dimension\n",
        "                         out_features = 180\n",
        "                        ) # H = describes outer dimension\n",
        "                        \n",
        "x = tensor1\n",
        "output = linear(x)\n",
        "print(f'Input shape: {x.shape} \\n')\n",
        "print(f'Output:\\n{output}\\n\\n output shape:{output.shape}')"
      ],
      "metadata": {
        "id": "S98Y3u8eETV-"
      },
      "execution_count": 229,
      "outputs": []
    },
    {
      "cell_type": "code",
      "source": [
        "t = torch.arange(1,100,9)\n",
        "t.type(torch.float32).mean()\n",
        "torch.mean(t.type(torch.float32))\n",
        "# mean won't work without float datatype"
      ],
      "metadata": {
        "colab": {
          "base_uri": "https://localhost:8080/"
        },
        "id": "OBRmwuJgHOZa",
        "outputId": "cab01c32-7879-4e20-b63e-db6b0f29e881"
      },
      "execution_count": 230,
      "outputs": [
        {
          "output_type": "execute_result",
          "data": {
            "text/plain": [
              "tensor(46.)"
            ]
          },
          "metadata": {},
          "execution_count": 230
        }
      ]
    },
    {
      "cell_type": "code",
      "source": [
        "stacked = torch.stack([t,t,t,t], dim=1\n",
        "                      )\n",
        "stacked = stacked.squeeze()\n",
        "stacked"
      ],
      "metadata": {
        "colab": {
          "base_uri": "https://localhost:8080/"
        },
        "id": "Vnu71y01_9R_",
        "outputId": "05883c3d-e798-4de9-cd5c-9a4d7b11ce20"
      },
      "execution_count": 231,
      "outputs": [
        {
          "output_type": "execute_result",
          "data": {
            "text/plain": [
              "tensor([[ 1,  1,  1,  1],\n",
              "        [10, 10, 10, 10],\n",
              "        [19, 19, 19, 19],\n",
              "        [28, 28, 28, 28],\n",
              "        [37, 37, 37, 37],\n",
              "        [46, 46, 46, 46],\n",
              "        [55, 55, 55, 55],\n",
              "        [64, 64, 64, 64],\n",
              "        [73, 73, 73, 73],\n",
              "        [82, 82, 82, 82],\n",
              "        [91, 91, 91, 91]])"
            ]
          },
          "metadata": {},
          "execution_count": 231
        }
      ]
    },
    {
      "cell_type": "code",
      "source": [
        "# reshaping \n",
        "import torch\n",
        "a = torch.arange(4.)\n",
        "torch.reshape(a,(2,2))\n"
      ],
      "metadata": {
        "colab": {
          "base_uri": "https://localhost:8080/"
        },
        "id": "xkj1GM1qIvRw",
        "outputId": "ce534b17-ff37-4cfc-c729-ebf4142d29d9"
      },
      "execution_count": 232,
      "outputs": [
        {
          "output_type": "execute_result",
          "data": {
            "text/plain": [
              "tensor([[0., 1.],\n",
              "        [2., 3.]])"
            ]
          },
          "metadata": {},
          "execution_count": 232
        }
      ]
    },
    {
      "cell_type": "code",
      "source": [
        "b = torch.tensor([[0,1],[2,3]])\n",
        "torch.reshape(b,(-1,))"
      ],
      "metadata": {
        "colab": {
          "base_uri": "https://localhost:8080/"
        },
        "id": "axQVNOd_Bfve",
        "outputId": "6ca1d50b-61c1-4f54-d383-f3fd767164f1"
      },
      "execution_count": 233,
      "outputs": [
        {
          "output_type": "execute_result",
          "data": {
            "text/plain": [
              "tensor([0, 1, 2, 3])"
            ]
          },
          "metadata": {},
          "execution_count": 233
        }
      ]
    },
    {
      "cell_type": "code",
      "source": [
        "x = torch.randn(4,4)\n",
        "x.size()"
      ],
      "metadata": {
        "colab": {
          "base_uri": "https://localhost:8080/"
        },
        "id": "gWaAU1VbBush",
        "outputId": "500208a1-fc77-441f-8e93-6c58f63095ef"
      },
      "execution_count": 237,
      "outputs": [
        {
          "output_type": "execute_result",
          "data": {
            "text/plain": [
              "torch.Size([4, 4])"
            ]
          },
          "metadata": {},
          "execution_count": 237
        }
      ]
    },
    {
      "cell_type": "markdown",
      "source": [
        "### Tensor.View\n",
        "Returns a new tensor with the same data as the self tensor but of a different shape.\n",
        "\n"
      ],
      "metadata": {
        "id": "NSwLdDNfLRvA"
      }
    },
    {
      "cell_type": "code",
      "source": [
        "x"
      ],
      "metadata": {
        "colab": {
          "base_uri": "https://localhost:8080/"
        },
        "id": "UTcrli1jn4F6",
        "outputId": "ed0a0852-c9af-4985-973c-0945ab97e475"
      },
      "execution_count": 239,
      "outputs": [
        {
          "output_type": "execute_result",
          "data": {
            "text/plain": [
              "tensor([[-0.7295,  0.4308,  0.2862, -0.2481],\n",
              "        [ 0.2040, -0.5630, -0.2829,  0.0731],\n",
              "        [-0.8018,  0.2771,  2.5599, -1.6952],\n",
              "        [ 0.1885,  0.4360, -1.4770, -1.2222]])"
            ]
          },
          "metadata": {},
          "execution_count": 239
        }
      ]
    },
    {
      "cell_type": "code",
      "source": [
        "# torch.tensor.view\n",
        "print(f\"size of original tensor: {x.size()}\")\n",
        "y = x.view(16) \n",
        "print(f\"size of y view: {y.size()} , \\n how it look :{y} \\n\")\n",
        "# The way we let PyTorch know that we don't know what the last number should be is we pass in a -1.\n",
        "z = x.view(-1,2)\n",
        "b = x.view(4,-1) # size -1 is inferred from other dimensions, which says idon't know \n",
        "# what dimension to get, so pytorch do it for me\n",
        "print(f\"size of z view: {z.size()}, \\n how it look :{z}\\n\")\n",
        "print(f\"size of b view: {b.size()}, \\n how it look : {b}\\n\")"
      ],
      "metadata": {
        "colab": {
          "base_uri": "https://localhost:8080/"
        },
        "id": "FtkXhAmhCpzG",
        "outputId": "5b65d2f1-05c7-42b2-ee9f-b09d61d8e213"
      },
      "execution_count": 242,
      "outputs": [
        {
          "output_type": "stream",
          "name": "stdout",
          "text": [
            "size of original tensor: torch.Size([4, 4])\n",
            "size of y view: torch.Size([16]) , \n",
            " how it look :tensor([-0.7295,  0.4308,  0.2862, -0.2481,  0.2040, -0.5630, -0.2829,  0.0731,\n",
            "        -0.8018,  0.2771,  2.5599, -1.6952,  0.1885,  0.4360, -1.4770, -1.2222]) \n",
            "\n",
            "size of z view: torch.Size([8, 2]), \n",
            " how it look :tensor([[-0.7295,  0.4308],\n",
            "        [ 0.2862, -0.2481],\n",
            "        [ 0.2040, -0.5630],\n",
            "        [-0.2829,  0.0731],\n",
            "        [-0.8018,  0.2771],\n",
            "        [ 2.5599, -1.6952],\n",
            "        [ 0.1885,  0.4360],\n",
            "        [-1.4770, -1.2222]])\n",
            "\n",
            "size of b view: torch.Size([4, 4]), \n",
            " how it look : tensor([[-0.7295,  0.4308,  0.2862, -0.2481],\n",
            "        [ 0.2040, -0.5630, -0.2829,  0.0731],\n",
            "        [-0.8018,  0.2771,  2.5599, -1.6952],\n",
            "        [ 0.1885,  0.4360, -1.4770, -1.2222]])\n",
            "\n"
          ]
        }
      ]
    },
    {
      "cell_type": "code",
      "source": [
        "# view(dtype)\n",
        "x = torch.randn(4,4)\n",
        "print(f\"tensor x: {x}\\n\")\n",
        "print(f\"\\ndata type for tensor x : {x.dtype}\")"
      ],
      "metadata": {
        "colab": {
          "base_uri": "https://localhost:8080/"
        },
        "id": "0t4XUvOLC0dd",
        "outputId": "4c40b04e-40eb-492b-e1d5-cbde666fcba8"
      },
      "execution_count": 243,
      "outputs": [
        {
          "output_type": "stream",
          "name": "stdout",
          "text": [
            "tensor x: tensor([[-0.2415,  1.3204,  1.5997, -1.0792],\n",
            "        [-0.3396, -1.4538, -2.6740,  1.5984],\n",
            "        [ 1.2068,  0.5722,  0.0653, -0.0235],\n",
            "        [ 0.8876,  1.4689,  1.2647, -0.2753]])\n",
            "\n",
            "\n",
            "data type for tensor x : torch.float32\n"
          ]
        }
      ]
    },
    {
      "cell_type": "code",
      "source": [
        "y = x.view(torch.int32)\n",
        "print(f\"view tensor y: {y}\\n\")\n",
        "print(f\"\\ndata type for tensor y : {y.dtype}\")"
      ],
      "metadata": {
        "colab": {
          "base_uri": "https://localhost:8080/"
        },
        "id": "HhftqQRrGUj0",
        "outputId": "5eda4769-824c-45e0-85ac-ab4e618c8694"
      },
      "execution_count": 244,
      "outputs": [
        {
          "output_type": "stream",
          "name": "stdout",
          "text": [
            "view tensor y: tensor([[-1099478973,  1068041323,  1070383839, -1081465695],\n",
            "        [-1095900844, -1078323605, -1070914835,  1070372698],\n",
            "        [ 1067087984,  1058175542,  1032173084, -1128256222],\n",
            "        [ 1063467552,  1069286662,  1067573667, -1098059595]],\n",
            "       dtype=torch.int32)\n",
            "\n",
            "\n",
            "data type for tensor y : torch.int32\n"
          ]
        }
      ]
    },
    {
      "cell_type": "code",
      "source": [
        "x\n",
        "print(f\"size of float32 default tensor: {x.size()}\")\n",
        "print(f\"size of x.view for cfloat dtype tensor: {x.view(torch.cfloat).size()}\")\n",
        "print(f\"size of x.view for uint8 dtype tensor: {x.view(torch.uint8).size()}\")\n",
        "print(f\"size of x.view for bool dtype tensor: {x.view(torch.bool).size()}\")\n",
        "print(f\"size of x.view for float16 dtype tensor: {x.view(torch.float16).size()},\\nwhen precision in important at expense\\n\")\n",
        "print(f\"size of x.view for bfloat16 dtype tensor: {x.view(torch.bfloat16).size()}\")\n",
        "print(f\"size of x.view for complex double dtype tensor: {x.view(torch.cdouble).size()}, \\nbrain floating useful when range is important at expense\")\n"
      ],
      "metadata": {
        "colab": {
          "base_uri": "https://localhost:8080/"
        },
        "id": "I3vJsZ0LGvAY",
        "outputId": "8a4e5f3a-8a34-426b-e6fe-410112a8c627"
      },
      "execution_count": 245,
      "outputs": [
        {
          "output_type": "stream",
          "name": "stdout",
          "text": [
            "size of float32 default tensor: torch.Size([4, 4])\n",
            "size of x.view for cfloat dtype tensor: torch.Size([4, 2])\n",
            "size of x.view for uint8 dtype tensor: torch.Size([4, 16])\n",
            "size of x.view for bool dtype tensor: torch.Size([4, 16])\n",
            "size of x.view for float16 dtype tensor: torch.Size([4, 8]),\n",
            "when precision in important at expense\n",
            "\n",
            "size of x.view for bfloat16 dtype tensor: torch.Size([4, 8])\n",
            "size of x.view for complex double dtype tensor: torch.Size([4, 1]), \n",
            "brain floating useful when range is important at expense\n"
          ]
        }
      ]
    },
    {
      "cell_type": "markdown",
      "source": [
        "### unsqueeze\n",
        "\n",
        "Returns a new tensor with a dimension of size one inserted at the specified position.\n",
        "\n"
      ],
      "metadata": {
        "id": "0po4-1WzL4KJ"
      }
    },
    {
      "cell_type": "code",
      "source": [
        "x = torch.tensor([1,2,3,4])\n",
        "print(f\"dimension of TESNOR and TENSOR: {x.ndim, x}\")\n",
        "print(f'unsqueeze the tensor along 0: {torch.unsqueeze(x,0)}, \\nmaking it: {torch.unsqueeze(x,0).ndim}d')\n",
        "print(f'unsqueeze the tensor along 1: {torch.unsqueeze(x,1)} \\nmaking it: {torch.unsqueeze(x,1).ndim}d')"
      ],
      "metadata": {
        "colab": {
          "base_uri": "https://localhost:8080/"
        },
        "id": "_81g4Fl8Hcy8",
        "outputId": "c433ee9b-5316-4368-be44-edfa7e548e15"
      },
      "execution_count": 247,
      "outputs": [
        {
          "output_type": "stream",
          "name": "stdout",
          "text": [
            "dimension of TESNOR and TENSOR: (1, tensor([1, 2, 3, 4]))\n",
            "unsqueeze the tensor along 0: tensor([[1, 2, 3, 4]]), \n",
            "making it: 2d\n",
            "unsqueeze the tensor along 1: tensor([[1],\n",
            "        [2],\n",
            "        [3],\n",
            "        [4]]) \n",
            "making it: 2d\n"
          ]
        }
      ]
    },
    {
      "cell_type": "markdown",
      "source": [
        "### TORCH.PERMUTE\n",
        "Returns a view of the original tensor input with its dimensions rearranged"
      ],
      "metadata": {
        "id": "-oNjNGGRP1Wx"
      }
    },
    {
      "cell_type": "code",
      "source": [
        "x = torch.randn(2,3,5)\n",
        "print(f'dimension of the orignal tensor :{x.size()}')\n",
        "print(f'dimension of the view permuted 0->2 1->0 2->1: {torch.permute(x,(2,0,1)).size()}')"
      ],
      "metadata": {
        "colab": {
          "base_uri": "https://localhost:8080/"
        },
        "id": "mnPt4FaUMDCV",
        "outputId": "37e3f04c-d6c9-4c24-d08d-ff27771f9776"
      },
      "execution_count": 248,
      "outputs": [
        {
          "output_type": "stream",
          "name": "stdout",
          "text": [
            "dimension of the orignal tensor :torch.Size([2, 3, 5])\n",
            "dimension of the view permuted 0->2 1->0 2->1: torch.Size([5, 2, 3])\n"
          ]
        }
      ]
    },
    {
      "cell_type": "markdown",
      "source": [
        "#### pyTorch tensors & NumPy\n"
      ],
      "metadata": {
        "id": "DVOs8tEy-6mv"
      }
    },
    {
      "cell_type": "code",
      "source": [
        "import numpy\n",
        "a = numpy.array([1,2,3])\n",
        "t = torch.from_numpy(a)\n",
        "t[0] = -1 # changing tensor changes the ndarray too.\n",
        "a"
      ],
      "metadata": {
        "colab": {
          "base_uri": "https://localhost:8080/"
        },
        "id": "VimCYHUDQC2X",
        "outputId": "b3ee02ad-4f72-4368-a481-f026f0cbc275"
      },
      "execution_count": 249,
      "outputs": [
        {
          "output_type": "execute_result",
          "data": {
            "text/plain": [
              "array([-1,  2,  3])"
            ]
          },
          "metadata": {},
          "execution_count": 249
        }
      ]
    },
    {
      "cell_type": "code",
      "source": [
        "# by default we need float32 but numpy uses 64 \n",
        "# so we need to convert\n",
        "t = torch.from_numpy(a).type(torch.float32)\n",
        "t.dtype\n"
      ],
      "metadata": {
        "colab": {
          "base_uri": "https://localhost:8080/"
        },
        "id": "ukXFCfjs_po8",
        "outputId": "6481a4c0-f135-43a5-b2f3-8abaec1884df"
      },
      "execution_count": 250,
      "outputs": [
        {
          "output_type": "execute_result",
          "data": {
            "text/plain": [
              "torch.float32"
            ]
          },
          "metadata": {},
          "execution_count": 250
        }
      ]
    },
    {
      "cell_type": "code",
      "source": [
        "# change the array, keep the tensor\n",
        "a = a+1\n",
        "a, t"
      ],
      "metadata": {
        "colab": {
          "base_uri": "https://localhost:8080/"
        },
        "id": "Nxor-_TxAsRf",
        "outputId": "05a0ed92-cf40-44da-c904-9ae18d9de0c5"
      },
      "execution_count": 251,
      "outputs": [
        {
          "output_type": "execute_result",
          "data": {
            "text/plain": [
              "(array([0, 3, 4]), tensor([-1.,  2.,  3.]))"
            ]
          },
          "metadata": {},
          "execution_count": 251
        }
      ]
    },
    {
      "cell_type": "code",
      "source": [
        "#tensor to numpy array\n",
        "tensor = torch.ones(7)\n",
        "numpy_tensor = tensor.numpy()\n",
        "tensor, numpy_tensor"
      ],
      "metadata": {
        "colab": {
          "base_uri": "https://localhost:8080/"
        },
        "id": "oVx0MOyDA3rS",
        "outputId": "c91de0ec-a7cc-4c8b-92e4-9332a998bc75"
      },
      "execution_count": 252,
      "outputs": [
        {
          "output_type": "execute_result",
          "data": {
            "text/plain": [
              "(tensor([1., 1., 1., 1., 1., 1., 1.]),\n",
              " array([1., 1., 1., 1., 1., 1., 1.], dtype=float32))"
            ]
          },
          "metadata": {},
          "execution_count": 252
        }
      ]
    },
    {
      "cell_type": "code",
      "source": [
        "# now if we change the tensor the following numpy remains same\n",
        "tensor = tensor + 1\n",
        "tensor, numpy_tensor\n"
      ],
      "metadata": {
        "colab": {
          "base_uri": "https://localhost:8080/"
        },
        "id": "Mo8Pq9jjBe2O",
        "outputId": "6f44571b-2f57-45ac-b507-641c6d3310db"
      },
      "execution_count": 253,
      "outputs": [
        {
          "output_type": "execute_result",
          "data": {
            "text/plain": [
              "(tensor([2., 2., 2., 2., 2., 2., 2.]),\n",
              " array([1., 1., 1., 1., 1., 1., 1.], dtype=float32))"
            ]
          },
          "metadata": {},
          "execution_count": 253
        }
      ]
    },
    {
      "cell_type": "code",
      "source": [
        "import torch\n",
        "import random \n",
        "\n",
        "RANDOM_SEED = 42\n",
        "torch.manual_seed(seed=RANDOM_SEED)\n",
        "tensor = torch.randn(3,4)\n",
        "tensor"
      ],
      "metadata": {
        "colab": {
          "base_uri": "https://localhost:8080/"
        },
        "id": "Sbl2AmboBtB8",
        "outputId": "b78daebd-6f13-4a02-faec-bd39f59598fe"
      },
      "execution_count": 254,
      "outputs": [
        {
          "output_type": "execute_result",
          "data": {
            "text/plain": [
              "tensor([[ 0.3367,  0.1288,  0.2345,  0.2303],\n",
              "        [-1.1229, -0.1863,  2.2082, -0.6380],\n",
              "        [ 0.4617,  0.2674,  0.5349,  0.8094]])"
            ]
          },
          "metadata": {},
          "execution_count": 254
        }
      ]
    },
    {
      "cell_type": "code",
      "source": [
        "!nvidia-smi"
      ],
      "metadata": {
        "colab": {
          "base_uri": "https://localhost:8080/"
        },
        "id": "8mbBGRDb5V30",
        "outputId": "ef145e0f-8c0d-48bf-a4f2-c7ac785ffe18"
      },
      "execution_count": 255,
      "outputs": [
        {
          "output_type": "stream",
          "name": "stdout",
          "text": [
            "Fri Sep 23 18:38:56 2022       \n",
            "+-----------------------------------------------------------------------------+\n",
            "| NVIDIA-SMI 460.32.03    Driver Version: 460.32.03    CUDA Version: 11.2     |\n",
            "|-------------------------------+----------------------+----------------------+\n",
            "| GPU  Name        Persistence-M| Bus-Id        Disp.A | Volatile Uncorr. ECC |\n",
            "| Fan  Temp  Perf  Pwr:Usage/Cap|         Memory-Usage | GPU-Util  Compute M. |\n",
            "|                               |                      |               MIG M. |\n",
            "|===============================+======================+======================|\n",
            "|   0  Tesla T4            Off  | 00000000:00:04.0 Off |                    0 |\n",
            "| N/A   70C    P0    32W /  70W |    610MiB / 15109MiB |      0%      Default |\n",
            "|                               |                      |                  N/A |\n",
            "+-------------------------------+----------------------+----------------------+\n",
            "                                                                               \n",
            "+-----------------------------------------------------------------------------+\n",
            "| Processes:                                                                  |\n",
            "|  GPU   GI   CI        PID   Type   Process name                  GPU Memory |\n",
            "|        ID   ID                                                   Usage      |\n",
            "|=============================================================================|\n",
            "+-----------------------------------------------------------------------------+\n"
          ]
        }
      ]
    },
    {
      "cell_type": "code",
      "source": [
        "# check for GPU\n",
        "import torch\n",
        "torch.cuda.is_available()\n"
      ],
      "metadata": {
        "colab": {
          "base_uri": "https://localhost:8080/"
        },
        "id": "TztseL_e6H74",
        "outputId": "8b4b538f-9cca-4bc3-bff6-12c295d0e126"
      },
      "execution_count": 256,
      "outputs": [
        {
          "output_type": "execute_result",
          "data": {
            "text/plain": [
              "True"
            ]
          },
          "metadata": {},
          "execution_count": 256
        }
      ]
    },
    {
      "cell_type": "code",
      "source": [
        "# set device type\n",
        "device = \"cuda\" if torch.cuda.is_available() else \"cpu\"\n",
        "device"
      ],
      "metadata": {
        "colab": {
          "base_uri": "https://localhost:8080/",
          "height": 35
        },
        "id": "62tAYaUc6sCn",
        "outputId": "78f6daad-b8c0-4821-b9d3-df624179ce56"
      },
      "execution_count": 257,
      "outputs": [
        {
          "output_type": "execute_result",
          "data": {
            "text/plain": [
              "'cuda'"
            ],
            "application/vnd.google.colaboratory.intrinsic+json": {
              "type": "string"
            }
          },
          "metadata": {},
          "execution_count": 257
        }
      ]
    },
    {
      "cell_type": "code",
      "source": [
        "# Count number of devices\n",
        "torch.cuda.device_count()"
      ],
      "metadata": {
        "colab": {
          "base_uri": "https://localhost:8080/"
        },
        "id": "LMWRL5d36-hu",
        "outputId": "ee351524-5547-47f7-ca88-9fe6756c144d"
      },
      "execution_count": 258,
      "outputs": [
        {
          "output_type": "execute_result",
          "data": {
            "text/plain": [
              "1"
            ]
          },
          "metadata": {},
          "execution_count": 258
        }
      ]
    },
    {
      "cell_type": "code",
      "source": [
        "# reassign tensor (default on CPU)\n",
        "tensor = torch.tensor([1,2,3])\n",
        "\n",
        "# Tensor not on GPU\n",
        "print(tensor, tensor.device)\n",
        "\n",
        "# Move tensor to. GPU(if available)\n",
        "tensor_on_GPU = tensor.to(device)\n",
        "tensor_on_GPU"
      ],
      "metadata": {
        "colab": {
          "base_uri": "https://localhost:8080/"
        },
        "id": "FarivDDa7OCw",
        "outputId": "93024f39-6e2e-43f6-c84a-137e9f491fe2"
      },
      "execution_count": 259,
      "outputs": [
        {
          "output_type": "stream",
          "name": "stdout",
          "text": [
            "tensor([1, 2, 3]) cpu\n"
          ]
        },
        {
          "output_type": "execute_result",
          "data": {
            "text/plain": [
              "tensor([1, 2, 3], device='cuda:0')"
            ]
          },
          "metadata": {},
          "execution_count": 259
        }
      ]
    },
    {
      "cell_type": "code",
      "source": [
        "# moving back tensor on CPU\n",
        "# why? : to interact with numpy coz numpy does not leverage GPU\n",
        "tensor_cpu = tensor_on_GPU.cpu()\n",
        "tensor_cpu.device"
      ],
      "metadata": {
        "colab": {
          "base_uri": "https://localhost:8080/"
        },
        "id": "T8DX6s4F8Kiy",
        "outputId": "7aae9fb4-2d30-4e94-8a82-46eef8c8a55d"
      },
      "execution_count": 260,
      "outputs": [
        {
          "output_type": "execute_result",
          "data": {
            "text/plain": [
              "device(type='cpu')"
            ]
          },
          "metadata": {},
          "execution_count": 260
        }
      ]
    },
    {
      "cell_type": "code",
      "source": [
        "import argparse\n",
        "import torch\n",
        "\n",
        "parser = argparse.ArgumentParser(description='PyTorch Example')\n",
        "parser.add_argument('--disable-cuda', action='store_true',\n",
        "                    help='Disable CUDA')\n",
        "args = parser.parse_args()\n",
        "args.device = None\n",
        "if not args.disable_cuda and torch.cuda.is_available():\n",
        "    args.device = torch.device('cuda')\n",
        "else:\n",
        "    args.device = torch.device('cpu')"
      ],
      "metadata": {
        "colab": {
          "base_uri": "https://localhost:8080/",
          "height": 204
        },
        "id": "eBBI9J6T9IDA",
        "outputId": "6c87c9fb-d6dc-4d26-fbe1-310af78be2b4"
      },
      "execution_count": 261,
      "outputs": [
        {
          "output_type": "stream",
          "name": "stderr",
          "text": [
            "usage: ipykernel_launcher.py [-h] [--disable-cuda]\n",
            "ipykernel_launcher.py: error: unrecognized arguments: -f /root/.local/share/jupyter/runtime/kernel-02144f8f-8580-4d9f-a7a2-0ab955310924.json\n"
          ]
        },
        {
          "output_type": "error",
          "ename": "SystemExit",
          "evalue": "ignored",
          "traceback": [
            "An exception has occurred, use %tb to see the full traceback.\n",
            "\u001b[0;31mSystemExit\u001b[0m\u001b[0;31m:\u001b[0m 2\n"
          ]
        },
        {
          "output_type": "stream",
          "name": "stderr",
          "text": [
            "/usr/local/lib/python3.7/dist-packages/IPython/core/interactiveshell.py:3334: UserWarning: To exit: use 'exit', 'quit', or Ctrl-D.\n",
            "  warn(\"To exit: use 'exit', 'quit', or Ctrl-D.\", stacklevel=1)\n"
          ]
        }
      ]
    },
    {
      "cell_type": "code",
      "source": [
        "# creating random tensor \n",
        "random_seed = 0\n",
        "torch.manual_seed(seed=random_seed)\n",
        "tensor = torch.rand(3,4)\n",
        "tensor2 = torch.randn(4,3)\n",
        "torch.matmul(tensor2,tensor)"
      ],
      "metadata": {
        "colab": {
          "base_uri": "https://localhost:8080/"
        },
        "id": "J4hmvuAjD9A9",
        "outputId": "e3610b4a-4a7b-4705-8adf-27356fc5f3eb"
      },
      "execution_count": 262,
      "outputs": [
        {
          "output_type": "execute_result",
          "data": {
            "text/plain": [
              "tensor([[ 0.1301,  0.3864,  0.1955,  0.5156],\n",
              "        [-0.3006, -0.5731, -0.2646, -0.5150],\n",
              "        [-0.5748, -0.6376,  0.0899,  0.4432],\n",
              "        [ 0.0568, -0.0289, -0.1365, -0.3416]])"
            ]
          },
          "metadata": {},
          "execution_count": 262
        }
      ]
    },
    {
      "cell_type": "code",
      "source": [
        "torch.manual_seed(seed=random_seed)\n",
        "\n",
        "ten_2 = torch.randn(1,7)\n",
        "ten_3 = torch.randn(1,7)\n",
        "print(ten_2)\n",
        "print(ten_3)\n",
        "print(f\"multiplication of tensors\\n {ten_3.T @ ten_2}\")"
      ],
      "metadata": {
        "colab": {
          "base_uri": "https://localhost:8080/"
        },
        "id": "0aHSSzXrEhc8",
        "outputId": "5c821582-8250-4b50-8a07-13cc80b6d20c"
      },
      "execution_count": 263,
      "outputs": [
        {
          "output_type": "stream",
          "name": "stdout",
          "text": [
            "tensor([[ 1.5410, -0.2934, -2.1788,  0.5684, -1.0845, -1.3986,  0.4033]])\n",
            "tensor([[ 0.8380, -0.7193, -0.4033, -0.5966,  0.1820, -0.8567,  1.1006]])\n",
            "multiplication of tensors\n",
            " tensor([[ 1.2914, -0.2459, -1.8259,  0.4764, -0.9089, -1.1721,  0.3380],\n",
            "        [-1.1084,  0.2111,  1.5671, -0.4088,  0.7801,  1.0060, -0.2901],\n",
            "        [-0.6216,  0.1184,  0.8788, -0.2293,  0.4374,  0.5641, -0.1627],\n",
            "        [-0.9194,  0.1751,  1.2999, -0.3391,  0.6471,  0.8345, -0.2407],\n",
            "        [ 0.2805, -0.0534, -0.3966,  0.1035, -0.1974, -0.2546,  0.0734],\n",
            "        [-1.3201,  0.2514,  1.8665, -0.4870,  0.9291,  1.1981, -0.3455],\n",
            "        [ 1.6960, -0.3229, -2.3980,  0.6256, -1.1936, -1.5393,  0.4439]])\n"
          ]
        }
      ]
    },
    {
      "cell_type": "code",
      "source": [
        "torch.cuda.manual_seed(1234)"
      ],
      "metadata": {
        "id": "L1KjaPwGFGxe"
      },
      "execution_count": 264,
      "outputs": []
    },
    {
      "cell_type": "code",
      "source": [
        "torch.manual_seed(1234)\n",
        "tensor1 = torch.rand(2,3)\n",
        "torch.manual_seed(1234)\n",
        "tensor2 = torch.rand(2,3)\n",
        "tensor1.to(device),tensor2.to(device)"
      ],
      "metadata": {
        "colab": {
          "base_uri": "https://localhost:8080/"
        },
        "id": "nAytbNmnFr3U",
        "outputId": "e4e48232-9a9d-40a2-bd79-95a89474aaa5"
      },
      "execution_count": 265,
      "outputs": [
        {
          "output_type": "execute_result",
          "data": {
            "text/plain": [
              "(tensor([[0.0290, 0.4019, 0.2598],\n",
              "         [0.3666, 0.0583, 0.7006]], device='cuda:0'),\n",
              " tensor([[0.0290, 0.4019, 0.2598],\n",
              "         [0.3666, 0.0583, 0.7006]], device='cuda:0'))"
            ]
          },
          "metadata": {},
          "execution_count": 265
        }
      ]
    },
    {
      "cell_type": "code",
      "source": [
        "print(f'minimum and maximum: {torch.matmul(tensor1,tensor2.T).min(),torch.matmul(tensor1,tensor2.T).max()}')\n",
        "print(f'index value of min and max: {torch.matmul(tensor1,tensor2.T).argmin().item(),torch.matmul(tensor1,tensor2.T).argmax().item()}')\n"
      ],
      "metadata": {
        "colab": {
          "base_uri": "https://localhost:8080/"
        },
        "id": "MGqkRy6VMD88",
        "outputId": "17c72993-87f2-4737-e258-989956f48a3a"
      },
      "execution_count": 266,
      "outputs": [
        {
          "output_type": "stream",
          "name": "stdout",
          "text": [
            "minimum and maximum: (tensor(0.2161), tensor(0.6287))\n",
            "index value of min and max: (1, 3)\n"
          ]
        }
      ]
    },
    {
      "cell_type": "code",
      "source": [
        "tensor = torch.randn(1,1,1,10)\n",
        "tensor_new = torch.squeeze(tensor)\n",
        "tensor_new.shape"
      ],
      "metadata": {
        "colab": {
          "base_uri": "https://localhost:8080/"
        },
        "id": "h3Ax57oMMPlK",
        "outputId": "01091be7-1cb1-464c-cb6a-84f2970a4298"
      },
      "execution_count": 267,
      "outputs": [
        {
          "output_type": "execute_result",
          "data": {
            "text/plain": [
              "torch.Size([10])"
            ]
          },
          "metadata": {},
          "execution_count": 267
        }
      ]
    },
    {
      "cell_type": "code",
      "source": [
        "torch.rand(2)\n",
        "torch.rand(1,7).ndim"
      ],
      "metadata": {
        "colab": {
          "base_uri": "https://localhost:8080/"
        },
        "id": "tiB_9jipNhwb",
        "outputId": "a3aa328a-b5e0-4331-8f0a-93f57f782bb4"
      },
      "execution_count": 268,
      "outputs": [
        {
          "output_type": "execute_result",
          "data": {
            "text/plain": [
              "2"
            ]
          },
          "metadata": {},
          "execution_count": 268
        }
      ]
    },
    {
      "cell_type": "code",
      "source": [],
      "metadata": {
        "id": "AkgUprlwOuba"
      },
      "execution_count": 268,
      "outputs": []
    }
  ]
}